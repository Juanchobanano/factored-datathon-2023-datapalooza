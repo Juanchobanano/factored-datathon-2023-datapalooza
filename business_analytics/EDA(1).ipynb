{
 "cells": [
  {
   "cell_type": "code",
   "execution_count": 0,
   "metadata": {
    "application/vnd.databricks.v1+cell": {
     "cellMetadata": {},
     "inputWidgets": {},
     "nuid": "16a0ec27-e997-443c-bee2-38c5942a494f",
     "showTitle": false,
     "title": ""
    },
    "colab": {
     "base_uri": "https://localhost:8080/"
    },
    "id": "HPRXKGnBnBmj",
    "outputId": "adfb5f47-fc18-4c8c-fd45-8e489feeaa8c"
   },
   "outputs": [],
   "source": [
    "!pip install delta-sharing"
   ]
  },
  {
   "cell_type": "code",
   "execution_count": 0,
   "metadata": {
    "application/vnd.databricks.v1+cell": {
     "cellMetadata": {},
     "inputWidgets": {},
     "nuid": "e0ad0601-b4b2-4d23-a8c5-dcfbc0a1c01d",
     "showTitle": false,
     "title": ""
    },
    "id": "NABJVH01nR8I"
   },
   "outputs": [],
   "source": [
    "import delta_sharing\n",
    "\n",
    "# Point to the profile file. It can be a file on the local file system or a file on a remote storage.\n",
    "profile_file = \"/content/config.share\"\n"
   ]
  },
  {
   "cell_type": "code",
   "execution_count": 0,
   "metadata": {
    "application/vnd.databricks.v1+cell": {
     "cellMetadata": {},
     "inputWidgets": {},
     "nuid": "064e0213-1e6f-4d14-88f4-4f12dabe62f2",
     "showTitle": false,
     "title": ""
    },
    "id": "RxehEWlnneKp"
   },
   "outputs": [],
   "source": [
    "# Create a SharingClient.\n",
    "client = delta_sharing.SharingClient(profile_file)"
   ]
  },
  {
   "cell_type": "code",
   "execution_count": 0,
   "metadata": {
    "application/vnd.databricks.v1+cell": {
     "cellMetadata": {},
     "inputWidgets": {},
     "nuid": "1c8c5b13-e306-46e9-81af-2e5f069b9d26",
     "showTitle": false,
     "title": ""
    },
    "colab": {
     "base_uri": "https://localhost:8080/"
    },
    "id": "cEh971sgnflp",
    "outputId": "47b4fa6c-ff68-464b-d7b4-563deea6bbeb"
   },
   "outputs": [],
   "source": [
    "# List all shared tables.\n",
    "client.list_all_tables()"
   ]
  },
  {
   "cell_type": "code",
   "execution_count": 0,
   "metadata": {
    "application/vnd.databricks.v1+cell": {
     "cellMetadata": {},
     "inputWidgets": {},
     "nuid": "17e75173-1f29-4677-b1da-82bfcaf76bf7",
     "showTitle": false,
     "title": ""
    },
    "id": "YNo3-2tKnhFB"
   },
   "outputs": [],
   "source": [
    "# Create a url to access a shared table.\n",
    "# A table path is the profile file path following with `#` and the fully qualified name of a table\n",
    "# (`<share-name>.<schema-name>.<table-name>`).\n",
    "table_url = profile_file + \"#share__products.bronze.sample_amazon_reviews\""
   ]
  },
  {
   "cell_type": "code",
   "execution_count": 0,
   "metadata": {
    "application/vnd.databricks.v1+cell": {
     "cellMetadata": {},
     "inputWidgets": {},
     "nuid": "a68e7176-efdb-4a2c-a842-a123d3fd60e7",
     "showTitle": false,
     "title": ""
    },
    "id": "iDL813jtnkXw"
   },
   "outputs": [],
   "source": [
    "# Fetch 10 rows from a table and convert it to a Pandas DataFrame. This can be used to read sample data\n",
    "# from a table that cannot fit in the memory.\n",
    "# delta_sharing.load_as_pandas(table_url, limit=10)\n",
    "\n",
    "# Load a table as a Pandas DataFrame. This can be used to process tables that can fit in the memory.\n",
    "# delta_sharing.load_as_pandas(table_url)\n",
    "\n",
    "# If the code is running with PySpark, you can use `load_as_spark` to load the table as a Spark DataFrame.\n",
    "# delta_sharing.load_as_spark(table_url)\n"
   ]
  },
  {
   "cell_type": "code",
   "execution_count": 0,
   "metadata": {
    "application/vnd.databricks.v1+cell": {
     "cellMetadata": {},
     "inputWidgets": {},
     "nuid": "510f6083-87d6-4fcd-9247-4cdb65290486",
     "showTitle": false,
     "title": ""
    },
    "colab": {
     "base_uri": "https://localhost:8080/",
     "height": 35
    },
    "id": "BEY-B9hgrhkU",
    "outputId": "0039951b-0a4e-4b57-d349-6d0c46fddead"
   },
   "outputs": [],
   "source": [
    "table_url"
   ]
  },
  {
   "cell_type": "markdown",
   "metadata": {
    "application/vnd.databricks.v1+cell": {
     "cellMetadata": {},
     "inputWidgets": {},
     "nuid": "1c794a62-ff42-4772-8d26-76837b4da0ed",
     "showTitle": false,
     "title": ""
    },
    "id": "wX-M2ebmtuf0"
   },
   "source": [
    "# EDA"
   ]
  },
  {
   "cell_type": "markdown",
   "metadata": {
    "application/vnd.databricks.v1+cell": {
     "cellMetadata": {},
     "inputWidgets": {},
     "nuid": "ef42574a-5ab4-4356-a602-b5f17591c4f9",
     "showTitle": false,
     "title": ""
    },
    "id": "G-yHgai0wI33"
   },
   "source": [
    "### Preguntas\n",
    "- Las imagenes existen?\n",
    "- Como podemos analizar que una review sea verificada. Son mas importantes?\n",
    "-  Existen productos puntuados pero sin reseñas.\n",
    "- Existe una forma de ver el producto?: Seria interesante poder visualizar el producto que se quiere mejorar.\n",
    "- *unixReviewTime*: Este tiempo es para la verificación de la review? y este tiempo en que unidades es."
   ]
  },
  {
   "cell_type": "markdown",
   "metadata": {
    "application/vnd.databricks.v1+cell": {
     "cellMetadata": {},
     "inputWidgets": {},
     "nuid": "18e46c75-77c2-4206-89b7-74ccf71e0b96",
     "showTitle": false,
     "title": ""
    },
    "id": "cvDXDW8_0o7t"
   },
   "source": [
    "## Primera revisión\n",
    "\n",
    "La mayoría de imagenes no se encuentra, las imagenes son una url. Seria bueno revisar la metadata para ver si podemos optener las imagenes de los productos. Adicional mente, hay reviews vacios donde solo se tienen las puntuaciones. Sobre *unixReviewTime*, si es el tiempo de verificación, seria bueno saber cuanto es el costo de cuanto demora esa revisión."
   ]
  },
  {
   "cell_type": "code",
   "execution_count": 0,
   "metadata": {
    "application/vnd.databricks.v1+cell": {
     "cellMetadata": {},
     "inputWidgets": {},
     "nuid": "f7e8637a-c3f3-4a3f-bb76-9ba36da67de7",
     "showTitle": false,
     "title": ""
    },
    "colab": {
     "base_uri": "https://localhost:8080/",
     "height": 406
    },
    "id": "fH6HUp4Rtt6Q",
    "outputId": "b0bd5cd7-cd2c-49b9-efc0-9cfc9fe186c9"
   },
   "outputs": [],
   "source": [
    "data = delta_sharing.load_as_pandas(table_url)\n",
    "data.head()"
   ]
  },
  {
   "cell_type": "code",
   "execution_count": 0,
   "metadata": {
    "application/vnd.databricks.v1+cell": {
     "cellMetadata": {},
     "inputWidgets": {},
     "nuid": "dc6fb24d-bffa-40b0-8d4c-63b03029c97e",
     "showTitle": false,
     "title": ""
    },
    "colab": {
     "base_uri": "https://localhost:8080/",
     "height": 643
    },
    "id": "P_NO_zBew-ag",
    "outputId": "00e610a8-b275-4458-ea7e-15e1f9930b92"
   },
   "outputs": [],
   "source": [
    "import missingno as msno\n",
    "\n",
    "msno.matrix(data)"
   ]
  },
  {
   "cell_type": "code",
   "execution_count": 0,
   "metadata": {
    "application/vnd.databricks.v1+cell": {
     "cellMetadata": {},
     "inputWidgets": {},
     "nuid": "5c4956ea-e1b9-48fe-a152-98ad07638bbf",
     "showTitle": false,
     "title": ""
    },
    "colab": {
     "base_uri": "https://localhost:8080/"
    },
    "id": "7ThPDJY4t_i4",
    "outputId": "e0a8e25c-5a19-4224-90d3-94f6d1db986f"
   },
   "outputs": [],
   "source": [
    "data.isnull().sum()"
   ]
  },
  {
   "cell_type": "code",
   "execution_count": 0,
   "metadata": {
    "application/vnd.databricks.v1+cell": {
     "cellMetadata": {},
     "inputWidgets": {},
     "nuid": "faeb5589-e3a5-4959-8508-fb02c04183e8",
     "showTitle": false,
     "title": ""
    },
    "colab": {
     "base_uri": "https://localhost:8080/",
     "height": 250
    },
    "id": "2rhb3Wdexw6E",
    "outputId": "186cd2a0-e699-4a9b-ed2b-7c53a2b91180"
   },
   "outputs": [],
   "source": [
    "data[data[\"reviewText\"].isnull()].head()"
   ]
  },
  {
   "cell_type": "markdown",
   "metadata": {
    "application/vnd.databricks.v1+cell": {
     "cellMetadata": {},
     "inputWidgets": {},
     "nuid": "948fb03a-4bf1-442e-aeb8-f8f3306d6fcf",
     "showTitle": false,
     "title": ""
    },
    "id": "Y8qpV_GeqHBX"
   },
   "source": [
    "Un \"timestamp\" es una forma de representar una fecha y hora en la computadora como un número entero, contando los segundos transcurridos desde una fecha de referencia. En este caso, el timestamp 1411948800 representa el número de segundos que han transcurrido desde el 1 de enero de 1970, que es una fecha de referencia comúnmente utilizada en sistemas operativos y lenguajes de programación, y se le conoce como el \"Unix Epoch time\"."
   ]
  },
  {
   "cell_type": "code",
   "execution_count": 0,
   "metadata": {
    "application/vnd.databricks.v1+cell": {
     "cellMetadata": {},
     "inputWidgets": {},
     "nuid": "8573a83d-166f-43b8-8d18-1c4a952f2fa2",
     "showTitle": false,
     "title": ""
    },
    "colab": {
     "base_uri": "https://localhost:8080/",
     "height": 35
    },
    "id": "iaCTpEabo00y",
    "outputId": "2c95da86-e349-430c-daeb-7f395282ae65"
   },
   "outputs": [],
   "source": [
    "data[\"unixReviewTime\"][0]"
   ]
  },
  {
   "cell_type": "code",
   "execution_count": 0,
   "metadata": {
    "application/vnd.databricks.v1+cell": {
     "cellMetadata": {},
     "inputWidgets": {},
     "nuid": "016ee781-b5c4-436e-bf46-91fbcc3b862b",
     "showTitle": false,
     "title": ""
    },
    "colab": {
     "base_uri": "https://localhost:8080/",
     "height": 238
    },
    "id": "VAFhQzqwpoVs",
    "outputId": "40e27bf0-f72c-4d26-b3bb-988ec7d09aef"
   },
   "outputs": [],
   "source": [
    "import datetime\n",
    "\n",
    "def timestamp_to_date(timestamp):\n",
    "    try:\n",
    "        # Convertir el timestamp a un objeto datetime\n",
    "        dt_object = datetime.datetime.fromtimestamp(timestamp)\n",
    "\n",
    "        # Obtener la fecha y hora legible\n",
    "        formatted_date = dt_object.strftime('%Y-%m-%d %H:%M:%S')\n",
    "        return formatted_date\n",
    "    except Exception as e:\n",
    "        return f\"Error al convertir el timestamp: {e}\"\n",
    "\n",
    "# Ejemplo de uso\n",
    "for i in range(100):\n",
    "  timestamp = int(data[\"unixReviewTime\"][i])\n",
    "  fecha_legible = timestamp_to_date(timestamp)\n",
    "  print(f\"Fecha legible: {fecha_legible}\")\n"
   ]
  },
  {
   "cell_type": "code",
   "execution_count": 0,
   "metadata": {
    "application/vnd.databricks.v1+cell": {
     "cellMetadata": {},
     "inputWidgets": {},
     "nuid": "c4d3a4a6-dac7-462d-b010-c225fa4f9200",
     "showTitle": false,
     "title": ""
    },
    "colab": {
     "base_uri": "https://localhost:8080/",
     "height": 52
    },
    "id": "K8rvORAWyc8O",
    "outputId": "3f3c053d-3c20-44d0-cccd-c6e4495d4e7d"
   },
   "outputs": [],
   "source": [
    "data[\"image\"][42266]"
   ]
  },
  {
   "cell_type": "code",
   "execution_count": 0,
   "metadata": {
    "application/vnd.databricks.v1+cell": {
     "cellMetadata": {},
     "inputWidgets": {},
     "nuid": "27584d80-da90-4867-97e5-4f7e1dbba3e9",
     "showTitle": false,
     "title": ""
    },
    "colab": {
     "base_uri": "https://localhost:8080/",
     "height": 472
    },
    "id": "iD9Cpuo26i6p",
    "outputId": "abdb3a29-cb65-4026-e637-7ac88cc4e382"
   },
   "outputs": [],
   "source": [
    "import pandas as pd\n",
    "import matplotlib.pyplot as plt\n",
    "conteo_puntuaciones =  data['overall'].value_counts()\n",
    "\n",
    "plt.bar(conteo_puntuaciones.index, conteo_puntuaciones.values)\n",
    "plt.xlabel('Puntuación')\n",
    "plt.ylabel('Cantidad')\n",
    "plt.title('Distribución de puntuaciones')\n",
    "plt.xticks(conteo_puntuaciones.index)\n",
    "plt.show()"
   ]
  },
  {
   "cell_type": "markdown",
   "metadata": {
    "application/vnd.databricks.v1+cell": {
     "cellMetadata": {},
     "inputWidgets": {},
     "nuid": "805a2069-a13b-430b-b386-62796d317654",
     "showTitle": false,
     "title": ""
    },
    "id": "3FehyNcpvHy9"
   },
   "source": [
    "Quiero ver si la verificación agrega alguna particularidad que podamos usar."
   ]
  },
  {
   "cell_type": "markdown",
   "metadata": {
    "application/vnd.databricks.v1+cell": {
     "cellMetadata": {},
     "inputWidgets": {},
     "nuid": "a0394184-c956-45c1-93e5-00d8c813b06f",
     "showTitle": false,
     "title": ""
    },
    "id": "onyS4HDRnkk9"
   },
   "source": [
    "## Explorando la verificación True"
   ]
  },
  {
   "cell_type": "code",
   "execution_count": 0,
   "metadata": {
    "application/vnd.databricks.v1+cell": {
     "cellMetadata": {},
     "inputWidgets": {},
     "nuid": "a48b699e-5005-4f30-9938-0c7892ef9351",
     "showTitle": false,
     "title": ""
    },
    "id": "6ZOTIfaJIqMy"
   },
   "outputs": [],
   "source": [
    "# Filtrar las filas donde 'verified' es igual a True\n",
    "data_vtrue =  data[data['verified'] == \"true\"]\n",
    "data_vtrue\n"
   ]
  },
  {
   "cell_type": "markdown",
   "metadata": {
    "application/vnd.databricks.v1+cell": {
     "cellMetadata": {},
     "inputWidgets": {},
     "nuid": "d45e191e-5ac3-4972-bb95-9c48b2387a69",
     "showTitle": false,
     "title": ""
    },
    "id": "GgtHBU9YnMXc"
   },
   "source": [
    "Con el style podemos saber un poco mas sobre el producto. Por ejemplo hay Elsa Dress, Kindle Edition, Hardcover que probablemente sea un libro."
   ]
  },
  {
   "cell_type": "code",
   "execution_count": 0,
   "metadata": {
    "application/vnd.databricks.v1+cell": {
     "cellMetadata": {},
     "inputWidgets": {},
     "nuid": "213c3019-cb46-4e9e-aff2-77cf00553552",
     "showTitle": false,
     "title": ""
    },
    "colab": {
     "base_uri": "https://localhost:8080/"
    },
    "id": "Z0kICHczS5Qa",
    "outputId": "25f845a5-5a0d-4a9c-a913-ab4118cbcf54"
   },
   "outputs": [],
   "source": [
    "data_vtrue[\"style\"].head(30)"
   ]
  },
  {
   "cell_type": "markdown",
   "metadata": {
    "application/vnd.databricks.v1+cell": {
     "cellMetadata": {},
     "inputWidgets": {},
     "nuid": "cb00a768-c477-4342-a542-834522e1a07b",
     "showTitle": false,
     "title": ""
    },
    "id": "ctdEab87I92S"
   },
   "source": [
    "Veamos algunas reseñas que tienen verificación."
   ]
  },
  {
   "cell_type": "code",
   "execution_count": 0,
   "metadata": {
    "application/vnd.databricks.v1+cell": {
     "cellMetadata": {},
     "inputWidgets": {},
     "nuid": "27a492d2-36b0-47e8-8870-6f950f4a52d0",
     "showTitle": false,
     "title": ""
    },
    "colab": {
     "base_uri": "https://localhost:8080/"
    },
    "id": "iKPXzpA5JCTp",
    "outputId": "9e7ac0f1-d27d-4994-e1e5-a9a833b8eecb"
   },
   "outputs": [],
   "source": [
    "[ str(i)+\" Vote:\" + str(data_vtrue[\"vote\"][i]) +\" \" + data_vtrue[\"reviewText\"][i]+\" OVERALL: \"+data_vtrue[\"overall\"][i] for i in list(data_vtrue.index)[:80]]"
   ]
  },
  {
   "cell_type": "markdown",
   "metadata": {
    "application/vnd.databricks.v1+cell": {
     "cellMetadata": {},
     "inputWidgets": {},
     "nuid": "4d4dbc4a-8e7a-4e3e-a074-699bf042a768",
     "showTitle": false,
     "title": ""
    },
    "id": "Y_Cbp0NGO1ve"
   },
   "source": [
    "Seria bueno un modelo de filtrado para conocer la intención de las reseñas, para así poder ver cuales son las que nos pueden ser utiles para mejorar el negocio.\n",
    "\n",
    "La reseñas algunas son elogiando el producto, otras son quejas muy especificas sobre daños del producto, lo cual me parece muy util."
   ]
  },
  {
   "cell_type": "code",
   "execution_count": 0,
   "metadata": {
    "application/vnd.databricks.v1+cell": {
     "cellMetadata": {},
     "inputWidgets": {},
     "nuid": "50cd1d14-ac29-4709-b2cb-070c68ce6332",
     "showTitle": false,
     "title": ""
    },
    "colab": {
     "base_uri": "https://localhost:8080/",
     "height": 472
    },
    "id": "ktT4SV-qof1y",
    "outputId": "33d3911e-f53f-48d0-dc01-b0be8b9a8915"
   },
   "outputs": [],
   "source": [
    "conteo_puntuaciones =  data_vtrue['overall'].value_counts()\n",
    "\n",
    "plt.bar(conteo_puntuaciones.index, conteo_puntuaciones.values)\n",
    "plt.xlabel('Puntuación')\n",
    "plt.ylabel('Cantidad')\n",
    "plt.title('Distribución de puntuaciones con verificacion')\n",
    "plt.xticks(conteo_puntuaciones.index)\n",
    "plt.show()"
   ]
  },
  {
   "cell_type": "markdown",
   "metadata": {
    "application/vnd.databricks.v1+cell": {
     "cellMetadata": {},
     "inputWidgets": {},
     "nuid": "65ac5c26-4e6d-4780-8cfb-1ba0b373de73",
     "showTitle": false,
     "title": ""
    },
    "id": "ccjPyRZgombf"
   },
   "source": [
    "## Explorando la verificacion False"
   ]
  },
  {
   "cell_type": "code",
   "execution_count": 0,
   "metadata": {
    "application/vnd.databricks.v1+cell": {
     "cellMetadata": {},
     "inputWidgets": {},
     "nuid": "8eeba485-f5bc-45b5-bb44-7cc89e716dda",
     "showTitle": false,
     "title": ""
    },
    "id": "LgXEHgVroxBX"
   },
   "outputs": [],
   "source": [
    "# Filtrar las filas donde 'verified' es igual a True\n",
    "data_vfalse =  data[data['verified'] == \"false\"]\n",
    "data_vfalse\n"
   ]
  },
  {
   "cell_type": "code",
   "execution_count": 0,
   "metadata": {
    "application/vnd.databricks.v1+cell": {
     "cellMetadata": {},
     "inputWidgets": {},
     "nuid": "3400ac55-701c-43b1-bfd8-fcef07f6bffe",
     "showTitle": false,
     "title": ""
    },
    "colab": {
     "base_uri": "https://localhost:8080/",
     "height": 472
    },
    "id": "FrwVxsJhqhl9",
    "outputId": "cd3ea659-097f-4cda-c9a5-d0c5c5df90d6"
   },
   "outputs": [],
   "source": [
    "conteo_puntuaciones =  data_vfalse['overall'].value_counts()\n",
    "\n",
    "plt.bar(conteo_puntuaciones.index, conteo_puntuaciones.values)\n",
    "plt.xlabel('Puntuación')\n",
    "plt.ylabel('Cantidad')\n",
    "plt.title('Distribución de puntuaciones con verificacion')\n",
    "plt.xticks(conteo_puntuaciones.index)\n",
    "plt.show()"
   ]
  },
  {
   "cell_type": "code",
   "execution_count": 0,
   "metadata": {
    "application/vnd.databricks.v1+cell": {
     "cellMetadata": {},
     "inputWidgets": {},
     "nuid": "0671da39-7a17-4820-b130-c0fed3da82a3",
     "showTitle": false,
     "title": ""
    },
    "colab": {
     "base_uri": "https://localhost:8080/"
    },
    "id": "S89TmYrhqpbI",
    "outputId": "15f7a4ab-9b1d-4dca-acce-fa1e97f9a92e"
   },
   "outputs": [],
   "source": [
    "[ str(i)+\" Vote:\" + str(data_vfalse[\"vote\"][i]) +\" \" + str(data_vfalse[\"reviewText\"][i])+\" OVERALL: \"+str(data_vfalse[\"overall\"][i]) for i in list(data_vfalse.index)[:80]]"
   ]
  },
  {
   "cell_type": "markdown",
   "metadata": {
    "application/vnd.databricks.v1+cell": {
     "cellMetadata": {},
     "inputWidgets": {},
     "nuid": "99b4f8fa-ae41-4965-a648-6bed1ecfd50b",
     "showTitle": false,
     "title": ""
    },
    "id": "-z3EE7gkt0yD"
   },
   "source": [
    "No veo ninguna particularidad que diferencia una review verificada y una que no. De hecho, se me hace muy confuso que significa que sea verificada ya que hay unas que son elogios y son verificados. Pensaría que tendría mucho mas sentido si verificara alguna error o algo así. Aunque ahora que lo pienso, puede referirse a la verificación de usuario y eso le daría cierto tipo de confiabilidad pero aún no veo claro si sea muy util esto del verificado."
   ]
  },
  {
   "cell_type": "markdown",
   "metadata": {
    "application/vnd.databricks.v1+cell": {
     "cellMetadata": {},
     "inputWidgets": {},
     "nuid": "241058a9-266c-410a-b571-a0f0605792e7",
     "showTitle": false,
     "title": ""
    },
    "id": "XtcHwvpgvNKQ"
   },
   "source": [
    "Al final la verificación no creo que sea algo totalmente sustancial para ayudar la calidad de la ventas, de hecho, que sea verificado o no, no agrega mucho cambio o particularidad."
   ]
  },
  {
   "cell_type": "markdown",
   "metadata": {
    "application/vnd.databricks.v1+cell": {
     "cellMetadata": {},
     "inputWidgets": {},
     "nuid": "fbc5bbc1-ad21-46ee-bf85-ce3fe193de2d",
     "showTitle": false,
     "title": ""
    },
    "id": "legn1mdFvaxS"
   },
   "source": [
    "# Exploremos algunos productos"
   ]
  },
  {
   "cell_type": "code",
   "execution_count": 0,
   "metadata": {
    "application/vnd.databricks.v1+cell": {
     "cellMetadata": {},
     "inputWidgets": {},
     "nuid": "3d66bf91-e96c-4902-9355-b569cc739a17",
     "showTitle": false,
     "title": ""
    },
    "colab": {
     "base_uri": "https://localhost:8080/",
     "height": 780
    },
    "id": "Xh1LhEhSvep7",
    "outputId": "85025ea1-9231-4aa7-d0ff-701ccc93abcf"
   },
   "outputs": [],
   "source": [
    "data"
   ]
  },
  {
   "cell_type": "markdown",
   "metadata": {
    "application/vnd.databricks.v1+cell": {
     "cellMetadata": {},
     "inputWidgets": {},
     "nuid": "04ef4f9e-71c3-4d30-a81d-f82a4db8d69f",
     "showTitle": false,
     "title": ""
    },
    "id": "q-HKoo-Rvzea"
   },
   "source": [
    "Hay 111866 filas, pero en total hay 2024 productos. Eso quiere decir que hay varios productos que compran seguido."
   ]
  },
  {
   "cell_type": "code",
   "execution_count": 0,
   "metadata": {
    "application/vnd.databricks.v1+cell": {
     "cellMetadata": {},
     "inputWidgets": {},
     "nuid": "fcc90166-7a05-4727-bc8a-21c57a017b3d",
     "showTitle": false,
     "title": ""
    },
    "colab": {
     "base_uri": "https://localhost:8080/"
    },
    "id": "thUG75NYvjtx",
    "outputId": "10d18ee7-5da0-4db1-a5f4-a4c24d317f22"
   },
   "outputs": [],
   "source": [
    "data['asin'].value_counts()"
   ]
  },
  {
   "cell_type": "code",
   "execution_count": 0,
   "metadata": {
    "application/vnd.databricks.v1+cell": {
     "cellMetadata": {},
     "inputWidgets": {},
     "nuid": "1dd48c12-25b5-46a5-a674-58c51862045c",
     "showTitle": false,
     "title": ""
    },
    "colab": {
     "base_uri": "https://localhost:8080/",
     "height": 797
    },
    "id": "yXn7OuZlwQeM",
    "outputId": "b2bf13e5-2f17-4335-e8a2-9e6a8e834322"
   },
   "outputs": [],
   "source": [
    "# Filtremos un producto\n",
    "p1 =  data[data['asin'] == \"B000MXQ2CU\"]\n",
    "p1"
   ]
  },
  {
   "cell_type": "code",
   "execution_count": 0,
   "metadata": {
    "application/vnd.databricks.v1+cell": {
     "cellMetadata": {},
     "inputWidgets": {},
     "nuid": "3486c62d-7f07-4b95-8227-b6e6009b036c",
     "showTitle": false,
     "title": ""
    },
    "colab": {
     "base_uri": "https://localhost:8080/"
    },
    "id": "W-gnhMCww9pB",
    "outputId": "75627d0c-6e7a-4691-8890-a76d9a6a9882"
   },
   "outputs": [],
   "source": [
    "p1[\"style\"]"
   ]
  },
  {
   "cell_type": "code",
   "execution_count": 0,
   "metadata": {
    "application/vnd.databricks.v1+cell": {
     "cellMetadata": {},
     "inputWidgets": {},
     "nuid": "86f51364-056f-435e-9b4b-945cfd838c40",
     "showTitle": false,
     "title": ""
    },
    "colab": {
     "base_uri": "https://localhost:8080/",
     "height": 472
    },
    "id": "7A6Lg7TLwg8q",
    "outputId": "3bc3db73-74e3-4574-f865-e95553952b69"
   },
   "outputs": [],
   "source": [
    "conteo_puntuaciones =  p1['overall'].value_counts()\n",
    "\n",
    "plt.bar(conteo_puntuaciones.index, conteo_puntuaciones.values)\n",
    "plt.xlabel('Puntuación')\n",
    "plt.ylabel('Cantidad')\n",
    "plt.title('Distribución de puntuaciones con verificacion')\n",
    "plt.xticks(conteo_puntuaciones.index)\n",
    "plt.show()"
   ]
  },
  {
   "cell_type": "code",
   "execution_count": 0,
   "metadata": {
    "application/vnd.databricks.v1+cell": {
     "cellMetadata": {},
     "inputWidgets": {},
     "nuid": "205f7cdc-4beb-49df-8cd7-8ff84359a58c",
     "showTitle": false,
     "title": ""
    },
    "id": "AIxj3r3qBbOg"
   },
   "outputs": [],
   "source": [
    "list(p1.index)\n"
   ]
  },
  {
   "cell_type": "code",
   "execution_count": 0,
   "metadata": {
    "application/vnd.databricks.v1+cell": {
     "cellMetadata": {},
     "inputWidgets": {},
     "nuid": "31898379-96e4-452f-9821-c5c82155dee3",
     "showTitle": false,
     "title": ""
    },
    "colab": {
     "base_uri": "https://localhost:8080/"
    },
    "id": "Bu2PpKRABHtg",
    "outputId": "dcf02ae5-b716-49a1-c034-4e2e1cc53ff0"
   },
   "outputs": [],
   "source": [
    "import datetime\n",
    "\n",
    "def timestamp_to_date(timestamp):\n",
    "    try:\n",
    "        # Convertir el timestamp a un objeto datetime\n",
    "        dt_object = datetime.datetime.fromtimestamp(timestamp)\n",
    "\n",
    "        # Obtener la fecha y hora legible\n",
    "        formatted_date = dt_object.strftime('%Y-%m-%d %H:%M:%S')\n",
    "        return formatted_date\n",
    "    except Exception as e:\n",
    "        return f\"Error al convertir el timestamp: {e}\"\n",
    "\n",
    "# Ejemplo de uso\n",
    "for i in (list(p1.index)):\n",
    "  timestamp = int(p1[\"unixReviewTime\"][i])\n",
    "  fecha_legible = timestamp_to_date(timestamp)\n",
    "  print(f\"Fecha legible: {fecha_legible}\")\n"
   ]
  },
  {
   "cell_type": "code",
   "execution_count": 0,
   "metadata": {
    "application/vnd.databricks.v1+cell": {
     "cellMetadata": {},
     "inputWidgets": {},
     "nuid": "f954db61-ed58-421b-bf6f-1eb2d844eac0",
     "showTitle": false,
     "title": ""
    },
    "colab": {
     "base_uri": "https://localhost:8080/"
    },
    "id": "5plU72sYz1pB",
    "outputId": "7c7ca70a-2a22-4d18-9197-3ce9a5a29a7f"
   },
   "outputs": [],
   "source": [
    "dict(p1[\"unixReviewTime\"].value_counts())"
   ]
  },
  {
   "cell_type": "code",
   "execution_count": 0,
   "metadata": {
    "application/vnd.databricks.v1+cell": {
     "cellMetadata": {},
     "inputWidgets": {},
     "nuid": "7dc8c7bc-3209-420c-b138-d79a56688812",
     "showTitle": false,
     "title": ""
    },
    "id": "JpFQGfSW1aZi"
   },
   "outputs": [],
   "source": []
  },
  {
   "cell_type": "code",
   "execution_count": 0,
   "metadata": {
    "application/vnd.databricks.v1+cell": {
     "cellMetadata": {},
     "inputWidgets": {},
     "nuid": "6ea57064-86e4-4817-87ab-4b14fb2821e1",
     "showTitle": false,
     "title": ""
    },
    "colab": {
     "base_uri": "https://localhost:8080/",
     "height": 578
    },
    "id": "HGJdyDIb0C7g",
    "outputId": "c4f49aa9-b48c-49e6-8d79-1121a9f5d89a"
   },
   "outputs": [],
   "source": [
    "\n",
    "# Convertir el diccionario a una lista de tuplas (timestamp, valor)\n",
    "data_tuples = [(int(timestamp), value) for timestamp, value in dict(p1[\"unixReviewTime\"].value_counts()).items()]\n",
    "\n",
    "# Crear un DataFrame a partir de la lista de tuplas\n",
    "df = pd.DataFrame(data_tuples, columns=['unix_timestamp', 'value'])\n",
    "\n",
    "# Función para plotear la gráfica de tiempo\n",
    "def plot_unix_time(df, timestamp_column):\n",
    "    df['Datetime'] = pd.to_datetime(df[timestamp_column], unit='s')\n",
    "    df.set_index('Datetime', inplace=True)\n",
    "\n",
    "    plt.figure(figsize=(10, 6))\n",
    "    plt.plot(df.index, df['value'])\n",
    "    plt.xlabel('Fecha')\n",
    "    plt.ylabel('Valor')\n",
    "    plt.title('Gráfica de serie de tiempo')\n",
    "    plt.xticks(rotation=24)\n",
    "    plt.show()\n",
    "\n",
    "# Utilizar la función para plotear la gráfica de tiempo\n",
    "plot_unix_time(df, 'unix_timestamp')"
   ]
  }
 ],
 "metadata": {
  "application/vnd.databricks.v1+notebook": {
   "dashboards": [],
   "language": "python",
   "notebookMetadata": {},
   "notebookName": "EDA(1)",
   "widgets": {}
  },
  "colab": {
   "collapsed_sections": [
    "onyS4HDRnkk9"
   ],
   "provenance": []
  },
  "kernelspec": {
   "display_name": "Python 3",
   "name": "python3"
  },
  "language_info": {
   "name": "python"
  }
 },
 "nbformat": 4,
 "nbformat_minor": 0
}
