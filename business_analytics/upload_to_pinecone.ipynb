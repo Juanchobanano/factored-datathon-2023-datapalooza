{
 "cells": [
  {
   "cell_type": "markdown",
   "id": "b1856234-f0e4-44a5-9ca6-d159afa4928d",
   "metadata": {},
   "source": [
    "## **Initialize Pinecone**"
   ]
  },
  {
   "cell_type": "code",
   "execution_count": 3,
   "id": "2710aad0-5379-4aa5-93d0-0ef4552b07f7",
   "metadata": {
    "tags": []
   },
   "outputs": [],
   "source": [
    "import pinecone\n",
    "\n",
    "pinecone.init(api_key=\"87d21a17-cc6f-4e2d-a4fe-2e5a86ee6fa8\", environment=\"us-west4-gcp-free\")"
   ]
  },
  {
   "cell_type": "code",
   "execution_count": 4,
   "id": "1c37ae36-29c3-4234-8371-b8b89e895437",
   "metadata": {
    "tags": []
   },
   "outputs": [],
   "source": [
    "index = pinecone.GRPCIndex(\"amazon-products\")"
   ]
  },
  {
   "cell_type": "code",
   "execution_count": 6,
   "id": "c3dd6889-d27c-4c42-8642-351dd1c3737b",
   "metadata": {
    "tags": []
   },
   "outputs": [
    {
     "data": {
      "text/plain": [
       "{'dimension': 768,\n",
       " 'index_fullness': 0.0,\n",
       " 'namespaces': {},\n",
       " 'total_vector_count': 0}"
      ]
     },
     "execution_count": 6,
     "metadata": {},
     "output_type": "execute_result"
    }
   ],
   "source": [
    "index.describe_index_stats()"
   ]
  },
  {
   "cell_type": "markdown",
   "id": "bb778fdf-c9cb-4a0a-9fce-1e413105f365",
   "metadata": {
    "tags": []
   },
   "source": [
    "## **Upsert Index**\n",
    "\n",
    "**Note**: Skip this step if you only want to query the index(semantic search)"
   ]
  },
  {
   "cell_type": "code",
   "execution_count": 28,
   "id": "cf3c5367-9d68-4d81-b299-d404316a9490",
   "metadata": {
    "tags": []
   },
   "outputs": [],
   "source": [
    "import pickle\n",
    "\n",
    "model_name = \"gte_base\"\n",
    "with open(f\"embeddings_product_titles_{model_name}.pkl\", \"rb\") as fIn:\n",
    "    stored_data = pickle.load(fIn)\n",
    "    asin = stored_data[\"asin\"]\n",
    "    titles = stored_data[\"product_titles\"]\n",
    "    embeddings = stored_data[\"embeddings\"]"
   ]
  },
  {
   "cell_type": "code",
   "execution_count": 29,
   "id": "be0d33d9-a2d4-47a1-9263-5399592aa91d",
   "metadata": {
    "tags": []
   },
   "outputs": [],
   "source": [
    "embeddings = embeddings.tolist()"
   ]
  },
  {
   "cell_type": "code",
   "execution_count": 40,
   "id": "cabaaa89-39fe-45c3-b431-942bf3259701",
   "metadata": {
    "tags": []
   },
   "outputs": [
    {
     "name": "stdout",
     "output_type": "stream",
     "text": [
      "Number of vectors: 91562\n"
     ]
    }
   ],
   "source": [
    "vectors = list(zip(asin, embeddings))\n",
    "print(\"Number of vectors:\", len(vectors))"
   ]
  },
  {
   "cell_type": "code",
   "execution_count": 39,
   "id": "3f8ffd30-3d75-40a1-b76e-525ea92b6dbc",
   "metadata": {
    "tags": []
   },
   "outputs": [
    {
     "data": {
      "application/vnd.jupyter.widget-view+json": {
       "model_id": "3ef7a0b418864eb59be451179fc9a337",
       "version_major": 2,
       "version_minor": 0
      },
      "text/plain": [
       "Upserted vectors:   0%|          | 0/91562 [00:00<?, ?it/s]"
      ]
     },
     "metadata": {},
     "output_type": "display_data"
    },
    {
     "data": {
      "text/plain": [
       "upserted_count: 91562"
      ]
     },
     "execution_count": 39,
     "metadata": {},
     "output_type": "execute_result"
    }
   ],
   "source": [
    "index.upsert(vectors, batch_size=64)"
   ]
  },
  {
   "cell_type": "markdown",
   "id": "43c2b279-5e4e-4a01-8ad1-95b96b353afb",
   "metadata": {},
   "source": [
    "## **Query Index**"
   ]
  },
  {
   "cell_type": "markdown",
   "id": "59c13a39-287c-4d9d-a00f-8187ad74c94c",
   "metadata": {},
   "source": [
    "Load the dataset in order to later extrart the product title"
   ]
  },
  {
   "cell_type": "code",
   "execution_count": null,
   "id": "47aae8ac-0b24-4822-b3d6-f5b421aca1d7",
   "metadata": {},
   "outputs": [],
   "source": [
    "from pprint import pprint\n",
    "\n",
    "import delta_sharing\n",
    "\n",
    "profile_file = \"config.share\"\n",
    "client = delta_sharing.SharingClient(profile_file)\n",
    "print(\"Available tables:\")\n",
    "pprint(client.list_all_tables())\n",
    "\n",
    "# load metadata table\n",
    "table_url = profile_file + \"#share__products.silver.amazon_metadata_silver_selected\"\n",
    "df = delta_sharing.load_as_pandas(table_url)"
   ]
  },
  {
   "cell_type": "code",
   "execution_count": 42,
   "id": "3519b331-22e1-4a65-979a-076773df3074",
   "metadata": {
    "tags": []
   },
   "outputs": [
    {
     "name": "stderr",
     "output_type": "stream",
     "text": [
      "No sentence-transformers model found with name /home/studio-lab-user/.cache/torch/sentence_transformers/thenlper_gte-base. Creating a new one with MEAN pooling.\n"
     ]
    },
    {
     "data": {
      "text/plain": [
       "SentenceTransformer(\n",
       "  (0): Transformer({'max_seq_length': 512, 'do_lower_case': False}) with Transformer model: BertModel \n",
       "  (1): Pooling({'word_embedding_dimension': 768, 'pooling_mode_cls_token': False, 'pooling_mode_mean_tokens': True, 'pooling_mode_max_tokens': False, 'pooling_mode_mean_sqrt_len_tokens': False})\n",
       ")"
      ]
     },
     "execution_count": 42,
     "metadata": {},
     "output_type": "execute_result"
    }
   ],
   "source": [
    "import torch\n",
    "from sentence_transformers import SentenceTransformer\n",
    "\n",
    "device = \"cuda\" if torch.cuda.is_available() else \"cpu\"\n",
    "\n",
    "model = SentenceTransformer(\"thenlper/gte-base\", device=device)"
   ]
  },
  {
   "cell_type": "code",
   "execution_count": 64,
   "id": "66c50846-42df-4395-8550-39b20c8d6164",
   "metadata": {
    "tags": []
   },
   "outputs": [
    {
     "name": "stdout",
     "output_type": "stream",
     "text": [
      "Microsoft Excel 2010\n",
      "Excel @ Mathematics\n",
      "Microsoft Excel Mac 2008\n",
      "Microsoft Excel for Students & Teachers 2003 [Old Version]\n",
      "Microsoft Office Excel Home and Student 2007 [Old Version]\n"
     ]
    }
   ],
   "source": [
    "query = \"microsoft excel\"\n",
    "\n",
    "# create the query vector\n",
    "xq = model.encode(query).tolist()\n",
    "\n",
    "# now query\n",
    "xc = index.query(xq, top_k=5)\n",
    "for match in xc[\"matches\"]:\n",
    "    id = match[\"id\"]\n",
    "    print(df.query(\"asin == @id\")[\"title\"].item())"
   ]
  }
 ],
 "metadata": {
  "kernelspec": {
   "display_name": "default:Python",
   "language": "python",
   "name": "conda-env-default-py"
  },
  "language_info": {
   "codemirror_mode": {
    "name": "ipython",
    "version": 3
   },
   "file_extension": ".py",
   "mimetype": "text/x-python",
   "name": "python",
   "nbconvert_exporter": "python",
   "pygments_lexer": "ipython3",
   "version": "3.9.16"
  }
 },
 "nbformat": 4,
 "nbformat_minor": 5
}
