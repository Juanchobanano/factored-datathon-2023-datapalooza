{
 "cells": [
  {
   "cell_type": "markdown",
   "metadata": {
    "application/vnd.databricks.v1+cell": {
     "cellMetadata": {},
     "inputWidgets": {},
     "nuid": "ad60811a-87b3-4f32-9e9a-b003c1f26a13",
     "showTitle": false,
     "title": ""
    }
   },
   "source": [
    "# **Amazon Reviews Dataset**"
   ]
  },
  {
   "cell_type": "code",
   "execution_count": 0,
   "metadata": {
    "application/vnd.databricks.v1+cell": {
     "cellMetadata": {},
     "inputWidgets": {},
     "nuid": "20aebef7-9d50-424a-b8c6-fd0391088215",
     "showTitle": false,
     "title": ""
    },
    "tags": []
   },
   "outputs": [],
   "source": [
    "from pprint import pprint\n",
    "\n",
    "import matplotlib.pyplot as plt\n",
    "import missingno as msno\n",
    "import pandas as pd\n",
    "# import delta_sharing\n"
   ]
  },
  {
   "cell_type": "code",
   "execution_count": 0,
   "metadata": {
    "application/vnd.databricks.v1+cell": {
     "cellMetadata": {},
     "inputWidgets": {},
     "nuid": "d744315c-c551-4cf4-8ecb-fa3e0e250564",
     "showTitle": false,
     "title": ""
    },
    "id": "NABJVH01nR8I",
    "tags": []
   },
   "outputs": [],
   "source": [
    "# # get data\n",
    "# profile_file = \"config.share\"\n",
    "# client = delta_sharing.SharingClient(profile_file)\n",
    "# print(\"Available tables:\")\n",
    "# pprint(client.list_all_tables())\n",
    "\n",
    "# table_url = profile_file + \"#share__products.silver.amazon_reviews_silver\"\n",
    "# # limit number of reviews to 10k\n",
    "# data = delta_sharing.load_as_pandas(table_url, limit=10_000)\n",
    "# # cast date column to datetime type\n",
    "\n",
    "df = spark.table(\"products.silver.amazon_reviews_silver\").limit(10_000).toPandas()\n",
    "data[\"date\"] = pd.to_datetime(data[\"date\"])"
   ]
  },
  {
   "cell_type": "code",
   "execution_count": 0,
   "metadata": {
    "application/vnd.databricks.v1+cell": {
     "cellMetadata": {},
     "inputWidgets": {},
     "nuid": "58190202-1a15-42bb-9159-8666d0d77e0a",
     "showTitle": false,
     "title": ""
    },
    "tags": []
   },
   "outputs": [],
   "source": [
    "print(\"Dataset shape\", data.shape)\n",
    "\n",
    "data.head()"
   ]
  },
  {
   "cell_type": "code",
   "execution_count": 0,
   "metadata": {
    "application/vnd.databricks.v1+cell": {
     "cellMetadata": {},
     "inputWidgets": {},
     "nuid": "dd38cfc7-a3de-4d01-bf6e-9b083d9ec215",
     "showTitle": false,
     "title": ""
    },
    "tags": []
   },
   "outputs": [],
   "source": [
    "# print some reviews\n",
    "def print_reviews(df, n=3):\n",
    "    for idx, row in data.sample(n).iterrows():\n",
    "        print(\"Review Summary:\", row[\"summary\"], \"\\n\")\n",
    "        print(row[\"reviewText\"])\n",
    "        print(\"=\" * 50)\n",
    "\n",
    "\n",
    "print_reviews(data)"
   ]
  },
  {
   "cell_type": "markdown",
   "metadata": {
    "application/vnd.databricks.v1+cell": {
     "cellMetadata": {},
     "inputWidgets": {},
     "nuid": "5c3f4ac4-41b4-4653-95fd-abd56017f7dc",
     "showTitle": false,
     "title": ""
    }
   },
   "source": [
    "**Insights**:\n",
    "    \n",
    "- **Build a model that identifies whether a review contains text that is useful**\n",
    "    - ¿What is a good definition for a useful review?"
   ]
  },
  {
   "cell_type": "markdown",
   "metadata": {
    "application/vnd.databricks.v1+cell": {
     "cellMetadata": {},
     "inputWidgets": {},
     "nuid": "f1264d75-54c6-4247-acbc-c606df7647c1",
     "showTitle": false,
     "title": ""
    }
   },
   "source": [
    "---"
   ]
  },
  {
   "cell_type": "code",
   "execution_count": 0,
   "metadata": {
    "application/vnd.databricks.v1+cell": {
     "cellMetadata": {},
     "inputWidgets": {},
     "nuid": "78c18adf-e8c9-42ef-ba61-d1bea738d0d2",
     "showTitle": false,
     "title": ""
    },
    "tags": []
   },
   "outputs": [],
   "source": [
    "# unique values of asin column\n",
    "asin_vals = data[\"asin\"].value_counts()\n",
    "asin_vals"
   ]
  },
  {
   "cell_type": "code",
   "execution_count": 0,
   "metadata": {
    "application/vnd.databricks.v1+cell": {
     "cellMetadata": {},
     "inputWidgets": {},
     "nuid": "51227d07-0c40-4c07-83a4-dde801c91333",
     "showTitle": false,
     "title": ""
    },
    "tags": []
   },
   "outputs": [],
   "source": [
    "asin_vals.describe().astype(int)"
   ]
  },
  {
   "cell_type": "markdown",
   "metadata": {
    "application/vnd.databricks.v1+cell": {
     "cellMetadata": {},
     "inputWidgets": {},
     "nuid": "c9fc153b-6838-4e59-8f9c-65f176b520c9",
     "showTitle": false,
     "title": ""
    }
   },
   "source": [
    "**Insights**\n",
    "- Products range from having 1 to a few thousand reviews.\n",
    "- Most of the products have 8 or less reviews."
   ]
  },
  {
   "cell_type": "code",
   "execution_count": 0,
   "metadata": {
    "application/vnd.databricks.v1+cell": {
     "cellMetadata": {},
     "inputWidgets": {},
     "nuid": "d0e38091-667e-4207-a5c1-abd2dcebc117",
     "showTitle": false,
     "title": ""
    },
    "tags": []
   },
   "outputs": [],
   "source": [
    "fixed_product = data[data[\"asin\"] == asin_vals.index[0]].head()\n",
    "fixed_product.head()"
   ]
  },
  {
   "cell_type": "code",
   "execution_count": 0,
   "metadata": {
    "application/vnd.databricks.v1+cell": {
     "cellMetadata": {},
     "inputWidgets": {},
     "nuid": "d6962744-b88a-49cf-bae7-5871f5dec2d1",
     "showTitle": false,
     "title": ""
    },
    "tags": []
   },
   "outputs": [],
   "source": [
    "print_reviews(fixed_product)"
   ]
  },
  {
   "cell_type": "markdown",
   "metadata": {
    "application/vnd.databricks.v1+cell": {
     "cellMetadata": {},
     "inputWidgets": {},
     "nuid": "2b8e0ff5-5fd6-47c3-8906-38b9d4c5c285",
     "showTitle": false,
     "title": ""
    }
   },
   "source": [
    "---"
   ]
  },
  {
   "cell_type": "code",
   "execution_count": 0,
   "metadata": {
    "application/vnd.databricks.v1+cell": {
     "cellMetadata": {},
     "inputWidgets": {},
     "nuid": "30e1a82b-6564-4d87-bab5-dff667d08b2b",
     "showTitle": false,
     "title": ""
    },
    "tags": []
   },
   "outputs": [],
   "source": [
    "duplicated = data[data.duplicated(subset=[\"asin\", \"reviewText\"], keep=False)].sort_values(\"reviewText\")\n",
    "duplicated"
   ]
  },
  {
   "cell_type": "code",
   "execution_count": 0,
   "metadata": {
    "application/vnd.databricks.v1+cell": {
     "cellMetadata": {},
     "inputWidgets": {},
     "nuid": "5e15c6b6-7e32-495a-acd4-11a31ba94bac",
     "showTitle": false,
     "title": ""
    },
    "tags": []
   },
   "outputs": [],
   "source": [
    "num_dup = data.duplicated(subset=[\"asin\", \"reviewText\"], keep=\"first\").sum()\n",
    "print(f\"Percentaje of duplicated reviews {num_dup / len(data) * 100:.2f}%\")"
   ]
  },
  {
   "cell_type": "markdown",
   "metadata": {
    "application/vnd.databricks.v1+cell": {
     "cellMetadata": {},
     "inputWidgets": {},
     "nuid": "ed916aaa-d8fb-4177-8dd7-c6589ae2a2a1",
     "showTitle": false,
     "title": ""
    }
   },
   "source": [
    "**Insights**\n",
    "\n",
    "- There is definitively reviews that are exactly the same.\n",
    "- ~1% of the reviews are duplicated."
   ]
  },
  {
   "cell_type": "markdown",
   "metadata": {
    "application/vnd.databricks.v1+cell": {
     "cellMetadata": {},
     "inputWidgets": {},
     "nuid": "509d29a0-19d3-4005-a208-8bdf472c216e",
     "showTitle": false,
     "title": ""
    }
   },
   "source": [
    "---"
   ]
  },
  {
   "cell_type": "code",
   "execution_count": 0,
   "metadata": {
    "application/vnd.databricks.v1+cell": {
     "cellMetadata": {},
     "inputWidgets": {},
     "nuid": "31f02ae8-9133-4445-9c90-26c3a6122a96",
     "showTitle": false,
     "title": ""
    },
    "tags": []
   },
   "outputs": [],
   "source": [
    "# filter empty reviews\n",
    "reviews_len = data[\"reviewText\"][~data[\"reviewText\"].isnull()].map(len)\n",
    "\n",
    "# reviews len with outliers\n",
    "plt.figure(figsize=(6, 4))\n",
    "plt.boxplot(reviews_len, vert=False)\n",
    "plt.title(\"Reviews length with Outliers\")\n",
    "plt.xlabel(\"column_name\")\n",
    "plt.show()\n",
    "\n",
    "Q1 = reviews_len.quantile(0.25)\n",
    "Q3 = reviews_len.quantile(0.75)\n",
    "IQR = Q3 - Q1\n",
    "\n",
    "reviews_no_outliers = reviews_len[(reviews_len >= Q1 - 1.5 * IQR) & (reviews_len <= Q3 + 1.5 * IQR)]\n",
    "\n",
    "# plot reviews without outliers\n",
    "plt.figure(figsize=(6, 4))\n",
    "plt.boxplot(reviews_no_outliers, vert=False)\n",
    "plt.title(\"Reviews length without Outliers\")\n",
    "plt.xlabel(\"column_name\")\n",
    "plt.show()"
   ]
  },
  {
   "cell_type": "markdown",
   "metadata": {
    "application/vnd.databricks.v1+cell": {
     "cellMetadata": {},
     "inputWidgets": {},
     "nuid": "a8d72850-4fc9-4eaa-bb33-fa30324cb40a",
     "showTitle": false,
     "title": ""
    }
   },
   "source": [
    "**Insights**\n",
    "- There are some reviews with extremely long texts.\n",
    "- Most reviews have between a couple tens to a couple thousands of characters"
   ]
  },
  {
   "cell_type": "markdown",
   "metadata": {
    "application/vnd.databricks.v1+cell": {
     "cellMetadata": {},
     "inputWidgets": {},
     "nuid": "f1c39d5d-c872-4b12-b49c-76e5ad78a9d0",
     "showTitle": false,
     "title": ""
    }
   },
   "source": [
    "---"
   ]
  },
  {
   "cell_type": "code",
   "execution_count": 0,
   "metadata": {
    "application/vnd.databricks.v1+cell": {
     "cellMetadata": {},
     "inputWidgets": {},
     "nuid": "102acb2a-d656-4bfc-9586-84b653d6c004",
     "showTitle": false,
     "title": ""
    },
    "colab": {
     "base_uri": "https://localhost:8080/"
    },
    "id": "Pk-_Uir9nWHE",
    "outputId": "b19b8182-a34b-44a0-c18a-55789d3d0f6d",
    "tags": []
   },
   "outputs": [],
   "source": [
    "data[\"date\"].describe()"
   ]
  },
  {
   "cell_type": "markdown",
   "metadata": {
    "application/vnd.databricks.v1+cell": {
     "cellMetadata": {},
     "inputWidgets": {},
     "nuid": "189eec05-5e06-4c95-bced-d47f486a471f",
     "showTitle": false,
     "title": ""
    }
   },
   "source": [
    "---"
   ]
  },
  {
   "cell_type": "code",
   "execution_count": 0,
   "metadata": {
    "application/vnd.databricks.v1+cell": {
     "cellMetadata": {},
     "inputWidgets": {},
     "nuid": "5ae0f855-76af-4703-9788-e9a8de4d1332",
     "showTitle": false,
     "title": ""
    },
    "colab": {
     "base_uri": "https://localhost:8080/",
     "height": 456
    },
    "id": "P_NO_zBew-ag",
    "outputId": "a4dda274-2d8d-468c-e6d8-64164a8bcfb0",
    "tags": []
   },
   "outputs": [],
   "source": [
    "# mising values\n",
    "msno.matrix(data);"
   ]
  },
  {
   "cell_type": "code",
   "execution_count": 0,
   "metadata": {
    "application/vnd.databricks.v1+cell": {
     "cellMetadata": {},
     "inputWidgets": {},
     "nuid": "8227fc96-70be-49b0-8330-4eb88349e2dd",
     "showTitle": false,
     "title": ""
    },
    "colab": {
     "base_uri": "https://localhost:8080/"
    },
    "id": "7ThPDJY4t_i4",
    "outputId": "171425e0-8016-4590-e8c4-80fd0c7d32bf",
    "tags": []
   },
   "outputs": [],
   "source": [
    "print(\"Percentaje of missing values:\")\n",
    "\n",
    "data.isnull().sum() / len(data) * 100"
   ]
  },
  {
   "cell_type": "markdown",
   "metadata": {
    "application/vnd.databricks.v1+cell": {
     "cellMetadata": {},
     "inputWidgets": {},
     "nuid": "d9c22948-7c44-4be9-af3e-ee39ba01f960",
     "showTitle": false,
     "title": ""
    }
   },
   "source": [
    "**Insights**\n",
    "- There are reviews with no text. Though we couuld still use the rating information.\n",
    "- Most reviews don't have images.\n",
    "- `Vote` column has a lot of missing values."
   ]
  },
  {
   "cell_type": "markdown",
   "metadata": {
    "application/vnd.databricks.v1+cell": {
     "cellMetadata": {},
     "inputWidgets": {},
     "nuid": "630283bb-7dae-46f8-9179-5ae4263123af",
     "showTitle": false,
     "title": ""
    }
   },
   "source": [
    "---"
   ]
  },
  {
   "cell_type": "code",
   "execution_count": 0,
   "metadata": {
    "application/vnd.databricks.v1+cell": {
     "cellMetadata": {},
     "inputWidgets": {},
     "nuid": "436ea5cb-b19e-4e99-8440-d348f0898478",
     "showTitle": false,
     "title": ""
    },
    "colab": {
     "base_uri": "https://localhost:8080/",
     "height": 472
    },
    "id": "iD9Cpuo26i6p",
    "outputId": "abdb3a29-cb65-4026-e637-7ac88cc4e382",
    "tags": []
   },
   "outputs": [],
   "source": [
    "conteo_puntuaciones = data[\"overall\"].value_counts()\n",
    "\n",
    "plt.bar(conteo_puntuaciones.index, conteo_puntuaciones.values)\n",
    "plt.xlabel(\"Puntuación\")\n",
    "plt.ylabel(\"Cantidad\")\n",
    "plt.title(\"Distribución de puntuaciones\")\n",
    "plt.xticks(conteo_puntuaciones.index)\n",
    "plt.show()"
   ]
  },
  {
   "cell_type": "code",
   "execution_count": 0,
   "metadata": {
    "application/vnd.databricks.v1+cell": {
     "cellMetadata": {},
     "inputWidgets": {},
     "nuid": "dbeea620-e643-4ed1-a81d-7158e9b3cd7d",
     "showTitle": false,
     "title": ""
    },
    "tags": []
   },
   "outputs": [],
   "source": [
    "data[\"verified\"].value_counts().plot(kind=\"bar\", title=\"Verified vs Not Verified reviews\");"
   ]
  },
  {
   "cell_type": "code",
   "execution_count": 0,
   "metadata": {
    "application/vnd.databricks.v1+cell": {
     "cellMetadata": {},
     "inputWidgets": {},
     "nuid": "c346d5d2-75e5-4298-bfd1-85b85e8db1d9",
     "showTitle": false,
     "title": ""
    },
    "colab": {
     "base_uri": "https://localhost:8080/",
     "height": 472
    },
    "id": "ktT4SV-qof1y",
    "outputId": "33d3911e-f53f-48d0-dc01-b0be8b9a8915",
    "tags": []
   },
   "outputs": [],
   "source": [
    "conteo_puntuaciones = data_vtrue[\"overall\"].value_counts()\n",
    "\n",
    "plt.bar(conteo_puntuaciones.index, conteo_puntuaciones.values)\n",
    "plt.xlabel(\"Puntuación\")\n",
    "plt.ylabel(\"Cantidad\")\n",
    "plt.title(\"Distribución de puntuaciones con verificacion\")\n",
    "plt.xticks(conteo_puntuaciones.index)\n",
    "plt.show()"
   ]
  },
  {
   "cell_type": "markdown",
   "metadata": {
    "application/vnd.databricks.v1+cell": {
     "cellMetadata": {},
     "inputWidgets": {},
     "nuid": "ddcd2f0b-2f3d-478c-a30f-e1a3ca46d9ad",
     "showTitle": false,
     "title": ""
    }
   },
   "source": [
    "---"
   ]
  },
  {
   "cell_type": "code",
   "execution_count": 0,
   "metadata": {
    "application/vnd.databricks.v1+cell": {
     "cellMetadata": {},
     "inputWidgets": {},
     "nuid": "7d80c3a6-2db0-47a4-89dc-c32cc5bf458c",
     "showTitle": false,
     "title": ""
    },
    "tags": []
   },
   "outputs": [],
   "source": [
    "plt.figure(figsize=(20, 4))\n",
    "data[\"date\"].value_counts().plot(title=\"Number of reviews\");"
   ]
  },
  {
   "cell_type": "code",
   "execution_count": 0,
   "metadata": {
    "application/vnd.databricks.v1+cell": {
     "cellMetadata": {},
     "inputWidgets": {},
     "nuid": "118d561f-1709-4ca3-9546-7c63889303af",
     "showTitle": false,
     "title": ""
    },
    "tags": []
   },
   "outputs": [],
   "source": [
    "plt.figure(figsize=(20, 4))\n",
    "data[\"date\"][data[\"date\"].dt.year > 2012].value_counts().plot(title=\"Number of reviews\");"
   ]
  },
  {
   "cell_type": "code",
   "execution_count": 0,
   "metadata": {
    "application/vnd.databricks.v1+cell": {
     "cellMetadata": {},
     "inputWidgets": {},
     "nuid": "6b6f2aa6-ce79-4b3c-9e92-1527b42144d1",
     "showTitle": false,
     "title": ""
    },
    "tags": []
   },
   "outputs": [],
   "source": [
    "data[\"date\"].dt.weekday.value_counts().sort_index().plot(kind=\"bar\", title=\"Day of the week\");"
   ]
  },
  {
   "cell_type": "code",
   "execution_count": 0,
   "metadata": {
    "application/vnd.databricks.v1+cell": {
     "cellMetadata": {},
     "inputWidgets": {},
     "nuid": "9c417b1b-a3d4-40ef-bcdf-7e6704395f62",
     "showTitle": false,
     "title": ""
    },
    "tags": []
   },
   "outputs": [],
   "source": [
    "data[\"date\"].dt.day.value_counts().sort_index().plot(kind=\"bar\", title=\"Day of the month\");"
   ]
  },
  {
   "cell_type": "code",
   "execution_count": 0,
   "metadata": {
    "application/vnd.databricks.v1+cell": {
     "cellMetadata": {},
     "inputWidgets": {},
     "nuid": "b0349628-725d-4649-a988-3c1f96d1a33c",
     "showTitle": false,
     "title": ""
    },
    "tags": []
   },
   "outputs": [],
   "source": [
    "data[\"date\"].dt.year.value_counts().sort_index().plot(kind=\"bar\", title=\"Year\");"
   ]
  }
 ],
 "metadata": {
  "application/vnd.databricks.v1+notebook": {
   "dashboards": [],
   "language": "python",
   "notebookMetadata": {
    "pythonIndentUnit": 4
   },
   "notebookName": "1.1-eda-amazon-reviews-david",
   "widgets": {}
  },
  "colab": {
   "collapsed_sections": [
    "onyS4HDRnkk9"
   ],
   "provenance": []
  },
  "kernelspec": {
   "display_name": "default:Python",
   "language": "python",
   "name": "conda-env-default-py"
  },
  "language_info": {
   "codemirror_mode": {
    "name": "ipython",
    "version": 3
   },
   "file_extension": ".py",
   "mimetype": "text/x-python",
   "name": "python",
   "nbconvert_exporter": "python",
   "pygments_lexer": "ipython3",
   "version": "3.9.16"
  }
 },
 "nbformat": 4,
 "nbformat_minor": 0
}
