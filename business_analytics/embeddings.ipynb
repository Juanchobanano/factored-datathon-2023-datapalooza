{
 "cells": [
  {
   "cell_type": "code",
   "execution_count": 1,
   "id": "b6475e54-e9db-49e7-a8a3-46762cf0f3ce",
   "metadata": {
    "tags": []
   },
   "outputs": [],
   "source": [
    "from pprint import pprint\n",
    "\n",
    "import delta_sharing\n",
    "import pandas as pd\n",
    "from sentence_transformers import SentenceTransformer, util\n",
    "from sklearn.cluster import DBSCAN"
   ]
  },
  {
   "cell_type": "code",
   "execution_count": 2,
   "id": "ec145b80-4f55-49f4-a20c-76b5734c190b",
   "metadata": {
    "tags": []
   },
   "outputs": [
    {
     "name": "stdout",
     "output_type": "stream",
     "text": [
      "Available tables:\n",
      "[Table(name='sentiment', share='share__products', schema='gold'),\n",
      " Table(name='amazon_reviews_selected', share='share__products', schema='silver'),\n",
      " Table(name='intention', share='share__products', schema='gold'),\n",
      " Table(name='amazon_metadata_silver_selected', share='share__products', schema='silver'),\n",
      " Table(name='amazon_reviews_silver', share='share__products', schema='silver'),\n",
      " Table(name='amazon_metadata_silver', share='share__products', schema='silver')]\n"
     ]
    }
   ],
   "source": [
    "# get data\n",
    "profile_file = \"config.share\"\n",
    "client = delta_sharing.SharingClient(profile_file)\n",
    "print(\"Available tables:\")\n",
    "pprint(client.list_all_tables())\n",
    "\n",
    "# load metadata table\n",
    "table_url = profile_file + \"#share__products.silver.amazon_metadata_silver_selected\"\n",
    "df = delta_sharing.load_as_pandas(table_url)"
   ]
  },
  {
   "cell_type": "code",
   "execution_count": 3,
   "id": "796b5d8f-b235-4d59-976e-bc269b188847",
   "metadata": {
    "tags": []
   },
   "outputs": [
    {
     "name": "stdout",
     "output_type": "stream",
     "text": [
      "DataFrame shape: (91572, 15)\n"
     ]
    }
   ],
   "source": [
    "print(\"DataFrame shape:\", df.shape)"
   ]
  },
  {
   "cell_type": "code",
   "execution_count": 4,
   "id": "b5f89de7-b722-48cf-8d21-d7d1fe2cc846",
   "metadata": {
    "tags": []
   },
   "outputs": [
    {
     "name": "stdout",
     "output_type": "stream",
     "text": [
      "DataFrame shape: (91562, 15)\n"
     ]
    }
   ],
   "source": [
    "# discard empty strings\n",
    "df = df[df[\"title\"].map(len) > 0]\n",
    "print(\"DataFrame shape:\", df.shape)"
   ]
  },
  {
   "cell_type": "code",
   "execution_count": 5,
   "id": "438d6b87-41d2-4aee-84dd-0e69af1ec79a",
   "metadata": {
    "tags": []
   },
   "outputs": [
    {
     "data": {
      "text/plain": [
       "[\"Instructor's Resource CD-ROM for The Art of Speaking\",\n",
       " \"Como te va? Middle school Spanish Level A Teacher's edition.\",\n",
       " 'Medal of Honor: Warfighter - Includes Battlefield 4 Beta - Limited Edition',\n",
       " 'Applied Calculus Lecture Series VHS',\n",
       " \"Magruder's American Government Itext Interactive Textbook on Cd-rom Texas Edition\"]"
      ]
     },
     "execution_count": 5,
     "metadata": {},
     "output_type": "execute_result"
    }
   ],
   "source": [
    "product_titles = df[\"title\"].tolist()\n",
    "product_titles[:5]"
   ]
  },
  {
   "cell_type": "code",
   "execution_count": 6,
   "id": "27ca1b7e-e4a4-404f-9a46-b41596baed9b",
   "metadata": {
    "tags": []
   },
   "outputs": [
    {
     "name": "stderr",
     "output_type": "stream",
     "text": [
      "No sentence-transformers model found with name /home/studio-lab-user/.cache/torch/sentence_transformers/thenlper_gte-base. Creating a new one with MEAN pooling.\n"
     ]
    }
   ],
   "source": [
    "import torch\n",
    "from InstructorEmbedding import INSTRUCTOR\n",
    "\n",
    "device = \"cuda\" if torch.cuda.is_available() else \"cpu\"\n",
    "# model = INSTRUCTOR(\"hkunlp/instructor-large\", device=device)\n",
    "# model = SentenceTransformer(\"all-MiniLM-L6-v2\", device=device)\n",
    "model = SentenceTransformer(\"thenlper/gte-base\", device=device)\n",
    "# model = SentenceTransformer(\"thenlper/gte-large\", device=device)"
   ]
  },
  {
   "cell_type": "code",
   "execution_count": 7,
   "id": "4824d696-6031-4fa7-9c51-15bf73ed351a",
   "metadata": {
    "tags": []
   },
   "outputs": [],
   "source": [
    "# instruction = \"Represent the Amazon product title from clustering: \"\n",
    "# sentences = [[instruction, pt] for pt in product_titles]\n",
    "sentences = product_titles"
   ]
  },
  {
   "cell_type": "code",
   "execution_count": 8,
   "id": "a82bab6c-9200-4f56-9152-bc2b6935207b",
   "metadata": {
    "tags": []
   },
   "outputs": [
    {
     "name": "stdout",
     "output_type": "stream",
     "text": [
      "Embeddings shape: (91562, 768)\n",
      "Max : 2.5369804\n",
      "Min : -4.5617976\n",
      "Mean: -0.011828765\n",
      "Std : 0.59265023\n",
      "CPU times: user 1min 21s, sys: 27.2 s, total: 1min 48s\n",
      "Wall time: 1min 41s\n"
     ]
    }
   ],
   "source": [
    "%%time\n",
    "\n",
    "# instructor-large -> 9min\n",
    "# gte-base -> 2min\n",
    "# gte-large -> 5min\n",
    "embeddings = model.encode(sentences)\n",
    "print(\"Embeddings shape:\", embeddings.shape)\n",
    "print(\"Max :\", embeddings.max())\n",
    "print(\"Min :\", embeddings.min())\n",
    "print(\"Mean:\", embeddings.mean())\n",
    "print(\"Std :\", embeddings.std())"
   ]
  },
  {
   "cell_type": "code",
   "execution_count": 9,
   "id": "1e7c7e14-7b96-4353-98b7-5feb77ad1908",
   "metadata": {
    "tags": []
   },
   "outputs": [],
   "source": [
    "import pickle\n",
    "\n",
    "model_name = \"gte_base\"\n",
    "# Store sentences & embeddings on disc\n",
    "with open(f\"embeddings_product_titles_{model_name}.pkl\", \"wb\") as fOut:\n",
    "    pickle.dump(\n",
    "        {\"product_titles\": sentences, \"asin\": df[\"asin\"].tolist(), \"embeddings\": embeddings},\n",
    "        fOut,\n",
    "        protocol=pickle.HIGHEST_PROTOCOL,\n",
    "    )\n",
    "\n",
    "# Load sentences & embeddings from disc\n",
    "with open(f\"embeddings_product_titles_{model_name}.pkl\", \"rb\") as fIn:\n",
    "    stored_data = pickle.load(fIn)\n",
    "    stored_ids = stored_data[\"asin\"]\n",
    "    stored_sentences = stored_data[\"product_titles\"]\n",
    "    stored_embeddings = stored_data[\"embeddings\"]"
   ]
  },
  {
   "cell_type": "code",
   "execution_count": 134,
   "id": "1cc5717e-424a-43f3-8cec-097715091770",
   "metadata": {
    "tags": []
   },
   "outputs": [
    {
     "name": "stdout",
     "output_type": "stream",
     "text": [
      "CPU times: user 4min 5s, sys: 40.4 s, total: 4min 46s\n",
      "Wall time: 1min 34s\n"
     ]
    }
   ],
   "source": [
    "%%time\n",
    "from sklearn.cluster import HDBSCAN\n",
    "\n",
    "db = DBSCAN(eps=0.005, min_samples=2, metric=\"cosine\").fit(embeddings)"
   ]
  },
  {
   "cell_type": "code",
   "execution_count": 9,
   "id": "5dce6cbc-33ca-4510-9d1b-392f2862c4ab",
   "metadata": {},
   "outputs": [
    {
     "ename": "NameError",
     "evalue": "name 'db' is not defined",
     "output_type": "error",
     "traceback": [
      "\u001b[0;31m---------------------------------------------------------------------------\u001b[0m",
      "\u001b[0;31mNameError\u001b[0m                                 Traceback (most recent call last)",
      "\u001b[0;32m/tmp/ipykernel_6706/511822237.py\u001b[0m in \u001b[0;36m<cell line: 1>\u001b[0;34m()\u001b[0m\n\u001b[0;32m----> 1\u001b[0;31m \u001b[0mlabels\u001b[0m \u001b[0;34m=\u001b[0m \u001b[0mdb\u001b[0m\u001b[0;34m.\u001b[0m\u001b[0mlabels_\u001b[0m\u001b[0;34m\u001b[0m\u001b[0;34m\u001b[0m\u001b[0m\n\u001b[0m\u001b[1;32m      2\u001b[0m \u001b[0;31m# Number of clusters in labels, ignoring noise if present\u001b[0m\u001b[0;34m\u001b[0m\u001b[0;34m\u001b[0m\u001b[0m\n\u001b[1;32m      3\u001b[0m \u001b[0mn_clusters_\u001b[0m \u001b[0;34m=\u001b[0m \u001b[0mlen\u001b[0m\u001b[0;34m(\u001b[0m\u001b[0mset\u001b[0m\u001b[0;34m(\u001b[0m\u001b[0mlabels\u001b[0m\u001b[0;34m)\u001b[0m\u001b[0;34m)\u001b[0m \u001b[0;34m-\u001b[0m \u001b[0;34m(\u001b[0m\u001b[0;36m1\u001b[0m \u001b[0;32mif\u001b[0m \u001b[0;34m-\u001b[0m\u001b[0;36m1\u001b[0m \u001b[0;32min\u001b[0m \u001b[0mlabels\u001b[0m \u001b[0;32melse\u001b[0m \u001b[0;36m0\u001b[0m\u001b[0;34m)\u001b[0m\u001b[0;34m\u001b[0m\u001b[0;34m\u001b[0m\u001b[0m\n\u001b[1;32m      4\u001b[0m \u001b[0mn_noise_\u001b[0m \u001b[0;34m=\u001b[0m \u001b[0mlist\u001b[0m\u001b[0;34m(\u001b[0m\u001b[0mlabels\u001b[0m\u001b[0;34m)\u001b[0m\u001b[0;34m.\u001b[0m\u001b[0mcount\u001b[0m\u001b[0;34m(\u001b[0m\u001b[0;34m-\u001b[0m\u001b[0;36m1\u001b[0m\u001b[0;34m)\u001b[0m\u001b[0;34m\u001b[0m\u001b[0;34m\u001b[0m\u001b[0m\n\u001b[1;32m      5\u001b[0m \u001b[0;34m\u001b[0m\u001b[0m\n",
      "\u001b[0;31mNameError\u001b[0m: name 'db' is not defined"
     ]
    }
   ],
   "source": [
    "labels = db.labels_\n",
    "# Number of clusters in labels, ignoring noise if present\n",
    "n_clusters_ = len(set(labels)) - (1 if -1 in labels else 0)\n",
    "n_noise_ = list(labels).count(-1)\n",
    "\n",
    "print(f\"Estimated number of clusters: {n_clusters_}\")\n",
    "print(f\"Estimated number of noise points: {n_noise_}\")"
   ]
  },
  {
   "cell_type": "code",
   "execution_count": 142,
   "id": "3effca5e-059b-410c-9908-11553014174a",
   "metadata": {
    "tags": []
   },
   "outputs": [],
   "source": [
    "df[\"label\"] = labels"
   ]
  },
  {
   "cell_type": "code",
   "execution_count": 143,
   "id": "7b315c9e-298c-4e5e-8b19-d06e3b5573bf",
   "metadata": {
    "tags": []
   },
   "outputs": [
    {
     "data": {
      "text/html": [
       "<div>\n",
       "<style scoped>\n",
       "    .dataframe tbody tr th:only-of-type {\n",
       "        vertical-align: middle;\n",
       "    }\n",
       "\n",
       "    .dataframe tbody tr th {\n",
       "        vertical-align: top;\n",
       "    }\n",
       "\n",
       "    .dataframe thead th {\n",
       "        text-align: right;\n",
       "    }\n",
       "</style>\n",
       "<table border=\"1\" class=\"dataframe\">\n",
       "  <thead>\n",
       "    <tr style=\"text-align: right;\">\n",
       "      <th></th>\n",
       "      <th>count</th>\n",
       "    </tr>\n",
       "    <tr>\n",
       "      <th>label</th>\n",
       "      <th></th>\n",
       "    </tr>\n",
       "  </thead>\n",
       "  <tbody>\n",
       "    <tr>\n",
       "      <th>-1</th>\n",
       "      <td>40805</td>\n",
       "    </tr>\n",
       "    <tr>\n",
       "      <th>3607</th>\n",
       "      <td>2725</td>\n",
       "    </tr>\n",
       "    <tr>\n",
       "      <th>82</th>\n",
       "      <td>2094</td>\n",
       "    </tr>\n",
       "    <tr>\n",
       "      <th>17</th>\n",
       "      <td>533</td>\n",
       "    </tr>\n",
       "    <tr>\n",
       "      <th>6283</th>\n",
       "      <td>488</td>\n",
       "    </tr>\n",
       "    <tr>\n",
       "      <th>3535</th>\n",
       "      <td>423</td>\n",
       "    </tr>\n",
       "    <tr>\n",
       "      <th>42</th>\n",
       "      <td>315</td>\n",
       "    </tr>\n",
       "    <tr>\n",
       "      <th>29</th>\n",
       "      <td>302</td>\n",
       "    </tr>\n",
       "    <tr>\n",
       "      <th>1262</th>\n",
       "      <td>223</td>\n",
       "    </tr>\n",
       "    <tr>\n",
       "      <th>3006</th>\n",
       "      <td>213</td>\n",
       "    </tr>\n",
       "  </tbody>\n",
       "</table>\n",
       "</div>"
      ],
      "text/plain": [
       "       count\n",
       "label       \n",
       "-1     40805\n",
       " 3607   2725\n",
       " 82     2094\n",
       " 17      533\n",
       " 6283    488\n",
       " 3535    423\n",
       " 42      315\n",
       " 29      302\n",
       " 1262    223\n",
       " 3006    213"
      ]
     },
     "execution_count": 143,
     "metadata": {},
     "output_type": "execute_result"
    }
   ],
   "source": [
    "top_clusters = df[\"label\"].value_counts().to_frame()\n",
    "top_clusters.head(10)"
   ]
  },
  {
   "cell_type": "code",
   "execution_count": 165,
   "id": "de99f579-1e7c-45e1-bc64-f1af3296cc3b",
   "metadata": {
    "tags": []
   },
   "outputs": [
    {
     "name": "stdout",
     "output_type": "stream",
     "text": [
      "CLUSTER INDEX: 221, CLUSTER_SIZE: 99\n",
      "\n",
      "Need For Speed III: Hot Pursuit\n",
      "Need for Speed 3: Hot Pursuit\n",
      "Need for Speed 3:  Hot Pursuit - PC\n",
      "Need for Speed Underground 2\n",
      "Need for Speed: Hot Pursuit [GameCube]\n",
      "Need For Speed Hot Pursuit 2 (UK)\n",
      "Need for Speed: Hot Pursuit 2 - PC\n",
      "Need for Speed: Hot Pursuit 2\n",
      "Need for Speed: Hot Pursuit 2\n",
      "Need for Speed Underground 2\n",
      "NEED FOR SPEED III - HOT PURSUIT\n",
      "Need for Speed Underground - PC\n",
      "Need for Speed Underground - Xbox\n",
      "Need For Speed Underground\n",
      "Need for Speed: Hot Pursuit 2\n",
      "Need For Speed: Underground 2 - PC\n",
      "Need for Speed: Underground 2 - Xbox\n",
      "Need for Speed Underground 2 - PlayStation 2\n",
      "Need for Speed: Underground 2 (UK)\n",
      "Need for Speed Most Wanted - Xbox\n",
      "Need for Speed: Most Wanted (PS2)\n",
      "The World of Need for Speed - PC\n",
      "Need for Speed: Underground 2 (UK)\n",
      "Need for Speed Most Wanted\n",
      "Need for Speed Carbon: Own the City - Nintendo DS\n",
      "Need for Speed Carbon - Gamecube\n",
      "Need for Speed Carbon: Own the City Greatest Hits -Sony PSP\n",
      "Need for Speed Carbon Collectors Edition -Xbox 360\n",
      "Need for Speed Carbon - PlayStation 2\n",
      "Need for Speed Carbon Collector's Edition - PlayStation 2\n",
      "Need for Speed: Carbon - PS2\n",
      "NEED FOR SPEED 2\n",
      "Electronic Arts Need For Speed: Carbon Ps3 [playstation 3]\n",
      "Need for Speed Underground 2 (Germany)\n",
      " Need for Speed\n",
      " Need for Speed\n",
      "Need For Speed Hot Pursuit - Nintendo Wii\n",
      "Need for Speed Hot Pursuit - PC\n",
      "Need For Speed Hot Pursuit [Xbox 360]\n",
      "need for speed carbon\n",
      "Need for Speed: Most Wanted\n",
      "Need for Speed: Most Wanted\n",
      "Need for Speed The Run\n",
      "Need For Speed - Most Wanted (PlayStation Vita)\n",
      "Need for Speed- Carbon City\n",
      "Need for Speed Most Wanted (Limited Edition)\n",
      "Need for Speed: Rivals\n",
      "Need for Speed Rivals - Xbox One\n",
      "Need for Speed: Rivals\n",
      "Need For Speed III: Hot Pursuit\n",
      "Need for Speed Rivals:  [Instant Access]\n",
      "Need for Speed Most Wanted Bonus Edition\n",
      "Need for Speed Rivals (Complete Edition) - Xbox One\n",
      "Need for Speed Rivals (Complete Edition) - PlayStation 3\n",
      "Need for Speed Rivals Complete Edition [Instant Access]\n",
      "Need for Speed - PlayStation 4\n",
      "Need for Speed - Xbox One\n",
      "Need for Speed - Deluxe Edition - PlayStation 4\n",
      "Need for Speed - PC [Digital Code]\n",
      "Need For Speed Standard Edition - Xbox One Digital Code\n",
      "Need for Speed: The Run - Limited Edition - PC-DVD - Free Action Game with Every Purchase\n",
      "Need for Speed II\n",
      "Need for Speed: V-Rally 2\n",
      "Need for Speed: V Rally\n",
      "Need for Speed Hot Pursuit 2 - PlayStation 2\n",
      "Need For Speed Hot Pursuit\n",
      "Need for Speed: Underground\n",
      "Need for Speed Underground 2\n",
      "Need for Speed Underground\n",
      "Need for Speed Underground 2 - Nintendo DS\n",
      "Need For Speed: Most Wanted - Gamecube\n",
      "Need for Speed: Most Wanted (Greatest Hits)\n",
      "Need For Speed: Most Wanted\n",
      "Need for Speed Most Wanted - Sony PSP\n",
      "Need for Speed Most Wanted\n",
      "Need for Speed Most Wanted PC\n",
      "Need for Speed Most Wanted - Xbox 360\n",
      "Need for Speed Most Wanted - Nintendo DS\n",
      "Need for Speed: Most Wanted, Black Edition\n",
      "Need for Speed: Most Wanted Black Edition\n",
      "Need for Speed Carbon: Own the City\n",
      "Need for Speed: Carbon - Playstation 3\n",
      "Need for Speed Carbon - Nintendo Wii\n",
      "Need for Speed: Carbon - Mac\n",
      "Need for Speed: Hot Pursuit, XBOX 360\n",
      "Need for Speed Hot Pursuit - Playstation 3\n",
      "Need for Speed Most Wanted - Playstation 3\n",
      "Need for Speed: Most Wanted\n",
      "Need for Speed Most Wanted (Limited Edition)\n",
      "Need for Speed Rivals - Xbox 360\n",
      "Need for Speed: Rivals\n",
      "Need For Speed Rivals - Xbox One\n",
      "Need for Speed: The Run Limited Edition\n",
      "Need for Speed Rivals (Complete Edition) - Xbox 360\n",
      "Need for Speed Rivals (Complete Edition) - PlayStation 4\n",
      "Need for Speed Rivals (Complete Edition) - PC\n",
      "Need for Speed - Deluxe Edition - Xbox One\n",
      "Need For Speed Deluxe Edition - Xbox One Digital Code\n",
      "Need for Speed: Hot Pursuit - Xbox 360 Digital Code\n"
     ]
    }
   ],
   "source": [
    "idx = 21\n",
    "cluster_idx = top_clusters.index[idx]\n",
    "\n",
    "print(f\"CLUSTER INDEX: {cluster_idx}, CLUSTER_SIZE: {top_clusters.iloc[idx].item()}\")\n",
    "print()\n",
    "\n",
    "for c, i in enumerate(df.groupby(df[\"label\"]).get_group(cluster_idx)[\"title\"]):\n",
    "    if c >= 100:\n",
    "        break\n",
    "    print(i)"
   ]
  },
  {
   "cell_type": "markdown",
   "id": "8e76c3cf-2773-4476-9408-b9567c6145d7",
   "metadata": {},
   "source": [
    "## **Semantic search**"
   ]
  },
  {
   "cell_type": "code",
   "execution_count": 137,
   "id": "c95962ad-c338-4bfb-a46a-e008deb8aff6",
   "metadata": {
    "tags": []
   },
   "outputs": [],
   "source": [
    "import torch\n",
    "from sentence_transformers.util import semantic_search\n",
    "\n",
    "query_text = \"cctv\"\n",
    "query_embedding = model.encode(query_text, convert_to_tensor=True)\n",
    "corpus_embeddings = torch.from_numpy(embeddings)"
   ]
  },
  {
   "cell_type": "code",
   "execution_count": 138,
   "id": "ef9f841b-f367-4572-92f1-64aed49d9518",
   "metadata": {
    "tags": []
   },
   "outputs": [
    {
     "ename": "NameError",
     "evalue": "name 'device' is not defined",
     "output_type": "error",
     "traceback": [
      "\u001b[0;31m---------------------------------------------------------------------------\u001b[0m",
      "\u001b[0;31mNameError\u001b[0m                                 Traceback (most recent call last)",
      "\u001b[0;32m/tmp/ipykernel_4265/3872665663.py\u001b[0m in \u001b[0;36m<cell line: 1>\u001b[0;34m()\u001b[0m\n\u001b[0;32m----> 1\u001b[0;31m \u001b[0mquery_embedding\u001b[0m \u001b[0;34m=\u001b[0m \u001b[0mquery_embedding\u001b[0m\u001b[0;34m.\u001b[0m\u001b[0mto\u001b[0m\u001b[0;34m(\u001b[0m\u001b[0mdevice\u001b[0m\u001b[0;34m)\u001b[0m\u001b[0;34m\u001b[0m\u001b[0;34m\u001b[0m\u001b[0m\n\u001b[0m\u001b[1;32m      2\u001b[0m \u001b[0mcorpus_embeddings\u001b[0m \u001b[0;34m=\u001b[0m \u001b[0mcorpus_embeddings\u001b[0m\u001b[0;34m.\u001b[0m\u001b[0mto\u001b[0m\u001b[0;34m(\u001b[0m\u001b[0mdevice\u001b[0m\u001b[0;34m)\u001b[0m\u001b[0;34m\u001b[0m\u001b[0;34m\u001b[0m\u001b[0m\n",
      "\u001b[0;31mNameError\u001b[0m: name 'device' is not defined"
     ]
    }
   ],
   "source": [
    "query_embedding = query_embedding.to(device)\n",
    "corpus_embeddings = corpus_embeddings.to(device)"
   ]
  },
  {
   "cell_type": "code",
   "execution_count": 139,
   "id": "1c16e448-b7e6-404a-b3d3-f2ec8630e1a4",
   "metadata": {
    "tags": []
   },
   "outputs": [
    {
     "data": {
      "text/plain": [
       "[[{'corpus_id': 19069, 'score': 0.8483919501304626},\n",
       "  {'corpus_id': 78452, 'score': 0.8329084515571594},\n",
       "  {'corpus_id': 15082, 'score': 0.8299873471260071},\n",
       "  {'corpus_id': 13485, 'score': 0.8295143842697144},\n",
       "  {'corpus_id': 1397, 'score': 0.8291088938713074},\n",
       "  {'corpus_id': 76003, 'score': 0.8286737203598022},\n",
       "  {'corpus_id': 41726, 'score': 0.8279640078544617},\n",
       "  {'corpus_id': 8154, 'score': 0.8279042840003967},\n",
       "  {'corpus_id': 55624, 'score': 0.8279042840003967},\n",
       "  {'corpus_id': 70914, 'score': 0.8271548748016357}]]"
      ]
     },
     "execution_count": 139,
     "metadata": {},
     "output_type": "execute_result"
    }
   ],
   "source": [
    "results = semantic_search(query_embedding, corpus_embeddings, top_k=10)\n",
    "results"
   ]
  },
  {
   "cell_type": "code",
   "execution_count": 133,
   "id": "af3167ed-21bc-4450-8486-130a881a78ea",
   "metadata": {
    "tags": []
   },
   "outputs": [
    {
     "name": "stdout",
     "output_type": "stream",
     "text": [
      "Swann IP-3G ConnectCam 500 Wireless Network Internet Security Surveillance Video Camera\n",
      "TriVision NC-227WF HD 720P Wifi Wireless IP Network Camera Home Security Camera, Wired, Motion Sensor, IR Night Vision, Dvr Micro Sd Card, Plug and Play Apps on iPhone, Android, PC, Mac\n",
      "Video Patrol 5.0 By Honest Technology\n",
      "Xbox 360 Live Vision Camera\n",
      "ScreenCam\n",
      "Eyeline Camera (3 line) Video Surveillance Software [Download]\n",
      "IP camera monitoring software [Download]\n",
      "COSMI Police Chase ( Windows )\n",
      "COSMI Police Chase ( Windows )\n",
      "HDE EasyCap Model 002 - 4 Channel USB 2.0 DVR Video Audio CCTV Capture Adapter\n"
     ]
    }
   ],
   "source": [
    "for result in results[0]:\n",
    "    id = result[\"corpus_id\"]\n",
    "    title = df[\"title\"].iloc[id]\n",
    "    print(title)"
   ]
  },
  {
   "cell_type": "code",
   "execution_count": null,
   "id": "2c94628e-7ea3-4e8f-b213-27dceb249f15",
   "metadata": {},
   "outputs": [],
   "source": []
  }
 ],
 "metadata": {
  "kernelspec": {
   "display_name": "default:Python",
   "language": "python",
   "name": "conda-env-default-py"
  },
  "language_info": {
   "codemirror_mode": {
    "name": "ipython",
    "version": 3
   },
   "file_extension": ".py",
   "mimetype": "text/x-python",
   "name": "python",
   "nbconvert_exporter": "python",
   "pygments_lexer": "ipython3",
   "version": "3.9.16"
  }
 },
 "nbformat": 4,
 "nbformat_minor": 5
}
