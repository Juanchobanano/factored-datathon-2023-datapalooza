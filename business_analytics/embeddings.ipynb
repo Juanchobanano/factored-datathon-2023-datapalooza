{
 "cells": [
  {
   "cell_type": "code",
   "execution_count": 0,
   "metadata": {
    "application/vnd.databricks.v1+cell": {
     "cellMetadata": {},
     "inputWidgets": {},
     "nuid": "d937acc2-f2d4-4585-8ece-ac494cb1f362",
     "showTitle": false,
     "title": ""
    },
    "tags": []
   },
   "outputs": [],
   "source": [
    "from pprint import pprint\n",
    "\n",
    "import delta_sharing\n",
    "import pandas as pd\n",
    "from sentence_transformers import SentenceTransformer, util\n",
    "from sklearn.cluster import DBSCAN"
   ]
  },
  {
   "cell_type": "code",
   "execution_count": 0,
   "metadata": {
    "application/vnd.databricks.v1+cell": {
     "cellMetadata": {},
     "inputWidgets": {},
     "nuid": "4128a05f-bb14-41e3-8449-2a579b8de8e6",
     "showTitle": false,
     "title": ""
    },
    "tags": []
   },
   "outputs": [],
   "source": [
    "# get data\n",
    "profile_file = \"config.share\"\n",
    "client = delta_sharing.SharingClient(profile_file)\n",
    "print(\"Available tables:\")\n",
    "pprint(client.list_all_tables())\n",
    "\n",
    "# load metadata table\n",
    "table_url = profile_file + \"#share__products.silver.amazon_metadata_silver_selected\"\n",
    "df = delta_sharing.load_as_pandas(table_url)"
   ]
  },
  {
   "cell_type": "code",
   "execution_count": 0,
   "metadata": {
    "application/vnd.databricks.v1+cell": {
     "cellMetadata": {},
     "inputWidgets": {},
     "nuid": "d64e2161-9df5-4d22-9b19-9dd8a593977f",
     "showTitle": false,
     "title": ""
    },
    "tags": []
   },
   "outputs": [],
   "source": [
    "print(\"DataFrame shape:\", df.shape)"
   ]
  },
  {
   "cell_type": "code",
   "execution_count": 0,
   "metadata": {
    "application/vnd.databricks.v1+cell": {
     "cellMetadata": {},
     "inputWidgets": {},
     "nuid": "2a37ee87-0efd-43f6-b6b0-3a49bfdd0d7c",
     "showTitle": false,
     "title": ""
    },
    "tags": []
   },
   "outputs": [],
   "source": [
    "# discard empty strings\n",
    "df = df[df[\"title\"].map(len) > 0]\n",
    "print(\"DataFrame shape:\", df.shape)"
   ]
  },
  {
   "cell_type": "code",
   "execution_count": 0,
   "metadata": {
    "application/vnd.databricks.v1+cell": {
     "cellMetadata": {},
     "inputWidgets": {},
     "nuid": "48af8c84-0b5a-4727-b5c3-de55399f648b",
     "showTitle": false,
     "title": ""
    },
    "tags": []
   },
   "outputs": [],
   "source": [
    "product_titles = df[\"title\"].tolist()\n",
    "product_titles[:5]"
   ]
  },
  {
   "cell_type": "code",
   "execution_count": 0,
   "metadata": {
    "application/vnd.databricks.v1+cell": {
     "cellMetadata": {},
     "inputWidgets": {},
     "nuid": "35271326-4cad-42e5-85a6-1001b602652e",
     "showTitle": false,
     "title": ""
    },
    "tags": []
   },
   "outputs": [],
   "source": [
    "import torch\n",
    "from InstructorEmbedding import INSTRUCTOR\n",
    "\n",
    "device = \"cuda\" if torch.cuda.is_available() else \"cpu\"\n",
    "# model = INSTRUCTOR(\"hkunlp/instructor-large\", device=device)\n",
    "# model = SentenceTransformer(\"all-MiniLM-L6-v2\", device=device)\n",
    "model = SentenceTransformer(\"thenlper/gte-base\", device=device)\n",
    "# model = SentenceTransformer(\"thenlper/gte-large\", device=device)"
   ]
  },
  {
   "cell_type": "code",
   "execution_count": 0,
   "metadata": {
    "application/vnd.databricks.v1+cell": {
     "cellMetadata": {},
     "inputWidgets": {},
     "nuid": "ba61a1f3-ca02-484b-9e8f-e2e03f89611c",
     "showTitle": false,
     "title": ""
    },
    "tags": []
   },
   "outputs": [],
   "source": [
    "# instruction = \"Represent the Amazon product title from clustering: \"\n",
    "# sentences = [[instruction, pt] for pt in product_titles]\n",
    "sentences = product_titles"
   ]
  },
  {
   "cell_type": "code",
   "execution_count": 0,
   "metadata": {
    "application/vnd.databricks.v1+cell": {
     "cellMetadata": {},
     "inputWidgets": {},
     "nuid": "dc2d8eb3-b6da-4a2c-99ff-db753dab2c8e",
     "showTitle": false,
     "title": ""
    },
    "tags": []
   },
   "outputs": [],
   "source": [
    "%%time\n",
    "\n",
    "# instructor-large -> 9min\n",
    "# gte-base -> 2min\n",
    "# gte-large -> 5min\n",
    "embeddings = model.encode(sentences)\n",
    "print(\"Embeddings shape:\", embeddings.shape)\n",
    "print(\"Max :\", embeddings.max())\n",
    "print(\"Min :\", embeddings.min())\n",
    "print(\"Mean:\", embeddings.mean())\n",
    "print(\"Std :\", embeddings.std())"
   ]
  },
  {
   "cell_type": "code",
   "execution_count": 0,
   "metadata": {
    "application/vnd.databricks.v1+cell": {
     "cellMetadata": {},
     "inputWidgets": {},
     "nuid": "2bf0bcf2-b080-4bd2-81cd-a1cf775803c2",
     "showTitle": false,
     "title": ""
    },
    "tags": []
   },
   "outputs": [],
   "source": [
    "import pickle\n",
    "\n",
    "model_name = \"gte_base\"\n",
    "# Store sentences & embeddings on disc\n",
    "with open(f\"embeddings_product_titles_{model_name}.pkl\", \"wb\") as fOut:\n",
    "    pickle.dump(\n",
    "        {\"product_titles\": sentences, \"asin\": df[\"asin\"].tolist(), \"embeddings\": embeddings},\n",
    "        fOut,\n",
    "        protocol=pickle.HIGHEST_PROTOCOL,\n",
    "    )\n",
    "\n",
    "# Load sentences & embeddings from disc\n",
    "with open(f\"embeddings_product_titles_{model_name}.pkl\", \"rb\") as fIn:\n",
    "    stored_data = pickle.load(fIn)\n",
    "    stored_ids = stored_data[\"asin\"]\n",
    "    stored_sentences = stored_data[\"product_titles\"]\n",
    "    stored_embeddings = stored_data[\"embeddings\"]"
   ]
  },
  {
   "cell_type": "code",
   "execution_count": 0,
   "metadata": {
    "application/vnd.databricks.v1+cell": {
     "cellMetadata": {},
     "inputWidgets": {},
     "nuid": "5ffc5679-9d8f-4294-907f-0597891bd89c",
     "showTitle": false,
     "title": ""
    },
    "tags": []
   },
   "outputs": [],
   "source": [
    "%%time\n",
    "from sklearn.cluster import HDBSCAN\n",
    "\n",
    "db = DBSCAN(eps=0.005, min_samples=2, metric=\"cosine\").fit(embeddings)"
   ]
  },
  {
   "cell_type": "code",
   "execution_count": 0,
   "metadata": {
    "application/vnd.databricks.v1+cell": {
     "cellMetadata": {},
     "inputWidgets": {},
     "nuid": "f0ed5150-c9be-489e-9963-0fdc951385ea",
     "showTitle": false,
     "title": ""
    }
   },
   "outputs": [],
   "source": [
    "labels = db.labels_\n",
    "# Number of clusters in labels, ignoring noise if present\n",
    "n_clusters_ = len(set(labels)) - (1 if -1 in labels else 0)\n",
    "n_noise_ = list(labels).count(-1)\n",
    "\n",
    "print(f\"Estimated number of clusters: {n_clusters_}\")\n",
    "print(f\"Estimated number of noise points: {n_noise_}\")"
   ]
  },
  {
   "cell_type": "code",
   "execution_count": 0,
   "metadata": {
    "application/vnd.databricks.v1+cell": {
     "cellMetadata": {},
     "inputWidgets": {},
     "nuid": "7cf27906-ceab-422c-9e31-29024aa01d43",
     "showTitle": false,
     "title": ""
    },
    "tags": []
   },
   "outputs": [],
   "source": [
    "df[\"label\"] = labels"
   ]
  },
  {
   "cell_type": "code",
   "execution_count": 0,
   "metadata": {
    "application/vnd.databricks.v1+cell": {
     "cellMetadata": {},
     "inputWidgets": {},
     "nuid": "1e28fbb1-8449-494b-8594-cddf17c6256d",
     "showTitle": false,
     "title": ""
    },
    "tags": []
   },
   "outputs": [],
   "source": [
    "top_clusters = df[\"label\"].value_counts().to_frame()\n",
    "top_clusters.head(10)"
   ]
  },
  {
   "cell_type": "code",
   "execution_count": 0,
   "metadata": {
    "application/vnd.databricks.v1+cell": {
     "cellMetadata": {},
     "inputWidgets": {},
     "nuid": "a9120bcb-9e8f-4e72-90f2-2f4257d0e471",
     "showTitle": false,
     "title": ""
    },
    "tags": []
   },
   "outputs": [],
   "source": [
    "idx = 21\n",
    "cluster_idx = top_clusters.index[idx]\n",
    "\n",
    "print(f\"CLUSTER INDEX: {cluster_idx}, CLUSTER_SIZE: {top_clusters.iloc[idx].item()}\")\n",
    "print()\n",
    "\n",
    "for c, i in enumerate(df.groupby(df[\"label\"]).get_group(cluster_idx)[\"title\"]):\n",
    "    if c >= 100:\n",
    "        break\n",
    "    print(i)"
   ]
  },
  {
   "cell_type": "markdown",
   "metadata": {
    "application/vnd.databricks.v1+cell": {
     "cellMetadata": {},
     "inputWidgets": {},
     "nuid": "d24b42c6-2c77-49b0-9dde-deb84216f3f6",
     "showTitle": false,
     "title": ""
    }
   },
   "source": [
    "## **Semantic search**"
   ]
  },
  {
   "cell_type": "code",
   "execution_count": 0,
   "metadata": {
    "application/vnd.databricks.v1+cell": {
     "cellMetadata": {},
     "inputWidgets": {},
     "nuid": "8bd8d0f6-9531-4cab-91a4-75e8665cff79",
     "showTitle": false,
     "title": ""
    },
    "tags": []
   },
   "outputs": [],
   "source": [
    "import torch\n",
    "from sentence_transformers.util import semantic_search\n",
    "\n",
    "query_text = \"cctv\"\n",
    "query_embedding = model.encode(query_text, convert_to_tensor=True)\n",
    "corpus_embeddings = torch.from_numpy(embeddings)"
   ]
  },
  {
   "cell_type": "code",
   "execution_count": 0,
   "metadata": {
    "application/vnd.databricks.v1+cell": {
     "cellMetadata": {},
     "inputWidgets": {},
     "nuid": "19f9493e-1c36-4550-a7e4-e9ab3aee64db",
     "showTitle": false,
     "title": ""
    },
    "tags": []
   },
   "outputs": [],
   "source": [
    "query_embedding = query_embedding.to(device)\n",
    "corpus_embeddings = corpus_embeddings.to(device)"
   ]
  },
  {
   "cell_type": "code",
   "execution_count": 0,
   "metadata": {
    "application/vnd.databricks.v1+cell": {
     "cellMetadata": {},
     "inputWidgets": {},
     "nuid": "e8951c4e-ccb2-436a-bef1-af84284ab3c3",
     "showTitle": false,
     "title": ""
    },
    "tags": []
   },
   "outputs": [],
   "source": [
    "results = semantic_search(query_embedding, corpus_embeddings, top_k=10)\n",
    "results"
   ]
  },
  {
   "cell_type": "code",
   "execution_count": 0,
   "metadata": {
    "application/vnd.databricks.v1+cell": {
     "cellMetadata": {},
     "inputWidgets": {},
     "nuid": "df95a4bb-efce-4b98-95a7-2c64f0f14121",
     "showTitle": false,
     "title": ""
    },
    "tags": []
   },
   "outputs": [],
   "source": [
    "for result in results[0]:\n",
    "    id = result[\"corpus_id\"]\n",
    "    title = df[\"title\"].iloc[id]\n",
    "    print(title)"
   ]
  },
  {
   "cell_type": "code",
   "execution_count": 0,
   "metadata": {
    "application/vnd.databricks.v1+cell": {
     "cellMetadata": {},
     "inputWidgets": {},
     "nuid": "9a15e602-2efb-456b-8a34-425be6763781",
     "showTitle": false,
     "title": ""
    }
   },
   "outputs": [],
   "source": []
  }
 ],
 "metadata": {
  "application/vnd.databricks.v1+notebook": {
   "dashboards": [],
   "language": "python",
   "notebookMetadata": {
    "pythonIndentUnit": 4
   },
   "notebookName": "embeddings",
   "widgets": {}
  },
  "kernelspec": {
   "display_name": "default:Python",
   "language": "python",
   "name": "conda-env-default-py"
  },
  "language_info": {
   "codemirror_mode": {
    "name": "ipython",
    "version": 3
   },
   "file_extension": ".py",
   "mimetype": "text/x-python",
   "name": "python",
   "nbconvert_exporter": "python",
   "pygments_lexer": "ipython3",
   "version": "3.9.16"
  }
 },
 "nbformat": 4,
 "nbformat_minor": 0
}
