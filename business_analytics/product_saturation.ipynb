{
 "cells": [
  {
   "cell_type": "markdown",
   "id": "9289e13f-4cee-40e2-8e66-6db39a77108c",
   "metadata": {},
   "source": [
    "## **Product Saturation**"
   ]
  },
  {
   "cell_type": "code",
   "execution_count": 30,
   "id": "ef5aca87-1aed-4ad1-9c08-98ce0df183f9",
   "metadata": {
    "tags": []
   },
   "outputs": [],
   "source": [
    "import pickle\n",
    "from pathlib import Path\n",
    "\n",
    "import delta_sharing\n",
    "from sklearn.cluster import DBSCAN"
   ]
  },
  {
   "cell_type": "code",
   "execution_count": 15,
   "id": "a38aa64e-b9fc-4293-a9d6-ed13a7d75043",
   "metadata": {
    "tags": []
   },
   "outputs": [
    {
     "name": "stdout",
     "output_type": "stream",
     "text": [
      "DataFrame shape: (91562, 15)\n"
     ]
    }
   ],
   "source": [
    "# get data\n",
    "profile_file = \"config.share\"\n",
    "client = delta_sharing.SharingClient(profile_file)\n",
    "table_url = f\"{profile_file}#share__products.silver.amazon_metadata_silver_selected\"\n",
    "\n",
    "df = delta_sharing.load_as_pandas(table_url)\n",
    "\n",
    "# Load from Databricks\n",
    "# df = spark.table(\"products.silver.amazon_reviews_selected\")\n",
    "# df = df.toPandas()\n",
    "\n",
    "# discard empty strings\n",
    "df = df[df[\"title\"].map(len) > 0]\n",
    "print(\"DataFrame shape:\", df.shape)"
   ]
  },
  {
   "cell_type": "code",
   "execution_count": 12,
   "id": "7e8aae21-3efa-452e-80ba-e24edcb1097c",
   "metadata": {
    "tags": []
   },
   "outputs": [],
   "source": [
    "# TODO: Load the embeddings in databricks\n",
    "model_name = \"gte_base\"\n",
    "emb_dir = Path(\"\")\n",
    "# Load sentences & embeddings from disc\n",
    "with open(emb_dir / f\"embeddings_product_titles_{model_name}.pkl\", \"rb\") as fIn:\n",
    "    data = pickle.load(fIn)\n",
    "    asin = data[\"asin\"]\n",
    "    product_titles = data[\"product_titles\"]\n",
    "    embeddings = data[\"embeddings\"]"
   ]
  },
  {
   "cell_type": "code",
   "execution_count": 36,
   "id": "ef11dd90-4af5-4b10-b71e-2e6366e205b4",
   "metadata": {
    "tags": []
   },
   "outputs": [
    {
     "name": "stdout",
     "output_type": "stream",
     "text": [
      "CPU times: user 4min 10s, sys: 42.4 s, total: 4min 52s\n",
      "Wall time: 1min 38s\n"
     ]
    }
   ],
   "source": [
    "%%time\n",
    "\n",
    "db = DBSCAN(eps=0.05, min_samples=2, metric=\"cosine\").fit(embeddings)"
   ]
  },
  {
   "cell_type": "code",
   "execution_count": 37,
   "id": "b246abda-c218-4f7c-ad31-1f17761fd998",
   "metadata": {
    "tags": []
   },
   "outputs": [
    {
     "name": "stdout",
     "output_type": "stream",
     "text": [
      "Estimated number of clusters: 10845\n",
      "Estimated number of noise points: 40805\n"
     ]
    }
   ],
   "source": [
    "labels = db.labels_\n",
    "# Number of clusters in labels, ignoring noise if present\n",
    "n_clusters_ = len(set(labels)) - (1 if -1 in labels else 0)\n",
    "n_noise_ = list(labels).count(-1)\n",
    "\n",
    "print(f\"Estimated number of clusters: {n_clusters_}\")\n",
    "print(f\"Estimated number of noise points: {n_noise_}\")"
   ]
  },
  {
   "cell_type": "code",
   "execution_count": 38,
   "id": "89ee6311-1f08-4302-81b9-be81773b5af0",
   "metadata": {
    "tags": []
   },
   "outputs": [],
   "source": [
    "df[\"label\"] = labels"
   ]
  },
  {
   "cell_type": "code",
   "execution_count": 153,
   "id": "d7ceb9e5-e41c-4dba-8189-0b7587cae174",
   "metadata": {
    "tags": []
   },
   "outputs": [
    {
     "data": {
      "text/plain": [
       "label\n",
       "-1       40805\n",
       " 3607     2725\n",
       " 82       2094\n",
       " 17        533\n",
       " 6283      488\n",
       " 3535      423\n",
       " 42        315\n",
       " 29        302\n",
       " 1262      223\n",
       " 3006      213\n",
       "Name: count, dtype: int64"
      ]
     },
     "execution_count": 153,
     "metadata": {},
     "output_type": "execute_result"
    }
   ],
   "source": [
    "label_counts = df[\"label\"].value_counts()\n",
    "label_counts.head(10)"
   ]
  },
  {
   "cell_type": "code",
   "execution_count": 43,
   "id": "0a415600-05bf-4195-8f3e-7dc6c2f0a0eb",
   "metadata": {
    "collapsed": true,
    "jupyter": {
     "outputs_hidden": true
    },
    "tags": []
   },
   "outputs": [
    {
     "name": "stdout",
     "output_type": "stream",
     "text": [
      "CLUSTER INDEX: 6283, CLUSTER_SIZE: 488\n",
      "\n",
      "Naruto Xbox 360 Skin Set - Console with 2 Controllers\n",
      "MODFREAKZ  Console and Controller Vinyl Skin Set - Flaming Blue Skull for Playstation 4\n",
      "ModFreakz&reg; Console/Controller Vinyl Skin Set - Battlefield 4 War for PS4 Original\n",
      "MODFREAKZ  Console and Controller Vinyl Skin Set - Stealth Gun Fight Watchdog for Playstation 4\n",
      "Mod Freakz PS4 Console and Controller Vinyl Skin Decal COD Ghosts\n",
      "Mod Freakz Console and Controller Vinyl Skin Set - Assassins Creed Rev for Playstation 4\n",
      "ModFreakz  Console/Controller Vinyl Skin Set - God of War Kratos for Xbox One Original\n",
      "Mod Freakz Console and Controller Vinyl Skin Set - Fighting Ninja Girl Mirror's Edge for Playstation 4\n",
      "Mod Freakz Console and Controller Vinyl Skin Set - Dragon Scales for Playstation 4\n",
      "Mod Freakz Console and Controller Vinyl Skin Set - Brown Snake Scales Anaconda for Playstation 4\n",
      "Mod Freakz Console and Controller Vinyl Skin Set - Superheroes for Playstation 4\n",
      "ModFreakz&reg; Console/Controller Vinyl Skin Set - Girl With Cape Hero for Xbox One Original\n",
      "ModFreakz  Console/Controller Vinyl Skin Set - Galaxy Girl Astronaut for Xbox One Original\n",
      "MODFREAKZ Console and Controller Vinyl Skin Set - Moon Planet Stars for Playstation 4\n",
      "Mod Freakz Console and Controller Vinyl Skin Set - Super Hero Cartoons for Playstation 4\n",
      "ModFreakz  Console/Controller Vinyl Skin Set - Gray Ash Barn Tree for Xbox One Original\n",
      "ModFreakz  Console/Controller Vinyl Skin Set - Light Wood Grain Slat for Xbox One Original\n",
      "ModFreakz  Console/Controller Vinyl Skin Set - Ninja Naruto Uzumaki for Xbox One Original\n",
      "MODFREAKZ  Console and Controller Vinyl Skin Set - Red Umbrella Logo for Playstation 4\n",
      "MODFREAKZ  Console and Controller Vinyl Skin Set - Pot Weed/Naked Girl for Playstation 4\n",
      "MODFREAKZ Pair of Vinyl Controller Skins - Red/Blue Spider for Playstation 4\n",
      "Mod Freakz Pair of Vinyl Controller Skins - Northern Wild Wolf for Playstation 4\n",
      "Mod Freakz Pair of Vinyl Controller Skins - Undead Evil Red Umbrella for Playstation 4\n",
      "Mod Freakz Pair of Vinyl Controller Skins - Animated Yellow Water for Playstation 4\n",
      "MODFREAKZ Pair of Vinyl Controller Skins - Evil Zombie Fighter Resident for Playstation 4\n",
      "MODFREAKZ Pair of Vinyl Controller Skins - Evil Umbrella Red Fight for Playstation 4\n",
      "MODFREAKZ Pair of Vinyl Controller Skins - Military Man Soldier Stands for Playstation 4\n",
      "Mod Freakz Pair of Vinyl Controller Skins - German Flag Black Red Yellow for Playstation 4\n",
      "MODFREAKZ Pair of Vinyl Controller Skins - Croatia Flag Red/White/Blue for Playstation 4\n",
      "Mod Freakz Pair of Vinyl Controller Skins - Italy Flag Green/White/Red for Playstation 4\n",
      "Mod Freakz Pair of Vinyl Controller Skins - American Flag Stripes for Playstation 4\n",
      "MODFREAKZ Pair of Vinyl Controller Skins - Mob Group for Playstation 4\n",
      "Mod Freakz Pair of Vinyl Controller Skins - Galaxy Outer Space for Playstation 4\n",
      "Mod Freakz Pair of Vinyl Controller Skins - Pink/Red Space Rock for Playstation 4\n",
      "MODFREAKZ Pair of Vinyl Controller Skins - Last Survival Horror for Playstation 4\n",
      "Mod Freakz Pair of Vinyl Controller Skins - Goatee Assassin Hooded Kill for Playstation 4\n",
      "MODFREAKZ  Console and Controller Vinyl Skin Set - Blue Green Water Camo for Playstation 4\n",
      "MODFREAKZ  Console and Controller Vinyl Skin Set - Sexy Girl Smoke Weed for Playstation 4\n",
      "MODFREAKZ  Console and Controller Vinyl Skin Set - Japanese Fighter for Playstation 4\n",
      "MODFREAKZ  Console and Controller Vinyl Skin Set - Red Star Deep Space for Playstation 4\n",
      "Mod Freakz Console and Controller Vinyl Skin Set - Red Paintball for Playstation 4\n",
      "MODFREAKZ  Console and Controller Vinyl Skin Set - Retro Dark Triangle for Playstation 4\n",
      "MODFREAKZ  Console and Controller Vinyl Skin Set - Rainbow Square Blocks for Playstation 4\n",
      "MODFREAKZ  Console and Controller Vinyl Skin Set - Glow Green Biohazard for Playstation 4\n",
      "MODFREAKZ  Console and Controller Vinyl Skin Set - Sexy Elf Goddess for Playstation 4\n",
      "MODFREAKZ  Console and Controller Vinyl Skin Set - Grey/Player Running for Playstation 4\n",
      "MODFREAKZ  Console and Controller Vinyl Skin Set - Titanic Destiny for Playstation 4\n",
      "MODFREAKZ  Console and Controller Vinyl Skin Set - Hunter Cosmic Destiny for Playstation 4\n",
      "MODFREAKZ  Console and Controller Vinyl Skin Set - Planet Destiny for Playstation 4\n",
      "MODFREAKZ  Console and Controller Vinyl Skin Set - Warlock Cosmic for Playstation 4\n",
      "MODFREAKZ  Console and Controller Vinyl Skin Set - Skulls Sticker Bomb for Playstation 4\n",
      "MODFREAKZ  Console and Controller Vinyl Skin Set - Red Black Drive Group for Playstation 4\n",
      "MODFREAKZ  Console and Controller Vinyl Skin Set - Gray Metal Look Retro for Playstation 4\n",
      "Mod Freakz Pair of Vinyl Controller Skins - Military Ghost Killer for Xbox One\n",
      "Mod Freakz Pair of Vinyl Controller Skins - Super Comic Fight Hero for Xbox One\n",
      "Mod Freakz Pair of Vinyl Controller Skins - Red Iron Armor Man for Xbox One\n",
      "Mod Freakz Pair of Vinyl Controller Skins - Falling Blue Flowers for Xbox One\n",
      "ModFreakz  Pair of Vinyl Controller Skins - Red Black Dragon Symbol for Xbox One\n",
      "ModFreakz  Console/Controller Vinyl Skin Set - Smoking Weed Girl for Xbox One Original\n",
      "ModFreakz  Console/Controller Vinyl Skin Set - Green Toxic for Xbox One Original\n",
      "MODFREAKZ  Console and Controller Vinyl Skin Set - Red Vampire Skulll for Playstation 4\n",
      "ModFreakz  Console/Controller Vinyl Skin Set - Money 100 Dollar Bill for Xbox One Original\n",
      "ModFreakz  Console/Controller Vinyl Skin Set - Call of Duty MW3 CODs for Xbox One Original\n",
      "ModFreakz  Console/Controller Vinyl Skin Set - Weed Leaf Marijuana for Xbox One Original\n",
      "ModFreakz  Console/Controller Vinyl Skin Set - Dark Wood Plankss for Xbox One Original\n",
      "ModFreakz&reg; Console/Controller Vinyl Skin Set - Blue Carbon Fibers for Xbox One Original\n",
      "Mod Freakz Console and Controller Vinyl Skin Set - Aged Wood Grain for Playstation 4\n",
      "MODFREAKZ  Console and Controller Vinyl Skin Set - Oak Wood Grain for Playstation 4\n",
      "ModFreakz  Console/Controller Vinyl Skin Set - Blue Haired Girl for Xbox One Original\n",
      "ModFreakz  Console/Controller Vinyl Skin Set - Blk/White Medal Reds for Xbox One Original\n",
      "ModFreakz  Console/Controller Vinyl Skin Set - Glowing Yellow Circle for Xbox One Original\n",
      "ModFreakz  Console/Controller Vinyl Skin Set - Winter Prepare for Xbox One Original\n",
      "Mod Freakz Console and Controller Vinyl Skin Set - Comic Fighting Team for Playstation 4\n",
      "ModFreakz  Console/Controller Vinyl Skin Set - Destin World Fighting for Xbox One Original\n",
      "ModFreakz  Console/Controller Vinyl Skin Set - Destin Hooded Heros for Xbox One Original\n",
      "MODFREAKZ  Console and Controller Vinyl Skin Set - Chain & Skirt God War Kratos for Playstation 4\n",
      "MODFREAKZ  Console and Controller Vinyl Skin Set - Red Dragon Tribal for Playstation 4\n",
      "MODFREAKZ  Console and Controller Vinyl Skin Set - Yellow Water Sponge for Playstation 4\n",
      "ModFreakz  Console/Controller Vinyl Skin Set - Black Gray Wood for Xbox One Original\n",
      "MODFREAKZ  Console and Controller Vinyl Skin Set - Blood Bath Helghast for Playstation 4\n",
      "ModFreakz&reg; Console/Controller Vinyl Skin Set - Anime Goddess Strip for PS4 Original\n",
      "Mod Freakz Console and Controller Vinyl Skin Set - Naked Girls Group for Playstation 4\n",
      "Mod Freakz Console and Controller Vinyl Skin Set - Ninja Green Sword for Playstation 4\n",
      "GoldenDeal PS4 Console and DualShock 4 Controller Skin Set - Basketball NBA - PlayStation 4 Vinyl\n",
      "GoldenDeal PS4 Console and DualShock 4 Controller Skin Set - Basketball NBA - PlayStation 4 Vinyl\n",
      "GoldenDeal PS4 Console and DualShock 4 Controller Skin Set - Football NFL - PlayStation 4 Vinyl\n",
      "GoldenDeal PS4 Console and DualShock 4 Controller Skin Set - SuperHero - PlayStation 4 Vinyl\n",
      "GoldenDeal PS4 Console and DualShock 4 Controller Skin Set - Football NFL - PlayStation 4 Vinyl\n",
      "GoldenDeal PS4 Console and DualShock 4 Controller Skin Set - Collage Brand Design - PlayStation 4 Vinyl\n",
      "GoldenDeal PS4 Console and DualShock 4 Controller Skin Set - Football NFL - PlayStation 4 Vinyl\n",
      "GoldenDeal PS4 Console and DualShock 4 Controller Skin Set - Football NFL - PlayStation 4 Vinyl\n",
      "GoldenDeal PS4 Console and DualShock 4 Controller Skin Set - SuperHero - PlayStation 4 Vinyl\n",
      "GoldenDeal PS4 Console and DualShock 4 Controller Skin Set - Soccer Sport - PlayStation 4 Vinyl\n",
      "GoldenDeal PS4 Console and DualShock 4 Controller Skin Set - Football NFL - PlayStation 4 Vinyl\n",
      "GoldenDeal Xbox One Console and Wireless Controller Skin Set - USA Flag US AirForce - XboxOne Vinyl\n",
      "GoldenDeal Xbox One Console and Wireless Controller Skin Set - Star Warrior - XboxOne Vinyl\n",
      "GoldenDeal Xbox One Console and Wireless Controller Skin Set - SuperHero - XboxOne Vinyl\n",
      "GoldenDeal PS4 Console and DualShock 4 Controller Skin Set - PS Original - PlayStation 4 Vinyl Colour\n",
      "GoldenDeal PS4 Console and DualShock 4 Controller Skin Set - SuperHero - PlayStation 4 Vinyl\n",
      "GoldenDeal Xbox One Console and Wireless Controller Skin Set - Collage Hoonigan Design - XboxOne Vinyl\n"
     ]
    }
   ],
   "source": [
    "idx = 2\n",
    "cluster_idx = label_counts.index[idx]\n",
    "\n",
    "print(f\"CLUSTER INDEX: {cluster_idx}, CLUSTER_SIZE: {label_counts.iloc[idx].item()}\")\n",
    "print()\n",
    "\n",
    "for c, i in enumerate(df.groupby(df[\"label\"]).get_group(cluster_idx)[\"title\"]):\n",
    "    if c >= 100:\n",
    "        break\n",
    "    print(i)"
   ]
  },
  {
   "cell_type": "code",
   "execution_count": 154,
   "id": "3db1b92b-e89d-43fb-94ec-40375054f968",
   "metadata": {
    "tags": []
   },
   "outputs": [
    {
     "data": {
      "text/html": [
       "<div>\n",
       "<style scoped>\n",
       "    .dataframe tbody tr th:only-of-type {\n",
       "        vertical-align: middle;\n",
       "    }\n",
       "\n",
       "    .dataframe tbody tr th {\n",
       "        vertical-align: top;\n",
       "    }\n",
       "\n",
       "    .dataframe thead th {\n",
       "        text-align: right;\n",
       "    }\n",
       "</style>\n",
       "<table border=\"1\" class=\"dataframe\">\n",
       "  <thead>\n",
       "    <tr style=\"text-align: right;\">\n",
       "      <th></th>\n",
       "      <th>label</th>\n",
       "      <th>count</th>\n",
       "      <th>ranking</th>\n",
       "    </tr>\n",
       "  </thead>\n",
       "  <tbody>\n",
       "    <tr>\n",
       "      <th>0</th>\n",
       "      <td>-1</td>\n",
       "      <td>40805</td>\n",
       "      <td>0</td>\n",
       "    </tr>\n",
       "    <tr>\n",
       "      <th>1</th>\n",
       "      <td>3607</td>\n",
       "      <td>2725</td>\n",
       "      <td>1</td>\n",
       "    </tr>\n",
       "    <tr>\n",
       "      <th>2</th>\n",
       "      <td>82</td>\n",
       "      <td>2094</td>\n",
       "      <td>2</td>\n",
       "    </tr>\n",
       "    <tr>\n",
       "      <th>3</th>\n",
       "      <td>17</td>\n",
       "      <td>533</td>\n",
       "      <td>3</td>\n",
       "    </tr>\n",
       "    <tr>\n",
       "      <th>4</th>\n",
       "      <td>6283</td>\n",
       "      <td>488</td>\n",
       "      <td>4</td>\n",
       "    </tr>\n",
       "    <tr>\n",
       "      <th>...</th>\n",
       "      <td>...</td>\n",
       "      <td>...</td>\n",
       "      <td>...</td>\n",
       "    </tr>\n",
       "    <tr>\n",
       "      <th>10841</th>\n",
       "      <td>10813</td>\n",
       "      <td>2</td>\n",
       "      <td>10841</td>\n",
       "    </tr>\n",
       "    <tr>\n",
       "      <th>10842</th>\n",
       "      <td>10814</td>\n",
       "      <td>2</td>\n",
       "      <td>10842</td>\n",
       "    </tr>\n",
       "    <tr>\n",
       "      <th>10843</th>\n",
       "      <td>10815</td>\n",
       "      <td>2</td>\n",
       "      <td>10843</td>\n",
       "    </tr>\n",
       "    <tr>\n",
       "      <th>10844</th>\n",
       "      <td>10816</td>\n",
       "      <td>2</td>\n",
       "      <td>10844</td>\n",
       "    </tr>\n",
       "    <tr>\n",
       "      <th>10845</th>\n",
       "      <td>10817</td>\n",
       "      <td>2</td>\n",
       "      <td>10845</td>\n",
       "    </tr>\n",
       "  </tbody>\n",
       "</table>\n",
       "<p>10846 rows × 3 columns</p>\n",
       "</div>"
      ],
      "text/plain": [
       "       label  count  ranking\n",
       "0         -1  40805        0\n",
       "1       3607   2725        1\n",
       "2         82   2094        2\n",
       "3         17    533        3\n",
       "4       6283    488        4\n",
       "...      ...    ...      ...\n",
       "10841  10813      2    10841\n",
       "10842  10814      2    10842\n",
       "10843  10815      2    10843\n",
       "10844  10816      2    10844\n",
       "10845  10817      2    10845\n",
       "\n",
       "[10846 rows x 3 columns]"
      ]
     },
     "execution_count": 154,
     "metadata": {},
     "output_type": "execute_result"
    }
   ],
   "source": [
    "label_counts = label_counts.reset_index()\n",
    "label_counts[\"ranking\"] = label_counts.index\n",
    "\n",
    "label_counts"
   ]
  },
  {
   "cell_type": "code",
   "execution_count": 163,
   "id": "19296e60-509e-4718-9e87-8fcfadf11038",
   "metadata": {
    "tags": []
   },
   "outputs": [],
   "source": [
    "max_saturation = label_counts[label_counts.index != -1].max()\n",
    "\n",
    "\n",
    "def discrete_saturation(product):\n",
    "    count = product[\"count\"]\n",
    "    ranking = product[\"ranking\"]\n",
    "    # not ranked\n",
    "    if product[\"label\"] == -1:\n",
    "        return \"Low\", -1\n",
    "    if product[\"label\"] == -1 or count <= 5:\n",
    "        return \"Low\", ranking\n",
    "    elif 50 >= count > 5:\n",
    "        return \"Medium\", ranking\n",
    "    elif count > 50:\n",
    "        return \"High\", ranking\n",
    "    else:\n",
    "        return \"Extremely High\", ranking"
   ]
  },
  {
   "cell_type": "code",
   "execution_count": 164,
   "id": "718a8300-71a4-4018-9700-6576d47354b3",
   "metadata": {
    "tags": []
   },
   "outputs": [
    {
     "data": {
      "text/plain": [
       "0           (Low, -1)\n",
       "1           (High, 1)\n",
       "2           (High, 2)\n",
       "3           (High, 3)\n",
       "4           (High, 4)\n",
       "             ...     \n",
       "10841    (Low, 10841)\n",
       "10842    (Low, 10842)\n",
       "10843    (Low, 10843)\n",
       "10844    (Low, 10844)\n",
       "10845    (Low, 10845)\n",
       "Length: 10846, dtype: object"
      ]
     },
     "execution_count": 164,
     "metadata": {},
     "output_type": "execute_result"
    }
   ],
   "source": [
    "label_counts.apply(discrete_saturation, axis=1)"
   ]
  }
 ],
 "metadata": {
  "kernelspec": {
   "display_name": "default:Python",
   "language": "python",
   "name": "conda-env-default-py"
  },
  "language_info": {
   "codemirror_mode": {
    "name": "ipython",
    "version": 3
   },
   "file_extension": ".py",
   "mimetype": "text/x-python",
   "name": "python",
   "nbconvert_exporter": "python",
   "pygments_lexer": "ipython3",
   "version": "3.9.16"
  }
 },
 "nbformat": 4,
 "nbformat_minor": 5
}
