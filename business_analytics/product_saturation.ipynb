{
 "cells": [
  {
   "cell_type": "markdown",
   "metadata": {
    "application/vnd.databricks.v1+cell": {
     "cellMetadata": {},
     "inputWidgets": {},
     "nuid": "dde8e37e-ce3e-4dcf-85e7-dbe3ea35b7c9",
     "showTitle": false,
     "title": ""
    }
   },
   "source": [
    "## **Product Saturation**"
   ]
  },
  {
   "cell_type": "code",
   "execution_count": 0,
   "metadata": {
    "application/vnd.databricks.v1+cell": {
     "cellMetadata": {
      "byteLimit": 2048000,
      "rowLimit": 10000
     },
     "inputWidgets": {},
     "nuid": "38e6978b-c8b0-4d97-a386-7a1f7d32c909",
     "showTitle": false,
     "title": ""
    },
    "tags": []
   },
   "outputs": [],
   "source": [
    "import pickle\n",
    "from pathlib import Path\n",
    "import pandas as pd \n",
    "\n",
    "from sklearn.cluster import DBSCAN"
   ]
  },
  {
   "cell_type": "code",
   "execution_count": 0,
   "metadata": {
    "application/vnd.databricks.v1+cell": {
     "cellMetadata": {
      "byteLimit": 2048000,
      "rowLimit": 10000
     },
     "inputWidgets": {},
     "nuid": "0522318a-f29b-40f8-894c-e6063f2e6039",
     "showTitle": false,
     "title": ""
    },
    "tags": []
   },
   "outputs": [],
   "source": [
    "# # get data with delta_sharing\n",
    "# import delta_sharing\n",
    "# profile_file = \"config.share\"\n",
    "# client = delta_sharing.SharingClient(profile_file)\n",
    "# table_url = f\"{profile_file}#share__products.silver.amazon_metadata_silver_selected\"\n",
    "# df = delta_sharing.load_as_pandas(table_url)\n",
    "\n",
    "# Load from Databricks\n",
    "df = spark.table(\"products.silver.amazon_metadata_silver_selected\").toPandas()\n",
    "print(\"DataFrame shape:\", df.shape)"
   ]
  },
  {
   "cell_type": "code",
   "execution_count": 0,
   "metadata": {
    "application/vnd.databricks.v1+cell": {
     "cellMetadata": {
      "byteLimit": 2048000,
      "rowLimit": 10000
     },
     "inputWidgets": {},
     "nuid": "f1bcd9f4-7f14-43ea-a2a6-e9375e74d77f",
     "showTitle": false,
     "title": ""
    },
    "tags": []
   },
   "outputs": [],
   "source": [
    "emb_path = \"/dbfs/mnt/datapalooza-products-reviews-raw/embeddings/embeddings_product_titles_gte_base.pkl\"\n",
    "# Load sentences & embeddings from disk\n",
    "with open(emb_path, \"rb\") as f:\n",
    "    data = pickle.load(f)\n",
    "    asin = data[\"asin\"]\n",
    "    product_titles = data[\"product_titles\"]\n",
    "    embeddings = data[\"embeddings\"]"
   ]
  },
  {
   "cell_type": "code",
   "execution_count": 0,
   "metadata": {
    "application/vnd.databricks.v1+cell": {
     "cellMetadata": {
      "byteLimit": 2048000,
      "rowLimit": 10000
     },
     "inputWidgets": {},
     "nuid": "b3dc032d-f92b-4666-92d3-3cd8664536e5",
     "showTitle": false,
     "title": ""
    },
    "tags": []
   },
   "outputs": [],
   "source": [
    "%%time\n",
    "\n",
    "db = DBSCAN(eps=0.05, min_samples=2, metric=\"cosine\").fit(embeddings)"
   ]
  },
  {
   "cell_type": "code",
   "execution_count": 0,
   "metadata": {
    "application/vnd.databricks.v1+cell": {
     "cellMetadata": {
      "byteLimit": 2048000,
      "rowLimit": 10000
     },
     "inputWidgets": {},
     "nuid": "4b203c0d-84c4-49bd-b576-520e3a70d942",
     "showTitle": false,
     "title": ""
    },
    "tags": []
   },
   "outputs": [],
   "source": [
    "labels = db.labels_\n",
    "# Number of clusters in labels, ignoring noise if present\n",
    "n_clusters_ = len(set(labels)) - (1 if -1 in labels else 0)\n",
    "n_noise_ = list(labels).count(-1)\n",
    "\n",
    "print(f\"Estimated number of clusters: {n_clusters_}\")\n",
    "print(f\"Estimated number of noise points: {n_noise_}\")"
   ]
  },
  {
   "cell_type": "code",
   "execution_count": 0,
   "metadata": {
    "application/vnd.databricks.v1+cell": {
     "cellMetadata": {
      "byteLimit": 2048000,
      "rowLimit": 10000
     },
     "inputWidgets": {},
     "nuid": "1398970a-6406-4c0d-9d56-a03e325e9009",
     "showTitle": false,
     "title": ""
    }
   },
   "outputs": [],
   "source": [
    "labels_df = df.merge(right=pd.DataFrame({\"asin\": asin, \"label\": labels}), on=\"asin\", how=\"left\")[[\"asin\", \"title\", \"label\"]]\n",
    "labels_df[\"label\"].fillna(-1, inplace=True) "
   ]
  },
  {
   "cell_type": "code",
   "execution_count": 0,
   "metadata": {
    "application/vnd.databricks.v1+cell": {
     "cellMetadata": {
      "byteLimit": 2048000,
      "rowLimit": 10000
     },
     "inputWidgets": {},
     "nuid": "942f6b86-7ebd-4e2d-ba50-8a4077a08b74",
     "showTitle": false,
     "title": ""
    },
    "tags": []
   },
   "outputs": [],
   "source": [
    "labels_df"
   ]
  },
  {
   "cell_type": "code",
   "execution_count": 0,
   "metadata": {
    "application/vnd.databricks.v1+cell": {
     "cellMetadata": {
      "byteLimit": 2048000,
      "rowLimit": 10000
     },
     "inputWidgets": {},
     "nuid": "193ccff5-3ec9-4a88-831c-779b69b96ccd",
     "showTitle": false,
     "title": ""
    }
   },
   "outputs": [],
   "source": [
    "label_counts = labels_df[\"label\"].value_counts()\n",
    "label_counts.head(10)"
   ]
  },
  {
   "cell_type": "code",
   "execution_count": 0,
   "metadata": {
    "application/vnd.databricks.v1+cell": {
     "cellMetadata": {
      "byteLimit": 2048000,
      "rowLimit": 10000
     },
     "inputWidgets": {},
     "nuid": "df3bf295-2360-4bea-8e77-73153ceb8810",
     "showTitle": false,
     "title": ""
    },
    "collapsed": true,
    "jupyter": {
     "outputs_hidden": true
    },
    "tags": []
   },
   "outputs": [],
   "source": [
    "idx = 0\n",
    "cluster_idx = label_counts.index[idx]\n",
    "\n",
    "print(f\"CLUSTER INDEX: {cluster_idx}, CLUSTER_SIZE: {label_counts.iloc[idx].item()}\")\n",
    "print()\n",
    "\n",
    "for c, i in enumerate(labels_df.groupby(\"label\").get_group(cluster_idx)[\"title\"]):\n",
    "    if c >= 100:\n",
    "        break\n",
    "    print(i)"
   ]
  },
  {
   "cell_type": "code",
   "execution_count": 0,
   "metadata": {
    "application/vnd.databricks.v1+cell": {
     "cellMetadata": {
      "byteLimit": 2048000,
      "rowLimit": 10000
     },
     "inputWidgets": {},
     "nuid": "d907d2d7-d4ca-440f-b153-d9b94e591f69",
     "showTitle": false,
     "title": ""
    }
   },
   "outputs": [],
   "source": [
    "rankings_mapping = {label: rank for rank, label in enumerate(label_counts.index)}\n",
    "rankings_mapping[-1] = len(label_counts)\n",
    "labels_df[\"ranking\"] = labels_df[\"label\"].map(rankings_mapping)\n",
    "labels_df"
   ]
  },
  {
   "cell_type": "code",
   "execution_count": 0,
   "metadata": {
    "application/vnd.databricks.v1+cell": {
     "cellMetadata": {
      "byteLimit": 2048000,
      "rowLimit": 10000
     },
     "inputWidgets": {},
     "nuid": "ab82d792-05bd-4ee4-9a18-2136df03e15e",
     "showTitle": false,
     "title": ""
    },
    "tags": []
   },
   "outputs": [],
   "source": [
    "def discrete_saturation(product):\n",
    "    label = product[\"label\"]\n",
    "    count = label_counts[label]\n",
    "    ranking = product[\"ranking\"]\n",
    "    # not ranked\n",
    "    if product[\"label\"] == -1 or count <= 5:\n",
    "        return \"Low\"\n",
    "    elif 50 >= count > 5:\n",
    "        return \"Medium\"\n",
    "    elif count > 50:\n",
    "        return \"High\"\n",
    "    else:\n",
    "        return \"Extremely High\"\n",
    "\n",
    "labels_df[\"saturation_label\"] = labels_df.apply(discrete_saturation, axis=1)"
   ]
  },
  {
   "cell_type": "code",
   "execution_count": 0,
   "metadata": {
    "application/vnd.databricks.v1+cell": {
     "cellMetadata": {
      "byteLimit": 2048000,
      "rowLimit": 10000
     },
     "inputWidgets": {},
     "nuid": "a79cde2d-c8d6-4260-b4da-025a9c673331",
     "showTitle": false,
     "title": ""
    }
   },
   "outputs": [],
   "source": [
    "labels_df = labels_df.drop(columns=[\"label\", \"title\"])\n"
   ]
  },
  {
   "cell_type": "code",
   "execution_count": 0,
   "metadata": {
    "application/vnd.databricks.v1+cell": {
     "cellMetadata": {
      "byteLimit": 2048000,
      "rowLimit": 10000
     },
     "inputWidgets": {},
     "nuid": "c0eb9a60-3130-4f19-89be-08f53e24b14e",
     "showTitle": false,
     "title": ""
    }
   },
   "outputs": [],
   "source": [
    "labels_df"
   ]
  },
  {
   "cell_type": "code",
   "execution_count": 0,
   "metadata": {
    "application/vnd.databricks.v1+cell": {
     "cellMetadata": {
      "byteLimit": 2048000,
      "rowLimit": 10000
     },
     "inputWidgets": {},
     "nuid": "6a7f6707-3001-42f0-a435-9a81328bee6f",
     "showTitle": false,
     "title": ""
    }
   },
   "outputs": [],
   "source": [
    "table_name = \"product_saturations\"\n",
    "df_spark = spark.createDataFrame(labels_df)\n",
    "(\n",
    "    df_spark\n",
    "    .write\n",
    "    .format(\"delta\")\n",
    "    .mode(\"overwrite\")\n",
    "    .option(\"mergeSchema\", \"true\")\n",
    "    .saveAsTable(\n",
    "        f\"products.gold.{table_name}\",\n",
    "        path = f\"s3://datapalooza-products-reviews-gold/{table_name}.delta\"\n",
    "    )\n",
    ")"
   ]
  }
 ],
 "metadata": {
  "application/vnd.databricks.v1+notebook": {
   "dashboards": [],
   "language": "python",
   "notebookMetadata": {
    "pythonIndentUnit": 4
   },
   "notebookName": "product_saturation",
   "widgets": {}
  },
  "kernelspec": {
   "display_name": "default:Python",
   "language": "python",
   "name": "conda-env-default-py"
  },
  "language_info": {
   "codemirror_mode": {
    "name": "ipython",
    "version": 3
   },
   "file_extension": ".py",
   "mimetype": "text/x-python",
   "name": "python",
   "nbconvert_exporter": "python",
   "pygments_lexer": "ipython3",
   "version": "3.9.16"
  }
 },
 "nbformat": 4,
 "nbformat_minor": 0
}
