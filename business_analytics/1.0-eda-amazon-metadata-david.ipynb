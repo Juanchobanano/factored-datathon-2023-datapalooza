{
 "cells": [
  {
   "cell_type": "markdown",
   "id": "d8bf12d9-a57d-4d25-ab05-f5e6b942b806",
   "metadata": {},
   "source": [
    "# **Amazon Metadata Dataset**\n"
   ]
  },
  {
   "cell_type": "code",
   "execution_count": 1,
   "id": "9b3fa146-294e-4ff8-b281-a13c6239ba43",
   "metadata": {
    "tags": []
   },
   "outputs": [],
   "source": [
    "from collections import Counter\n",
    "from pprint import pprint\n",
    "\n",
    "import delta_sharing\n",
    "import matplotlib.pyplot as plt\n",
    "import missingno as msno\n",
    "import pandas as pd\n",
    "from IPython.display import HTML, display\n",
    "from wordcloud import WordCloud"
   ]
  },
  {
   "cell_type": "code",
   "execution_count": 2,
   "id": "eed551ad-3d09-43d0-ae25-37ce41586878",
   "metadata": {
    "tags": []
   },
   "outputs": [
    {
     "name": "stdout",
     "output_type": "stream",
     "text": [
      "Available tables:\n",
      "[Table(name='sentiment', share='share__products', schema='gold'),\n",
      " Table(name='amazon_reviews_selected', share='share__products', schema='silver'),\n",
      " Table(name='intention', share='share__products', schema='gold'),\n",
      " Table(name='amazon_metadata_silver_selected', share='share__products', schema='silver'),\n",
      " Table(name='amazon_reviews_silver', share='share__products', schema='silver'),\n",
      " Table(name='amazon_metadata_silver', share='share__products', schema='silver')]\n"
     ]
    }
   ],
   "source": [
    "# get data\n",
    "profile_file = \"config.share\"\n",
    "client = delta_sharing.SharingClient(profile_file)\n",
    "print(\"Available tables:\")\n",
    "pprint(client.list_all_tables())\n",
    "\n",
    "table_url = profile_file + \"#share__products.silver.amazon_metadata_silver\"\n",
    "df = delta_sharing.load_as_pandas(table_url, limit=200_000)"
   ]
  },
  {
   "cell_type": "code",
   "execution_count": 3,
   "id": "6a0d5a7d-dd09-4696-89fd-9e65ea9448b3",
   "metadata": {
    "tags": []
   },
   "outputs": [
    {
     "name": "stdout",
     "output_type": "stream",
     "text": [
      "Dataset shape (200000, 15)\n"
     ]
    },
    {
     "data": {
      "text/html": [
       "<div>\n",
       "<style scoped>\n",
       "    .dataframe tbody tr th:only-of-type {\n",
       "        vertical-align: middle;\n",
       "    }\n",
       "\n",
       "    .dataframe tbody tr th {\n",
       "        vertical-align: top;\n",
       "    }\n",
       "\n",
       "    .dataframe thead th {\n",
       "        text-align: right;\n",
       "    }\n",
       "</style>\n",
       "<table border=\"1\" class=\"dataframe\">\n",
       "  <thead>\n",
       "    <tr style=\"text-align: right;\">\n",
       "      <th></th>\n",
       "      <th>asin</th>\n",
       "      <th>title</th>\n",
       "      <th>brand</th>\n",
       "      <th>main_category</th>\n",
       "      <th>category</th>\n",
       "      <th>description</th>\n",
       "      <th>feature</th>\n",
       "      <th>mean_price</th>\n",
       "      <th>rank</th>\n",
       "      <th>also_buy</th>\n",
       "      <th>also_view</th>\n",
       "      <th>similar_items</th>\n",
       "      <th>image</th>\n",
       "      <th>source</th>\n",
       "      <th>timestamp_ingested</th>\n",
       "    </tr>\n",
       "  </thead>\n",
       "  <tbody>\n",
       "    <tr>\n",
       "      <th>0</th>\n",
       "      <td>B006084O7G</td>\n",
       "      <td>Dell Computer, Intel 3.0 GHz Pentium D , New 2...</td>\n",
       "      <td>Dell</td>\n",
       "      <td>Electronics</td>\n",
       "      <td>[Electronics, Computers &amp; Accessories, Compute...</td>\n",
       "      <td>Dell Computer, Intel 3.0 GHz Pentium D , New 2...</td>\n",
       "      <td>[These Units are Highly Sought After for their...</td>\n",
       "      <td>90.400002</td>\n",
       "      <td>[{'top': 75464, 'category': 'Computers &amp; Acces...</td>\n",
       "      <td>None</td>\n",
       "      <td>None</td>\n",
       "      <td>[B0037U95U6, B01M7UFBQ9, B006084O7G, B013PIMPMO]</td>\n",
       "      <td>[https://images-na.ssl-images-amazon.com/image...</td>\n",
       "      <td>batch</td>\n",
       "      <td>2023-07-26</td>\n",
       "    </tr>\n",
       "    <tr>\n",
       "      <th>1</th>\n",
       "      <td>B00608BLV8</td>\n",
       "      <td>iShoppingdeals - for Sony Walkman NWZ-E463 NWZ...</td>\n",
       "      <td>Ishoppingdeals</td>\n",
       "      <td>Electronics</td>\n",
       "      <td>[Electronics, Portable Audio &amp; Video, MP3 &amp; MP...</td>\n",
       "      <td>None</td>\n",
       "      <td>None</td>\n",
       "      <td>NaN</td>\n",
       "      <td>[{'top': 1092534, 'category': 'Electronics &gt; P...</td>\n",
       "      <td>None</td>\n",
       "      <td>None</td>\n",
       "      <td>None</td>\n",
       "      <td>[https://images-na.ssl-images-amazon.com/image...</td>\n",
       "      <td>batch</td>\n",
       "      <td>2023-07-26</td>\n",
       "    </tr>\n",
       "    <tr>\n",
       "      <th>2</th>\n",
       "      <td>B00608C64E</td>\n",
       "      <td>Sunon PMD1206PMB3-A (2).B938.F Cooling Fan 12V...</td>\n",
       "      <td>Sunon</td>\n",
       "      <td>Electronics</td>\n",
       "      <td>[Electronics, Computers &amp; Accessories, Compute...</td>\n",
       "      <td>Sunon 12V .43A Cooling Fan Sunon Part Numbers ...</td>\n",
       "      <td>[12V - .43A (5.2W), 60mm x 60mm x 38mm, 4 Pin ...</td>\n",
       "      <td>NaN</td>\n",
       "      <td>[{'top': 3535, 'category': 'Industrial &amp; Scien...</td>\n",
       "      <td>None</td>\n",
       "      <td>[B00RYKR83Q, B00GJYTUH0, B0188YKCFC, B00608LYV...</td>\n",
       "      <td>[B00GJYTUH0, B00608C64E, B00608LYVK, B009NQMES...</td>\n",
       "      <td>[https://images-na.ssl-images-amazon.com/image...</td>\n",
       "      <td>batch</td>\n",
       "      <td>2023-07-26</td>\n",
       "    </tr>\n",
       "    <tr>\n",
       "      <th>3</th>\n",
       "      <td>B00608FKN8</td>\n",
       "      <td>Seasonic PLATINUM-1000 ATX 1000 Power Supply</td>\n",
       "      <td>Seasonic</td>\n",
       "      <td>Electronics</td>\n",
       "      <td>[Electronics, Computers &amp; Accessories, Compute...</td>\n",
       "      <td>SeaSonic Platinum-1000 1000W ATX12V / EPS12V 8...</td>\n",
       "      <td>[Type ATX12V / EPS12V, Maximum Power 1000 Watt...</td>\n",
       "      <td>NaN</td>\n",
       "      <td>[{'top': 2323, 'category': 'Computers &amp; Access...</td>\n",
       "      <td>None</td>\n",
       "      <td>[B00Q6CAZ4M, B01N5NWKHH, B075M3B1R7, B075M8FH4...</td>\n",
       "      <td>[B002VA7RPS, B00Q6CAZ4M, B075M3B1R7, B00608FKN...</td>\n",
       "      <td>[https://images-na.ssl-images-amazon.com/image...</td>\n",
       "      <td>batch</td>\n",
       "      <td>2023-07-26</td>\n",
       "    </tr>\n",
       "    <tr>\n",
       "      <th>4</th>\n",
       "      <td>B00608MP5E</td>\n",
       "      <td>SeaSonic Platinum  PLATINUM-860 ; SS-860XP2 Po...</td>\n",
       "      <td>Seasonic</td>\n",
       "      <td>Electronics</td>\n",
       "      <td>[Electronics, Computers &amp; Accessories, Compute...</td>\n",
       "      <td>Seasonic PLATINUM-860 860W 80Plus EPS12V / ATX...</td>\n",
       "      <td>[Total Power: 860 Watt, Input Voltage: 100 ~ 2...</td>\n",
       "      <td>NaN</td>\n",
       "      <td>[{'top': 1685, 'category': 'Computers &amp; Access...</td>\n",
       "      <td>[B00J2LIE9C, B00OBRE5UE, B008CP5QR2, B01LXS4TY...</td>\n",
       "      <td>[B074NB1PBZ, B075M3R4YB, B075M4SJL6, B075M3WC9...</td>\n",
       "      <td>[B00608MP5E, B074NB1PBZ, B011HNSSES, B00IKDETO...</td>\n",
       "      <td>[https://images-na.ssl-images-amazon.com/image...</td>\n",
       "      <td>batch</td>\n",
       "      <td>2023-07-26</td>\n",
       "    </tr>\n",
       "  </tbody>\n",
       "</table>\n",
       "</div>"
      ],
      "text/plain": [
       "         asin                                              title  \\\n",
       "0  B006084O7G  Dell Computer, Intel 3.0 GHz Pentium D , New 2...   \n",
       "1  B00608BLV8  iShoppingdeals - for Sony Walkman NWZ-E463 NWZ...   \n",
       "2  B00608C64E  Sunon PMD1206PMB3-A (2).B938.F Cooling Fan 12V...   \n",
       "3  B00608FKN8       Seasonic PLATINUM-1000 ATX 1000 Power Supply   \n",
       "4  B00608MP5E  SeaSonic Platinum  PLATINUM-860 ; SS-860XP2 Po...   \n",
       "\n",
       "            brand main_category  \\\n",
       "0            Dell   Electronics   \n",
       "1  Ishoppingdeals   Electronics   \n",
       "2           Sunon   Electronics   \n",
       "3        Seasonic   Electronics   \n",
       "4        Seasonic   Electronics   \n",
       "\n",
       "                                            category  \\\n",
       "0  [Electronics, Computers & Accessories, Compute...   \n",
       "1  [Electronics, Portable Audio & Video, MP3 & MP...   \n",
       "2  [Electronics, Computers & Accessories, Compute...   \n",
       "3  [Electronics, Computers & Accessories, Compute...   \n",
       "4  [Electronics, Computers & Accessories, Compute...   \n",
       "\n",
       "                                         description  \\\n",
       "0  Dell Computer, Intel 3.0 GHz Pentium D , New 2...   \n",
       "1                                               None   \n",
       "2  Sunon 12V .43A Cooling Fan Sunon Part Numbers ...   \n",
       "3  SeaSonic Platinum-1000 1000W ATX12V / EPS12V 8...   \n",
       "4  Seasonic PLATINUM-860 860W 80Plus EPS12V / ATX...   \n",
       "\n",
       "                                             feature  mean_price  \\\n",
       "0  [These Units are Highly Sought After for their...   90.400002   \n",
       "1                                               None         NaN   \n",
       "2  [12V - .43A (5.2W), 60mm x 60mm x 38mm, 4 Pin ...         NaN   \n",
       "3  [Type ATX12V / EPS12V, Maximum Power 1000 Watt...         NaN   \n",
       "4  [Total Power: 860 Watt, Input Voltage: 100 ~ 2...         NaN   \n",
       "\n",
       "                                                rank  \\\n",
       "0  [{'top': 75464, 'category': 'Computers & Acces...   \n",
       "1  [{'top': 1092534, 'category': 'Electronics > P...   \n",
       "2  [{'top': 3535, 'category': 'Industrial & Scien...   \n",
       "3  [{'top': 2323, 'category': 'Computers & Access...   \n",
       "4  [{'top': 1685, 'category': 'Computers & Access...   \n",
       "\n",
       "                                            also_buy  \\\n",
       "0                                               None   \n",
       "1                                               None   \n",
       "2                                               None   \n",
       "3                                               None   \n",
       "4  [B00J2LIE9C, B00OBRE5UE, B008CP5QR2, B01LXS4TY...   \n",
       "\n",
       "                                           also_view  \\\n",
       "0                                               None   \n",
       "1                                               None   \n",
       "2  [B00RYKR83Q, B00GJYTUH0, B0188YKCFC, B00608LYV...   \n",
       "3  [B00Q6CAZ4M, B01N5NWKHH, B075M3B1R7, B075M8FH4...   \n",
       "4  [B074NB1PBZ, B075M3R4YB, B075M4SJL6, B075M3WC9...   \n",
       "\n",
       "                                       similar_items  \\\n",
       "0   [B0037U95U6, B01M7UFBQ9, B006084O7G, B013PIMPMO]   \n",
       "1                                               None   \n",
       "2  [B00GJYTUH0, B00608C64E, B00608LYVK, B009NQMES...   \n",
       "3  [B002VA7RPS, B00Q6CAZ4M, B075M3B1R7, B00608FKN...   \n",
       "4  [B00608MP5E, B074NB1PBZ, B011HNSSES, B00IKDETO...   \n",
       "\n",
       "                                               image source timestamp_ingested  \n",
       "0  [https://images-na.ssl-images-amazon.com/image...  batch         2023-07-26  \n",
       "1  [https://images-na.ssl-images-amazon.com/image...  batch         2023-07-26  \n",
       "2  [https://images-na.ssl-images-amazon.com/image...  batch         2023-07-26  \n",
       "3  [https://images-na.ssl-images-amazon.com/image...  batch         2023-07-26  \n",
       "4  [https://images-na.ssl-images-amazon.com/image...  batch         2023-07-26  "
      ]
     },
     "execution_count": 3,
     "metadata": {},
     "output_type": "execute_result"
    }
   ],
   "source": [
    "print(\"Dataset shape\", df.shape)\n",
    "\n",
    "df.head()"
   ]
  },
  {
   "cell_type": "markdown",
   "id": "2e5c4102-793e-495e-a4a7-f69fa7c97806",
   "metadata": {},
   "source": [
    "**Insights**\n",
    "\n",
    "- The columns that look like lists are actually numpy arrays. ¿Why they come in this format?"
   ]
  },
  {
   "cell_type": "code",
   "execution_count": 4,
   "id": "6080fe6d-b54d-477a-9170-4bfa6627231f",
   "metadata": {
    "tags": []
   },
   "outputs": [
    {
     "data": {
      "text/plain": [
       "asin                          object\n",
       "title                         object\n",
       "brand                         object\n",
       "main_category                 object\n",
       "category                      object\n",
       "description                   object\n",
       "feature                       object\n",
       "mean_price                   float32\n",
       "rank                          object\n",
       "also_buy                      object\n",
       "also_view                     object\n",
       "similar_items                 object\n",
       "image                         object\n",
       "source                        object\n",
       "timestamp_ingested    datetime64[ns]\n",
       "dtype: object"
      ]
     },
     "execution_count": 4,
     "metadata": {},
     "output_type": "execute_result"
    }
   ],
   "source": [
    "df.dtypes"
   ]
  },
  {
   "cell_type": "markdown",
   "id": "87feb8f2-f993-4e9e-b8ae-b70e4cb2a588",
   "metadata": {},
   "source": [
    "---"
   ]
  },
  {
   "cell_type": "code",
   "execution_count": 5,
   "id": "9aa0931e-d9ee-428f-99e6-f95cb4ab5c4c",
   "metadata": {
    "tags": []
   },
   "outputs": [
    {
     "data": {
      "image/png": "[encoded data removed]",
      "text/plain": [
       "<Figure size 2500x1000 with 2 Axes>"
      ]
     },
     "metadata": {},
     "output_type": "display_data"
    }
   ],
   "source": [
    "msno.matrix(df);"
   ]
  },
  {
   "cell_type": "markdown",
   "id": "204920ee-271f-450b-b022-6dd9e8566f7c",
   "metadata": {},
   "source": [
    "---"
   ]
  },
  {
   "cell_type": "code",
   "execution_count": 6,
   "id": "800efac8-0451-4c2d-b21b-62c601f43f20",
   "metadata": {
    "tags": []
   },
   "outputs": [
    {
     "data": {
      "text/plain": [
       "asin\n",
       "B012VJWQXG    1\n",
       "B012VK3TY0    1\n",
       "B012VK0OAW    1\n",
       "B012VJY102    1\n",
       "B012VK3QFM    1\n",
       "             ..\n",
       "B00608FKN8    1\n",
       "B00608MP5E    1\n",
       "B00608Q8G6    1\n",
       "B00608J69C    1\n",
       "B00608M09K    1\n",
       "Name: count, Length: 200000, dtype: int64"
      ]
     },
     "execution_count": 6,
     "metadata": {},
     "output_type": "execute_result"
    }
   ],
   "source": [
    "df[\"asin\"].value_counts()"
   ]
  },
  {
   "cell_type": "code",
   "execution_count": 8,
   "id": "4b9c08ea-f9ec-46a1-b060-326acf23e5c7",
   "metadata": {
    "tags": []
   },
   "outputs": [
    {
     "name": "stdout",
     "output_type": "stream",
     "text": [
      "Percentaje of duplicated reviews 0.00%\n"
     ]
    }
   ],
   "source": [
    "num_dup = df.duplicated(\"asin\", keep=\"first\").sum()\n",
    "print(f\"Percentaje of duplicated reviews {num_dup / len(df) * 100:.2f}%\")"
   ]
  },
  {
   "cell_type": "markdown",
   "id": "df16814c-18af-467f-ae8d-0dfa34cd9a65",
   "metadata": {
    "tags": []
   },
   "source": [
    "---"
   ]
  },
  {
   "cell_type": "code",
   "execution_count": 9,
   "id": "8b6aaba1-a13e-4804-a4ba-bad3d62c738a",
   "metadata": {
    "tags": []
   },
   "outputs": [
    {
     "data": {
      "text/plain": [
       "array([None, (11,), (7,), (23,), (89,), (93,), (83,), (1,), (2,), (32,),\n",
       "       (24,), (38,), (5,), (6,), (4,), (10,), (96,), (13,), (28,), (29,),\n",
       "       (3,), (19,), (41,), (90,), (95,), (17,), (99,), (8,), (71,), (69,),\n",
       "       (16,), (22,), (86,), (91,), (9,), (34,), (12,), (73,), (25,),\n",
       "       (44,), (14,), (53,), (45,), (27,), (18,), (15,), (36,), (77,),\n",
       "       (63,), (39,), (40,), (78,), (20,), (94,), (33,), (85,), (92,),\n",
       "       (84,), (49,), (81,), (98,), (43,), (21,), (82,), (58,), (42,),\n",
       "       (37,), (51,), (35,), (97,), (55,), (52,), (87,), (62,), (57,),\n",
       "       (79,), (88,), (68,), (74,), (31,), (48,), (100,), (59,), (54,),\n",
       "       (60,), (72,), (66,), (70,), (61,), (30,), (65,), (26,), (75,),\n",
       "       (50,), (76,), (47,), (56,), (67,), (46,), (64,), (80,)],\n",
       "      dtype=object)"
      ]
     },
     "execution_count": 9,
     "metadata": {},
     "output_type": "execute_result"
    }
   ],
   "source": [
    "# shapes of the arrays in the also_buy column\n",
    "df[\"also_buy\"].map(lambda x: x.shape if x is not None else None).unique()"
   ]
  },
  {
   "cell_type": "markdown",
   "id": "878582c9-6861-47e8-a407-6d8d5e47c872",
   "metadata": {},
   "source": [
    "**Insights**\n",
    "- `also_buy` columns are 1-dimensional numpy arrays, so they might be better represented as python lists."
   ]
  },
  {
   "cell_type": "code",
   "execution_count": 10,
   "id": "5264c632-7b34-470f-9122-5c071a0a4095",
   "metadata": {
    "tags": []
   },
   "outputs": [
    {
     "name": "stdout",
     "output_type": "stream",
     "text": [
      "Products with 'also_buy' attr greater than 0:\n"
     ]
    },
    {
     "data": {
      "text/html": [
       "<div>\n",
       "<style scoped>\n",
       "    .dataframe tbody tr th:only-of-type {\n",
       "        vertical-align: middle;\n",
       "    }\n",
       "\n",
       "    .dataframe tbody tr th {\n",
       "        vertical-align: top;\n",
       "    }\n",
       "\n",
       "    .dataframe thead th {\n",
       "        text-align: right;\n",
       "    }\n",
       "</style>\n",
       "<table border=\"1\" class=\"dataframe\">\n",
       "  <thead>\n",
       "    <tr style=\"text-align: right;\">\n",
       "      <th></th>\n",
       "      <th>also_buy</th>\n",
       "      <th>count</th>\n",
       "    </tr>\n",
       "  </thead>\n",
       "  <tbody>\n",
       "    <tr>\n",
       "      <th>0</th>\n",
       "      <td>True</td>\n",
       "      <td>82.1045</td>\n",
       "    </tr>\n",
       "    <tr>\n",
       "      <th>1</th>\n",
       "      <td>False</td>\n",
       "      <td>17.8955</td>\n",
       "    </tr>\n",
       "  </tbody>\n",
       "</table>\n",
       "</div>"
      ],
      "text/plain": [
       "   also_buy    count\n",
       "0      True  82.1045\n",
       "1     False  17.8955"
      ]
     },
     "execution_count": 10,
     "metadata": {},
     "output_type": "execute_result"
    }
   ],
   "source": [
    "print(\"Products with 'also_buy' attr greater than 0:\")\n",
    "(df[\"also_buy\"].isnull().value_counts() / len(df) * 100).reset_index()"
   ]
  },
  {
   "cell_type": "code",
   "execution_count": 11,
   "id": "31a59f8d-9dd7-4b34-a21b-519bee7128e2",
   "metadata": {
    "tags": []
   },
   "outputs": [
    {
     "data": {
      "text/plain": [
       "4         [B00J2LIE9C, B00OBRE5UE, B008CP5QR2, B01LXS4TY...\n",
       "6         [B0079R113C, B007KZVIWM, B004JV8MJC, B00PJMFI6...\n",
       "10        [B00RYKR83Q, B0188YKCFC, B00QGMESHM, B07D68VBW...\n",
       "15        [B009W9V2N4, B078RYSGTR, B07K3FN5MR, B07H7ZBXC...\n",
       "16        [B01H4EIS4O, B00NODEEBQ, B00V174E1W, B074V3ZWS...\n",
       "                                ...                        \n",
       "199948                             [B0734RKVLT, B06X9NDN8B]\n",
       "199952    [B06XQBQY2B, B014I8SSD0, B06XFQNFSS, B01D5H8JW...\n",
       "199956    [B0716JJNDM, B06XDML57T, B01J13P59C, B06XQVBQW...\n",
       "199959                                         [B01KJUBRCU]\n",
       "199970    [B01FEU90ZQ, B06WWLFH9Z, B01C5KQD5I, B079K2DS3...\n",
       "Name: also_buy, Length: 35791, dtype: object"
      ]
     },
     "execution_count": 11,
     "metadata": {},
     "output_type": "execute_result"
    }
   ],
   "source": [
    "also_buy_no_null = df[\"also_buy\"].dropna()\n",
    "also_buy_no_null"
   ]
  },
  {
   "cell_type": "markdown",
   "id": "cc341fa4-9348-491c-8c27-82752b17c26d",
   "metadata": {},
   "source": [
    "---"
   ]
  },
  {
   "cell_type": "code",
   "execution_count": 12,
   "id": "07a9b4eb-34c3-4968-aea5-8d632c4738f3",
   "metadata": {
    "tags": []
   },
   "outputs": [
    {
     "data": {
      "text/html": [
       "<div>\n",
       "<style scoped>\n",
       "    .dataframe tbody tr th:only-of-type {\n",
       "        vertical-align: middle;\n",
       "    }\n",
       "\n",
       "    .dataframe tbody tr th {\n",
       "        vertical-align: top;\n",
       "    }\n",
       "\n",
       "    .dataframe thead th {\n",
       "        text-align: right;\n",
       "    }\n",
       "</style>\n",
       "<table border=\"1\" class=\"dataframe\">\n",
       "  <thead>\n",
       "    <tr style=\"text-align: right;\">\n",
       "      <th></th>\n",
       "      <th>brand</th>\n",
       "      <th>count</th>\n",
       "    </tr>\n",
       "  </thead>\n",
       "  <tbody>\n",
       "    <tr>\n",
       "      <th>0</th>\n",
       "      <td>Amazon Collection</td>\n",
       "      <td>1796</td>\n",
       "    </tr>\n",
       "    <tr>\n",
       "      <th>1</th>\n",
       "      <td>Generic</td>\n",
       "      <td>1160</td>\n",
       "    </tr>\n",
       "    <tr>\n",
       "      <th>2</th>\n",
       "      <td>Unknown</td>\n",
       "      <td>900</td>\n",
       "    </tr>\n",
       "    <tr>\n",
       "      <th>3</th>\n",
       "      <td>Sony</td>\n",
       "      <td>809</td>\n",
       "    </tr>\n",
       "    <tr>\n",
       "      <th>4</th>\n",
       "      <td>Inspired Silver</td>\n",
       "      <td>752</td>\n",
       "    </tr>\n",
       "    <tr>\n",
       "      <th>...</th>\n",
       "      <td>...</td>\n",
       "      <td>...</td>\n",
       "    </tr>\n",
       "    <tr>\n",
       "      <th>25560</th>\n",
       "      <td>Boating Accessories</td>\n",
       "      <td>1</td>\n",
       "    </tr>\n",
       "    <tr>\n",
       "      <th>25561</th>\n",
       "      <td>Djw</td>\n",
       "      <td>1</td>\n",
       "    </tr>\n",
       "    <tr>\n",
       "      <th>25562</th>\n",
       "      <td>Etn</td>\n",
       "      <td>1</td>\n",
       "    </tr>\n",
       "    <tr>\n",
       "      <th>25563</th>\n",
       "      <td>Deemoe</td>\n",
       "      <td>1</td>\n",
       "    </tr>\n",
       "    <tr>\n",
       "      <th>25564</th>\n",
       "      <td>Pvendor</td>\n",
       "      <td>1</td>\n",
       "    </tr>\n",
       "  </tbody>\n",
       "</table>\n",
       "<p>25565 rows × 2 columns</p>\n",
       "</div>"
      ],
      "text/plain": [
       "                     brand  count\n",
       "0        Amazon Collection   1796\n",
       "1                  Generic   1160\n",
       "2                  Unknown    900\n",
       "3                     Sony    809\n",
       "4          Inspired Silver    752\n",
       "...                    ...    ...\n",
       "25560  Boating Accessories      1\n",
       "25561                  Djw      1\n",
       "25562                  Etn      1\n",
       "25563               Deemoe      1\n",
       "25564              Pvendor      1\n",
       "\n",
       "[25565 rows x 2 columns]"
      ]
     },
     "execution_count": 12,
     "metadata": {},
     "output_type": "execute_result"
    }
   ],
   "source": [
    "df[\"brand\"].value_counts().reset_index()"
   ]
  },
  {
   "cell_type": "markdown",
   "id": "b9a74dec-e76c-4c42-a269-71a499dafe49",
   "metadata": {},
   "source": [
    "**Insights**\n",
    "- This counts might not be relevant as this is only a small subset of the whole dataset."
   ]
  },
  {
   "cell_type": "code",
   "execution_count": 13,
   "id": "597528b6-0ece-446b-91ab-2aa14e27bce5",
   "metadata": {
    "tags": []
   },
   "outputs": [
    {
     "name": "stdout",
     "output_type": "stream",
     "text": [
      "Products with 'also_view' attr greater than 0:\n"
     ]
    },
    {
     "data": {
      "text/html": [
       "<div>\n",
       "<style scoped>\n",
       "    .dataframe tbody tr th:only-of-type {\n",
       "        vertical-align: middle;\n",
       "    }\n",
       "\n",
       "    .dataframe tbody tr th {\n",
       "        vertical-align: top;\n",
       "    }\n",
       "\n",
       "    .dataframe thead th {\n",
       "        text-align: right;\n",
       "    }\n",
       "</style>\n",
       "<table border=\"1\" class=\"dataframe\">\n",
       "  <thead>\n",
       "    <tr style=\"text-align: right;\">\n",
       "      <th></th>\n",
       "      <th>also_view</th>\n",
       "      <th>count</th>\n",
       "    </tr>\n",
       "  </thead>\n",
       "  <tbody>\n",
       "    <tr>\n",
       "      <th>0</th>\n",
       "      <td>True</td>\n",
       "      <td>69.466</td>\n",
       "    </tr>\n",
       "    <tr>\n",
       "      <th>1</th>\n",
       "      <td>False</td>\n",
       "      <td>30.534</td>\n",
       "    </tr>\n",
       "  </tbody>\n",
       "</table>\n",
       "</div>"
      ],
      "text/plain": [
       "   also_view   count\n",
       "0       True  69.466\n",
       "1      False  30.534"
      ]
     },
     "execution_count": 13,
     "metadata": {},
     "output_type": "execute_result"
    }
   ],
   "source": [
    "print(\"Products with 'also_view' attr greater than 0:\")\n",
    "(df[\"also_view\"].isnull().value_counts() / len(df) * 100).reset_index()"
   ]
  },
  {
   "cell_type": "markdown",
   "id": "d4115f20-8834-4dae-837d-d2e069e80509",
   "metadata": {},
   "source": [
    "---"
   ]
  },
  {
   "cell_type": "code",
   "execution_count": 14,
   "id": "34af648e-8e44-45c9-b00e-23d446f3ec76",
   "metadata": {
    "tags": []
   },
   "outputs": [
    {
     "name": "stdout",
     "output_type": "stream",
     "text": [
      "Number of categories: 205724\n"
     ]
    }
   ],
   "source": [
    "categories = Counter()\n",
    "\n",
    "df[\"category\"].dropna().map(lambda x: categories.update(x.tolist()))\n",
    "\n",
    "print(\"Number of categories:\", len(categories))"
   ]
  },
  {
   "cell_type": "code",
   "execution_count": 15,
   "id": "fe1063ea-bb54-43ae-961f-2b5e7f970575",
   "metadata": {
    "tags": []
   },
   "outputs": [
    {
     "name": "stdout",
     "output_type": "stream",
     "text": [
      "Most common categories:\n"
     ]
    },
    {
     "data": {
      "text/plain": [
       "[('Clothing', 185376),\n",
       " (' Shoes & Jewelry', 125860),\n",
       " ('Electronics', 74140),\n",
       " ('Women', 66282),\n",
       " ('Men', 36573),\n",
       " ('Computers & Accessories', 34362),\n",
       " ('Imported', 24126),\n",
       " ('Novelty & More', 21214),\n",
       " ('Shoes', 20807),\n",
       " ('Novelty', 18864)]"
      ]
     },
     "execution_count": 15,
     "metadata": {},
     "output_type": "execute_result"
    }
   ],
   "source": [
    "print(\"Most common categories:\")\n",
    "\n",
    "categories.most_common(10)"
   ]
  },
  {
   "cell_type": "markdown",
   "id": "3258010a-7662-43e1-8f38-bbd1893199f8",
   "metadata": {},
   "source": [
    "---"
   ]
  },
  {
   "cell_type": "code",
   "execution_count": 16,
   "id": "c399c8a1-9837-4d41-9762-992db2b93679",
   "metadata": {
    "tags": []
   },
   "outputs": [
    {
     "data": {
      "text/plain": [
       "0          159\n",
       "2          142\n",
       "3           92\n",
       "4           62\n",
       "6           22\n",
       "          ... \n",
       "199987    1197\n",
       "199988    1197\n",
       "199991     123\n",
       "199998       4\n",
       "199999     194\n",
       "Name: description, Length: 157685, dtype: int64"
      ]
     },
     "execution_count": 16,
     "metadata": {},
     "output_type": "execute_result"
    }
   ],
   "source": [
    "df[\"description\"].dropna().map(len)"
   ]
  },
  {
   "cell_type": "code",
   "execution_count": 17,
   "id": "9d08c464-fd6e-4604-acc9-c883f91925ab",
   "metadata": {
    "tags": []
   },
   "outputs": [
    {
     "name": "stdout",
     "output_type": "stream",
     "text": [
      "The S4 Custom System Case with quality hardware and construction that is allows you to store your digital camera. The S4 offers a customizable interior with adjustable padded walls and offers a padded handle for comfortable carrying.\n"
     ]
    }
   ],
   "source": [
    "for _, row in df.dropna(subset=[\"description\"]).sample(1).iterrows():\n",
    "    description = row[\"description\"]\n",
    "    print(description)"
   ]
  },
  {
   "cell_type": "markdown",
   "id": "26f25a94-4599-461a-891d-0312ff4e28ab",
   "metadata": {},
   "source": [
    "**Insights**\n",
    "- Some products don't have description."
   ]
  },
  {
   "cell_type": "markdown",
   "id": "945477ea-1ac0-4d12-aad2-9c665f267d8c",
   "metadata": {},
   "source": [
    "---"
   ]
  },
  {
   "cell_type": "code",
   "execution_count": 48,
   "id": "044e3fe9-b9c7-4e74-86b2-a97e110c5452",
   "metadata": {
    "tags": []
   },
   "outputs": [
    {
     "name": "stdout",
     "output_type": "stream",
     "text": [
      "Number of features: 5\n",
      "['GMS CERTIFICATED TABLET WITH ANDROID 6.0:The GMS (Google Mobile Service) certificated tablet ensures effectiveness, reliability and availability. You can use the apps upgraded and tested by Google safely. Google Android 6.0 Marshmallow Operating System provides you user-friendlyinterfaces and easy operation.'\n",
      " 'POCKET-SIZED AND HIGH-PERFORMANCE: 7 inch capacitive TFT display, up to 1.3GHZ Quad core processor, 1GB RAM and 8GB internal Storage, iRULU X37 brings you fluid userexperience and smooth multi-tasking. Dont need to worry about computer speed and storage capacity. Perfect for gaming, watching movies and handling mail.'\n",
      " 'MULTIPLE FUNCTION SUPPORT:Wi-Fi, Bluetooth and USB port enable you to browse the internet and connect with other devices easily. Dual Cameras allow you to snap photos or make video calls via Skype. Its also compatible with keyboard, headphone and printer. Come with more function, Satisfy all your needs.'\n",
      " 'GREAT FOR ENTERTAINMENT:With pre-installed Google Play, you can enjoy millions of music piece, movies, TV shows, Kindle eBooks and other various Apps including Netflix, YouTube, FaceBook, Instagram, Microsoft Office and more.'\n",
      " 'ONE YEAR WARRANTY AND ON-TIME CUSTOMER SERVICE:All iRULU tablet sold by us are covered with a 12-month warranty.If you have any questions,please feel free to contact us, we are always here to help.']\n"
     ]
    }
   ],
   "source": [
    "for _, row in df.dropna().sample(1).iterrows():\n",
    "    features = row[\"feature\"]\n",
    "    print(\"Number of features:\", len(features))\n",
    "    print(features)"
   ]
  },
  {
   "cell_type": "markdown",
   "id": "f18a2a68-76bb-4f8f-b64f-06e0d35d0191",
   "metadata": {},
   "source": [
    "**Insights**\n",
    "- Some `features` are in html format"
   ]
  },
  {
   "cell_type": "markdown",
   "id": "ee8c0e08-1971-49e3-ad00-274cd99d0f02",
   "metadata": {},
   "source": [
    "---"
   ]
  },
  {
   "cell_type": "code",
   "execution_count": 50,
   "id": "a9559a70-34fd-4589-9304-9eb07a788aee",
   "metadata": {
    "tags": []
   },
   "outputs": [
    {
     "data": {
      "text/html": [
       "<div>\n",
       "<style scoped>\n",
       "    .dataframe tbody tr th:only-of-type {\n",
       "        vertical-align: middle;\n",
       "    }\n",
       "\n",
       "    .dataframe tbody tr th {\n",
       "        vertical-align: top;\n",
       "    }\n",
       "\n",
       "    .dataframe thead th {\n",
       "        text-align: right;\n",
       "    }\n",
       "</style>\n",
       "<table border=\"1\" class=\"dataframe\">\n",
       "  <thead>\n",
       "    <tr style=\"text-align: right;\">\n",
       "      <th></th>\n",
       "      <th>main_category</th>\n",
       "      <th>count</th>\n",
       "    </tr>\n",
       "  </thead>\n",
       "  <tbody>\n",
       "    <tr>\n",
       "      <th>0</th>\n",
       "      <td>Clothing</td>\n",
       "      <td>125860</td>\n",
       "    </tr>\n",
       "    <tr>\n",
       "      <th>1</th>\n",
       "      <td>Electronics</td>\n",
       "      <td>74140</td>\n",
       "    </tr>\n",
       "  </tbody>\n",
       "</table>\n",
       "</div>"
      ],
      "text/plain": [
       "  main_category   count\n",
       "0      Clothing  125860\n",
       "1   Electronics   74140"
      ]
     },
     "execution_count": 50,
     "metadata": {},
     "output_type": "execute_result"
    }
   ],
   "source": [
    "df[\"main_category\"].value_counts().reset_index()"
   ]
  },
  {
   "cell_type": "markdown",
   "id": "5c8bb0a8-3621-4407-a610-d9c400c8b3ae",
   "metadata": {},
   "source": [
    "---"
   ]
  },
  {
   "cell_type": "code",
   "execution_count": 63,
   "id": "f2a772e4-56a5-4f63-9f35-72c8a83feaaf",
   "metadata": {
    "tags": []
   },
   "outputs": [
    {
     "data": {
      "text/html": [
       "<div>\n",
       "<style scoped>\n",
       "    .dataframe tbody tr th:only-of-type {\n",
       "        vertical-align: middle;\n",
       "    }\n",
       "\n",
       "    .dataframe tbody tr th {\n",
       "        vertical-align: top;\n",
       "    }\n",
       "\n",
       "    .dataframe thead th {\n",
       "        text-align: right;\n",
       "    }\n",
       "</style>\n",
       "<table border=\"1\" class=\"dataframe\">\n",
       "  <thead>\n",
       "    <tr style=\"text-align: right;\">\n",
       "      <th></th>\n",
       "      <th>count</th>\n",
       "    </tr>\n",
       "    <tr>\n",
       "      <th>title</th>\n",
       "      <th></th>\n",
       "    </tr>\n",
       "  </thead>\n",
       "  <tbody>\n",
       "    <tr>\n",
       "      <th>0</th>\n",
       "      <td>5</td>\n",
       "    </tr>\n",
       "    <tr>\n",
       "      <th>1</th>\n",
       "      <td>5</td>\n",
       "    </tr>\n",
       "    <tr>\n",
       "      <th>2</th>\n",
       "      <td>1</td>\n",
       "    </tr>\n",
       "    <tr>\n",
       "      <th>3</th>\n",
       "      <td>5</td>\n",
       "    </tr>\n",
       "    <tr>\n",
       "      <th>4</th>\n",
       "      <td>5</td>\n",
       "    </tr>\n",
       "  </tbody>\n",
       "</table>\n",
       "</div>"
      ],
      "text/plain": [
       "       count\n",
       "title       \n",
       "0          5\n",
       "1          5\n",
       "2          1\n",
       "3          5\n",
       "4          5"
      ]
     },
     "execution_count": 63,
     "metadata": {},
     "output_type": "execute_result"
    }
   ],
   "source": [
    "df[\"title\"].map(len).value_counts().sort_index().to_frame().head()"
   ]
  },
  {
   "cell_type": "code",
   "execution_count": 53,
   "id": "076eeceb-f4ee-48c5-813f-db5c8167f6be",
   "metadata": {
    "tags": []
   },
   "outputs": [
    {
     "name": "stdout",
     "output_type": "stream",
     "text": [
      "Seagate 250GB Constellation SATA 6Gb/s 64MB Cache 2.5-Inch Internal Bare Drive (ST9250610NS)\n",
      "Solo Premium Leather Ascent Case for iPad , Espresso, VTA210-3\n",
      "Microsoft Surface Pro 3 Tablet (12-Inch, 512 GB, Intel Core i7, Windows 10)\n",
      "NVX True 900 watt RMS 5-Channel [JAD Series] Class D Car Full Range Amplifier [JAD900.5]\n",
      "Autolizer Sleeve Bearing 120mm RGB Multi-Color LEDs Silent Cooling Fan for Computer PC Cases, CPU Coolers and Radiators, High Airflow, Quiet and Transparent - 2 Years Warranty\n",
      "12 Disc CD/DVD/Game Transparent Vinyl Storage Wallet Blue.\n",
      "Stylus Pens, Besgoods 10Pack Colors 2 in 1 Crystal Universal Capacitive Stylus &amp;Ballpoint Pen Compatible iPhone X 8 7 Plus, iPad, Tablets, Samsung, Android, Black/White/Blue/red/Green\n",
      "Amcrest Full HD 1080P 1920TVL Bullet Outdoor Security Camera (Quadbrid 4-in1 HD-CVI/TVI/AHD/Analog), 2MP 1920x1080, 98ft Night Vision, Metal Housing, 3.6mm Lens 90&deg; FOV, White (AMC1080BC36-W)\n",
      "HGST Touro Mobile 500GB USB 3.0 External Hard Drive, Black (HTOLMX3NA5001ABB)\n",
      "DELL LATITUDE D630 CORE 2 DUO 2.2GHz 120GB 2GB DVDRW 14&quot;WIDE XP PRO WI-FI\n"
     ]
    }
   ],
   "source": [
    "for _, row in df.dropna().sample(10).iterrows():\n",
    "    title = row[\"title\"]\n",
    "    print(title)"
   ]
  },
  {
   "cell_type": "markdown",
   "id": "0891b445-4311-4820-a695-131c8a42b0ad",
   "metadata": {},
   "source": [
    "---"
   ]
  },
  {
   "cell_type": "code",
   "execution_count": 64,
   "id": "165644ec-82e6-4d9d-9aed-ae9044fcb8f8",
   "metadata": {
    "tags": []
   },
   "outputs": [
    {
     "data": {
      "text/plain": [
       "0          [B0037U95U6, B01M7UFBQ9, B006084O7G, B013PIMPMO]\n",
       "2         [B00GJYTUH0, B00608C64E, B00608LYVK, B009NQMES...\n",
       "3         [B002VA7RPS, B00Q6CAZ4M, B075M3B1R7, B00608FKN...\n",
       "4         [B00608MP5E, B074NB1PBZ, B011HNSSES, B00IKDETO...\n",
       "8          [B005VU2PI4, B00608Z8M6, B00608VOE2, B005VTRTEA]\n",
       "                                ...                        \n",
       "199977     [B01HSSAZX8, B012VMWUKW, B012VOUP48, B01LYY04GC]\n",
       "199978    [B012VOP0WK, B00R0I6IFG, B06Y665PL6, B012VOP2Q...\n",
       "199979     [B012VOOVL6, B012VQUH6C, B012VOVYMU, B012VPGHGM]\n",
       "199980    [B0095OTYTU, B076BQB6BT, B074QNJQRB, B013I1RJ5...\n",
       "199981    [B01IFWXJYS, B00KR6Q1VO, B00NFOC0K6, B00PZ78M7...\n",
       "Name: similar_items, Length: 23122, dtype: object"
      ]
     },
     "execution_count": 64,
     "metadata": {},
     "output_type": "execute_result"
    }
   ],
   "source": [
    "df[\"similar_items\"].dropna()"
   ]
  }
 ],
 "metadata": {
  "kernelspec": {
   "display_name": "default:Python",
   "language": "python",
   "name": "conda-env-default-py"
  },
  "language_info": {
   "codemirror_mode": {
    "name": "ipython",
    "version": 3
   },
   "file_extension": ".py",
   "mimetype": "text/x-python",
   "name": "python",
   "nbconvert_exporter": "python",
   "pygments_lexer": "ipython3",
   "version": "3.9.16"
  }
 },
 "nbformat": 4,
 "nbformat_minor": 5
}
