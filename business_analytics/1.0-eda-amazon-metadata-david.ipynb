{
 "cells": [
  {
   "cell_type": "markdown",
   "id": "d8bf12d9-a57d-4d25-ab05-f5e6b942b806",
   "metadata": {},
   "source": [
    "# **Amazon Metadata Dataset**\n"
   ]
  },
  {
   "cell_type": "code",
   "execution_count": 2,
   "id": "9b3fa146-294e-4ff8-b281-a13c6239ba43",
   "metadata": {
    "tags": []
   },
   "outputs": [],
   "source": [
    "from collections import Counter\n",
    "from pprint import pprint\n",
    "\n",
    "import delta_sharing\n",
    "import matplotlib.pyplot as plt\n",
    "import missingno as msno\n",
    "import pandas as pd\n",
    "from IPython.display import HTML, display\n",
    "from wordcloud import WordCloud"
   ]
  },
  {
   "cell_type": "code",
   "execution_count": 3,
   "id": "eed551ad-3d09-43d0-ae25-37ce41586878",
   "metadata": {
    "tags": []
   },
   "outputs": [
    {
     "name": "stdout",
     "output_type": "stream",
     "text": [
      "Available tables:\n",
      "[Table(name='amazon_reviews', share='share__products', schema='silver'),\n",
      " Table(name='sample_amazon_metadata', share='share__products', schema='bronze')]\n"
     ]
    }
   ],
   "source": [
    "# get data\n",
    "profile_file = \"config.share\"\n",
    "client = delta_sharing.SharingClient(profile_file)\n",
    "print(\"Available tables:\")\n",
    "pprint(client.list_all_tables())\n",
    "\n",
    "table_url = profile_file + \"#share__products.bronze.sample_amazon_metadata\"\n",
    "df = delta_sharing.load_as_pandas(table_url, limit=50_000)"
   ]
  },
  {
   "cell_type": "code",
   "execution_count": 4,
   "id": "6a0d5a7d-dd09-4696-89fd-9e65ea9448b3",
   "metadata": {
    "tags": []
   },
   "outputs": [
    {
     "name": "stdout",
     "output_type": "stream",
     "text": [
      "Dataset shape (50000, 17)\n"
     ]
    },
    {
     "data": {
      "text/html": [
       "<div>\n",
       "<style scoped>\n",
       "    .dataframe tbody tr th:only-of-type {\n",
       "        vertical-align: middle;\n",
       "    }\n",
       "\n",
       "    .dataframe tbody tr th {\n",
       "        vertical-align: top;\n",
       "    }\n",
       "\n",
       "    .dataframe thead th {\n",
       "        text-align: right;\n",
       "    }\n",
       "</style>\n",
       "<table border=\"1\" class=\"dataframe\">\n",
       "  <thead>\n",
       "    <tr style=\"text-align: right;\">\n",
       "      <th></th>\n",
       "      <th>also_buy</th>\n",
       "      <th>also_view</th>\n",
       "      <th>asin</th>\n",
       "      <th>brand</th>\n",
       "      <th>category</th>\n",
       "      <th>date</th>\n",
       "      <th>description</th>\n",
       "      <th>feature</th>\n",
       "      <th>fit</th>\n",
       "      <th>image</th>\n",
       "      <th>main_cat</th>\n",
       "      <th>price</th>\n",
       "      <th>rank</th>\n",
       "      <th>similar_item</th>\n",
       "      <th>tech1</th>\n",
       "      <th>tech2</th>\n",
       "      <th>title</th>\n",
       "    </tr>\n",
       "  </thead>\n",
       "  <tbody>\n",
       "    <tr>\n",
       "      <th>0</th>\n",
       "      <td>[]</td>\n",
       "      <td>[]</td>\n",
       "      <td>B0007KP9UO</td>\n",
       "      <td>Valley Forge</td>\n",
       "      <td>[Patio, Lawn &amp; Garden, Outdoor Dcor, Flags]</td>\n",
       "      <td></td>\n",
       "      <td>[Founded in 1882, Valley Forge Flag Company, I...</td>\n",
       "      <td>[US Navy residential flag symbolizes our count...</td>\n",
       "      <td></td>\n",
       "      <td>[https://images-na.ssl-images-amazon.com/image...</td>\n",
       "      <td>Amazon Home</td>\n",
       "      <td>$14.47</td>\n",
       "      <td>[\"&gt;#61,007 in Patio, Lawn &amp; Garden (See Top 10...</td>\n",
       "      <td>class=\"a-bordered a-horizontal-stripes  a-spa...</td>\n",
       "      <td></td>\n",
       "      <td></td>\n",
       "      <td>Valley Forge, US Navy Flag, Nylon, 3' x 5', 10...</td>\n",
       "    </tr>\n",
       "    <tr>\n",
       "      <th>1</th>\n",
       "      <td>[]</td>\n",
       "      <td>[]</td>\n",
       "      <td>B0007KP9T0</td>\n",
       "      <td>Valley Forge</td>\n",
       "      <td>[Patio, Lawn &amp; Garden, Gardening &amp; Lawn Care, ...</td>\n",
       "      <td></td>\n",
       "      <td>[5' Brushed Aluminum pole with plastic anti-wr...</td>\n",
       "      <td>[Sold on Amazon, &lt;span&gt;\\n        &lt;a href=https...</td>\n",
       "      <td></td>\n",
       "      <td>[]</td>\n",
       "      <td>Amazon Home</td>\n",
       "      <td>$17.29</td>\n",
       "      <td>[\"&gt;#97,482 in Patio, Lawn &amp; Garden (See Top 10...</td>\n",
       "      <td>class=\"a-bordered a-horizontal-stripes  a-spa...</td>\n",
       "      <td></td>\n",
       "      <td></td>\n",
       "      <td>Valley Forge, American Flag Pole, Brushed Alum...</td>\n",
       "    </tr>\n",
       "    <tr>\n",
       "      <th>2</th>\n",
       "      <td>[]</td>\n",
       "      <td>[B0187YOEF2, B06XHXDLFR, B0013NTNCY, B074W2CWS4]</td>\n",
       "      <td>B0007KP9VS</td>\n",
       "      <td>Valley Forge</td>\n",
       "      <td>[Patio, Lawn &amp; Garden, Outdoor Dcor, Flags]</td>\n",
       "      <td></td>\n",
       "      <td>[Founded in 1882, Valley Forge Flag Company, I...</td>\n",
       "      <td>[P.O.W./M.I.A. double seal residential flag sy...</td>\n",
       "      <td></td>\n",
       "      <td>[]</td>\n",
       "      <td>Amazon Home</td>\n",
       "      <td>$29.96</td>\n",
       "      <td>[\"&gt;#57,978 in Patio, Lawn &amp; Garden (See Top 10...</td>\n",
       "      <td>class=\"a-bordered a-horizontal-stripes  a-spa...</td>\n",
       "      <td></td>\n",
       "      <td></td>\n",
       "      <td>Valley Forge, POW-MIA, Nylon, 3'x5', 100% Made...</td>\n",
       "    </tr>\n",
       "    <tr>\n",
       "      <th>3</th>\n",
       "      <td>[]</td>\n",
       "      <td>[]</td>\n",
       "      <td>B0007KPA1C</td>\n",
       "      <td>Valley Forge</td>\n",
       "      <td>[Patio, Lawn &amp; Garden, Valley Forge Flag]</td>\n",
       "      <td></td>\n",
       "      <td>[3'X5' State Flag manufactured by the leader i...</td>\n",
       "      <td>[Have pride in Indiana; hang your state flag f...</td>\n",
       "      <td></td>\n",
       "      <td>[]</td>\n",
       "      <td>Amazon Home</td>\n",
       "      <td>$22.08</td>\n",
       "      <td>[\"&gt;#248,656 in Patio, Lawn &amp; Garden (See Top 1...</td>\n",
       "      <td></td>\n",
       "      <td></td>\n",
       "      <td></td>\n",
       "      <td>Valley Forge, Indiana State Flag, Nylon, 3' x ...</td>\n",
       "    </tr>\n",
       "    <tr>\n",
       "      <th>4</th>\n",
       "      <td>[]</td>\n",
       "      <td>[]</td>\n",
       "      <td>B0007KP9Q8</td>\n",
       "      <td>Valley Forge</td>\n",
       "      <td>[Patio, Lawn &amp; Garden, Gardening &amp; Lawn Care, ...</td>\n",
       "      <td></td>\n",
       "      <td>[30\"x50\" Nylon flag with sewn stripes embroide...</td>\n",
       "      <td>[Valley Forge US Heritage residential flag sym...</td>\n",
       "      <td></td>\n",
       "      <td>[]</td>\n",
       "      <td>Amazon Home</td>\n",
       "      <td></td>\n",
       "      <td>[\"&gt;#975,707 in Patio, Lawn &amp; Garden (See Top 1...</td>\n",
       "      <td></td>\n",
       "      <td></td>\n",
       "      <td></td>\n",
       "      <td>Valley Forge 30-Inch x 50-Inch Nylon Flag With...</td>\n",
       "    </tr>\n",
       "  </tbody>\n",
       "</table>\n",
       "</div>"
      ],
      "text/plain": [
       "  also_buy                                         also_view        asin  \\\n",
       "0       []                                                []  B0007KP9UO   \n",
       "1       []                                                []  B0007KP9T0   \n",
       "2       []  [B0187YOEF2, B06XHXDLFR, B0013NTNCY, B074W2CWS4]  B0007KP9VS   \n",
       "3       []                                                []  B0007KPA1C   \n",
       "4       []                                                []  B0007KP9Q8   \n",
       "\n",
       "          brand                                           category date  \\\n",
       "0  Valley Forge        [Patio, Lawn & Garden, Outdoor Dcor, Flags]        \n",
       "1  Valley Forge  [Patio, Lawn & Garden, Gardening & Lawn Care, ...        \n",
       "2  Valley Forge        [Patio, Lawn & Garden, Outdoor Dcor, Flags]        \n",
       "3  Valley Forge          [Patio, Lawn & Garden, Valley Forge Flag]        \n",
       "4  Valley Forge  [Patio, Lawn & Garden, Gardening & Lawn Care, ...        \n",
       "\n",
       "                                         description  \\\n",
       "0  [Founded in 1882, Valley Forge Flag Company, I...   \n",
       "1  [5' Brushed Aluminum pole with plastic anti-wr...   \n",
       "2  [Founded in 1882, Valley Forge Flag Company, I...   \n",
       "3  [3'X5' State Flag manufactured by the leader i...   \n",
       "4  [30\"x50\" Nylon flag with sewn stripes embroide...   \n",
       "\n",
       "                                             feature fit  \\\n",
       "0  [US Navy residential flag symbolizes our count...       \n",
       "1  [Sold on Amazon, <span>\\n        <a href=https...       \n",
       "2  [P.O.W./M.I.A. double seal residential flag sy...       \n",
       "3  [Have pride in Indiana; hang your state flag f...       \n",
       "4  [Valley Forge US Heritage residential flag sym...       \n",
       "\n",
       "                                               image     main_cat   price  \\\n",
       "0  [https://images-na.ssl-images-amazon.com/image...  Amazon Home  $14.47   \n",
       "1                                                 []  Amazon Home  $17.29   \n",
       "2                                                 []  Amazon Home  $29.96   \n",
       "3                                                 []  Amazon Home  $22.08   \n",
       "4                                                 []  Amazon Home           \n",
       "\n",
       "                                                rank  \\\n",
       "0  [\">#61,007 in Patio, Lawn & Garden (See Top 10...   \n",
       "1  [\">#97,482 in Patio, Lawn & Garden (See Top 10...   \n",
       "2  [\">#57,978 in Patio, Lawn & Garden (See Top 10...   \n",
       "3  [\">#248,656 in Patio, Lawn & Garden (See Top 1...   \n",
       "4  [\">#975,707 in Patio, Lawn & Garden (See Top 1...   \n",
       "\n",
       "                                        similar_item tech1 tech2  \\\n",
       "0   class=\"a-bordered a-horizontal-stripes  a-spa...               \n",
       "1   class=\"a-bordered a-horizontal-stripes  a-spa...               \n",
       "2   class=\"a-bordered a-horizontal-stripes  a-spa...               \n",
       "3                                                                  \n",
       "4                                                                  \n",
       "\n",
       "                                               title  \n",
       "0  Valley Forge, US Navy Flag, Nylon, 3' x 5', 10...  \n",
       "1  Valley Forge, American Flag Pole, Brushed Alum...  \n",
       "2  Valley Forge, POW-MIA, Nylon, 3'x5', 100% Made...  \n",
       "3  Valley Forge, Indiana State Flag, Nylon, 3' x ...  \n",
       "4  Valley Forge 30-Inch x 50-Inch Nylon Flag With...  "
      ]
     },
     "execution_count": 4,
     "metadata": {},
     "output_type": "execute_result"
    }
   ],
   "source": [
    "print(\"Dataset shape\", df.shape)\n",
    "\n",
    "df.head()"
   ]
  },
  {
   "cell_type": "markdown",
   "id": "2e5c4102-793e-495e-a4a7-f69fa7c97806",
   "metadata": {},
   "source": [
    "**Insights**\n",
    "\n",
    "- The columns that look like lists are actually numpy arrays. ¿Why they come in this format?"
   ]
  },
  {
   "cell_type": "code",
   "execution_count": 4,
   "id": "6080fe6d-b54d-477a-9170-4bfa6627231f",
   "metadata": {
    "tags": []
   },
   "outputs": [
    {
     "data": {
      "text/plain": [
       "also_buy        object\n",
       "also_view       object\n",
       "asin            object\n",
       "brand           object\n",
       "category        object\n",
       "date            object\n",
       "description     object\n",
       "feature         object\n",
       "fit             object\n",
       "image           object\n",
       "main_cat        object\n",
       "price           object\n",
       "rank            object\n",
       "similar_item    object\n",
       "tech1           object\n",
       "tech2           object\n",
       "title           object\n",
       "dtype: object"
      ]
     },
     "execution_count": 4,
     "metadata": {},
     "output_type": "execute_result"
    }
   ],
   "source": [
    "df.dtypes"
   ]
  },
  {
   "cell_type": "markdown",
   "id": "87feb8f2-f993-4e9e-b8ae-b70e4cb2a588",
   "metadata": {},
   "source": [
    "---"
   ]
  },
  {
   "cell_type": "code",
   "execution_count": 5,
   "id": "9aa0931e-d9ee-428f-99e6-f95cb4ab5c4c",
   "metadata": {
    "tags": []
   },
   "outputs": [
    {
     "data": {
      "image/png": "[encoded data removed]",
      "text/plain": [
       "<Figure size 2500x1000 with 2 Axes>"
      ]
     },
     "metadata": {},
     "output_type": "display_data"
    }
   ],
   "source": [
    "msno.matrix(df);"
   ]
  },
  {
   "cell_type": "markdown",
   "id": "28fe4093-7dda-4d1f-8821-43b548e23adf",
   "metadata": {
    "tags": []
   },
   "source": [
    "**Insights**\n",
    "- There doesn't seem to be any missing values, but this might be due to the columns having the \"wrong\" datatype, like list or string."
   ]
  },
  {
   "cell_type": "markdown",
   "id": "204920ee-271f-450b-b022-6dd9e8566f7c",
   "metadata": {},
   "source": [
    "---"
   ]
  },
  {
   "cell_type": "code",
   "execution_count": 5,
   "id": "800efac8-0451-4c2d-b21b-62c601f43f20",
   "metadata": {
    "tags": []
   },
   "outputs": [
    {
     "data": {
      "text/plain": [
       "asin\n",
       "B0001Z5TJ6    2\n",
       "B0001Z8KH4    2\n",
       "B0001Z99TW    2\n",
       "B0001ZDOH0    2\n",
       "B0001ZIU8S    2\n",
       "             ..\n",
       "B000659JQA    1\n",
       "B000659KEG    1\n",
       "B00065AH4S    1\n",
       "B000659KC8    1\n",
       "B000659HRQ    1\n",
       "Name: count, Length: 43172, dtype: int64"
      ]
     },
     "execution_count": 5,
     "metadata": {},
     "output_type": "execute_result"
    }
   ],
   "source": [
    "df[\"asin\"].value_counts()"
   ]
  },
  {
   "cell_type": "code",
   "execution_count": 7,
   "id": "cdbddd0a-f9bb-444a-87f9-d36a3349a5d6",
   "metadata": {
    "tags": []
   },
   "outputs": [
    {
     "data": {
      "text/html": [
       "<div>\n",
       "<style scoped>\n",
       "    .dataframe tbody tr th:only-of-type {\n",
       "        vertical-align: middle;\n",
       "    }\n",
       "\n",
       "    .dataframe tbody tr th {\n",
       "        vertical-align: top;\n",
       "    }\n",
       "\n",
       "    .dataframe thead th {\n",
       "        text-align: right;\n",
       "    }\n",
       "</style>\n",
       "<table border=\"1\" class=\"dataframe\">\n",
       "  <thead>\n",
       "    <tr style=\"text-align: right;\">\n",
       "      <th></th>\n",
       "      <th>also_buy</th>\n",
       "      <th>also_view</th>\n",
       "      <th>asin</th>\n",
       "      <th>brand</th>\n",
       "      <th>category</th>\n",
       "      <th>date</th>\n",
       "      <th>description</th>\n",
       "      <th>feature</th>\n",
       "      <th>fit</th>\n",
       "      <th>image</th>\n",
       "      <th>main_cat</th>\n",
       "      <th>price</th>\n",
       "      <th>rank</th>\n",
       "      <th>similar_item</th>\n",
       "      <th>tech1</th>\n",
       "      <th>tech2</th>\n",
       "      <th>title</th>\n",
       "    </tr>\n",
       "  </thead>\n",
       "  <tbody>\n",
       "    <tr>\n",
       "      <th>43884</th>\n",
       "      <td>[B0045L3SNQ, B00001TZYD, B00004R9IN, B00002DHE...</td>\n",
       "      <td>[B00001TZYD, B00006DY18, B000K6TOK6, B00004R9I...</td>\n",
       "      <td>B00000INRB</td>\n",
       "      <td>Panasonic 3DO (Games)</td>\n",
       "      <td>[Clothing, Shoes &amp; Jewelry, Novelty &amp; More, Cl...</td>\n",
       "      <td></td>\n",
       "      <td>[The little plastic army men you played with a...</td>\n",
       "      <td>[1 or 2 Players Memory card 1 block]</td>\n",
       "      <td></td>\n",
       "      <td>[https://images-na.ssl-images-amazon.com/image...</td>\n",
       "      <td>Video Games</td>\n",
       "      <td>$75.99</td>\n",
       "      <td>[\"&gt;#18,319 in Video Games (See Top 100 in Vide...</td>\n",
       "      <td></td>\n",
       "      <td></td>\n",
       "      <td></td>\n",
       "      <td>Army Men 3D</td>\n",
       "    </tr>\n",
       "    <tr>\n",
       "      <th>40180</th>\n",
       "      <td>[B0045L3SNQ, B00001TZYD, B00004R9IN, B00002DHE...</td>\n",
       "      <td>[B00001TZYD, B00006DY18, B000K6TOK6, B00004R9I...</td>\n",
       "      <td>B00000INRB</td>\n",
       "      <td>Panasonic 3DO (Games)</td>\n",
       "      <td>[Clothing, Shoes &amp; Jewelry, Novelty &amp; More, Cl...</td>\n",
       "      <td></td>\n",
       "      <td>[The little plastic army men you played with a...</td>\n",
       "      <td>[1 or 2 Players Memory card 1 block]</td>\n",
       "      <td></td>\n",
       "      <td>[https://images-na.ssl-images-amazon.com/image...</td>\n",
       "      <td>Video Games</td>\n",
       "      <td>$75.99</td>\n",
       "      <td>[\"&gt;#18,319 in Video Games (See Top 100 in Vide...</td>\n",
       "      <td></td>\n",
       "      <td></td>\n",
       "      <td></td>\n",
       "      <td>Army Men 3D</td>\n",
       "    </tr>\n",
       "    <tr>\n",
       "      <th>16342</th>\n",
       "      <td>[]</td>\n",
       "      <td>[]</td>\n",
       "      <td>B00000ISGY</td>\n",
       "      <td>Toysmith</td>\n",
       "      <td>[Patio, Lawn &amp; Garden, Outdoor Dcor, Garden Sc...</td>\n",
       "      <td></td>\n",
       "      <td>[Eat your heart out, Isaac Newton. Although it...</td>\n",
       "      <td>[]</td>\n",
       "      <td></td>\n",
       "      <td>[]</td>\n",
       "      <td>Toys &amp; Games</td>\n",
       "      <td></td>\n",
       "      <td>[\"&gt;#2,825,834 in Toys &amp; Games (See Top 100 in ...</td>\n",
       "      <td></td>\n",
       "      <td></td>\n",
       "      <td></td>\n",
       "      <td>Rainbow Spectra-Arc</td>\n",
       "    </tr>\n",
       "    <tr>\n",
       "      <th>13218</th>\n",
       "      <td>[]</td>\n",
       "      <td>[]</td>\n",
       "      <td>B00000ISGY</td>\n",
       "      <td>Toysmith</td>\n",
       "      <td>[Patio, Lawn &amp; Garden, Outdoor Dcor, Garden Sc...</td>\n",
       "      <td></td>\n",
       "      <td>[Eat your heart out, Isaac Newton. Although it...</td>\n",
       "      <td>[]</td>\n",
       "      <td></td>\n",
       "      <td>[]</td>\n",
       "      <td>Toys &amp; Games</td>\n",
       "      <td></td>\n",
       "      <td>[\"&gt;#2,825,834 in Toys &amp; Games (See Top 100 in ...</td>\n",
       "      <td></td>\n",
       "      <td></td>\n",
       "      <td></td>\n",
       "      <td>Rainbow Spectra-Arc</td>\n",
       "    </tr>\n",
       "    <tr>\n",
       "      <th>43885</th>\n",
       "      <td>[B00004W5TY, B0787CML13, B07935XLNM, 630597272...</td>\n",
       "      <td>[]</td>\n",
       "      <td>B00000JKVZ</td>\n",
       "      <td>Burger</td>\n",
       "      <td>[Clothing, Shoes &amp; Jewelry, Novelty &amp; More, Cl...</td>\n",
       "      <td>&lt;div class=\"a-fixed-left-grid a-spacing-none\"&gt;...</td>\n",
       "      <td>[The comfortable, easy-to-wear, soft cotton ma...</td>\n",
       "      <td>[100% Cotton, Imported, Excellent quality, Com...</td>\n",
       "      <td></td>\n",
       "      <td>[]</td>\n",
       "      <td>Movies &amp; TV</td>\n",
       "      <td></td>\n",
       "      <td>[]</td>\n",
       "      <td></td>\n",
       "      <td></td>\n",
       "      <td></td>\n",
       "      <td>Naruto Shippuden Anime Funny Art Design Men's ...</td>\n",
       "    </tr>\n",
       "    <tr>\n",
       "      <th>...</th>\n",
       "      <td>...</td>\n",
       "      <td>...</td>\n",
       "      <td>...</td>\n",
       "      <td>...</td>\n",
       "      <td>...</td>\n",
       "      <td>...</td>\n",
       "      <td>...</td>\n",
       "      <td>...</td>\n",
       "      <td>...</td>\n",
       "      <td>...</td>\n",
       "      <td>...</td>\n",
       "      <td>...</td>\n",
       "      <td>...</td>\n",
       "      <td>...</td>\n",
       "      <td>...</td>\n",
       "      <td>...</td>\n",
       "      <td>...</td>\n",
       "    </tr>\n",
       "    <tr>\n",
       "      <th>47584</th>\n",
       "      <td>[]</td>\n",
       "      <td>[]</td>\n",
       "      <td>B0005IB51U</td>\n",
       "      <td>Pitbull Gym</td>\n",
       "      <td>[Clothing, Shoes &amp; Jewelry, Novelty &amp; More, Cl...</td>\n",
       "      <td>&lt;div class=\"a-fixed-left-grid a-spacing-none\"&gt;...</td>\n",
       "      <td>[100% cotton t-shirt with the world famous ori...</td>\n",
       "      <td>[Made in USA, MADE IN THE USA, MADE IN THE USA...</td>\n",
       "      <td></td>\n",
       "      <td>[https://images-na.ssl-images-amazon.com/image...</td>\n",
       "      <td>&lt;img src=\"https://images-na.ssl-images-amazon....</td>\n",
       "      <td>$23.95</td>\n",
       "      <td>21,387,280 in Clothing, Shoes &amp; Jewelry (</td>\n",
       "      <td></td>\n",
       "      <td></td>\n",
       "      <td></td>\n",
       "      <td>Pitbull Gym &amp;quot;Barbells&amp;quot; T-Shirt</td>\n",
       "    </tr>\n",
       "    <tr>\n",
       "      <th>47587</th>\n",
       "      <td>[]</td>\n",
       "      <td>[]</td>\n",
       "      <td>B0005IB5OM</td>\n",
       "      <td>Pitbull Gym</td>\n",
       "      <td>[Clothing, Shoes &amp; Jewelry, Novelty &amp; More, Cl...</td>\n",
       "      <td>&lt;div class=\"a-fixed-left-grid a-spacing-none\"&gt;...</td>\n",
       "      <td>[100% cotton t-shirt with the world famous ori...</td>\n",
       "      <td>[Made in USA, MADE IN THE USA, MADE IN THE USA...</td>\n",
       "      <td></td>\n",
       "      <td>[]</td>\n",
       "      <td>&lt;img src=\"https://images-na.ssl-images-amazon....</td>\n",
       "      <td></td>\n",
       "      <td>18,352,493 in Clothing, Shoes &amp; Jewelry (</td>\n",
       "      <td></td>\n",
       "      <td></td>\n",
       "      <td></td>\n",
       "      <td>Pitbull Gym &amp;quot;Barbells&amp;quot; T-Shirt</td>\n",
       "    </tr>\n",
       "    <tr>\n",
       "      <th>43883</th>\n",
       "      <td>[]</td>\n",
       "      <td>[]</td>\n",
       "      <td>B0005IB5OM</td>\n",
       "      <td>Pitbull Gym</td>\n",
       "      <td>[Clothing, Shoes &amp; Jewelry, Novelty &amp; More, Cl...</td>\n",
       "      <td>&lt;div class=\"a-fixed-left-grid a-spacing-none\"&gt;...</td>\n",
       "      <td>[100% cotton t-shirt with the world famous ori...</td>\n",
       "      <td>[Made in USA, MADE IN THE USA, MADE IN THE USA...</td>\n",
       "      <td></td>\n",
       "      <td>[]</td>\n",
       "      <td>&lt;img src=\"https://images-na.ssl-images-amazon....</td>\n",
       "      <td></td>\n",
       "      <td>18,352,493 in Clothing, Shoes &amp; Jewelry (</td>\n",
       "      <td></td>\n",
       "      <td></td>\n",
       "      <td></td>\n",
       "      <td>Pitbull Gym &amp;quot;Barbells&amp;quot; T-Shirt</td>\n",
       "    </tr>\n",
       "    <tr>\n",
       "      <th>47586</th>\n",
       "      <td>[]</td>\n",
       "      <td>[]</td>\n",
       "      <td>B0005IB5QA</td>\n",
       "      <td>Pitbull Gym</td>\n",
       "      <td>[Clothing, Shoes &amp; Jewelry, Novelty &amp; More, Cl...</td>\n",
       "      <td>&lt;div class=\"a-fixed-left-grid a-spacing-none\"&gt;...</td>\n",
       "      <td>[100% cotton t-shirt with the world famous ori...</td>\n",
       "      <td>[Made in USA, MADE IN THE USA, MADE IN THE USA...</td>\n",
       "      <td></td>\n",
       "      <td>[]</td>\n",
       "      <td>&lt;img src=\"https://images-na.ssl-images-amazon....</td>\n",
       "      <td></td>\n",
       "      <td>10,838,748 in Clothing, Shoes &amp; Jewelry (</td>\n",
       "      <td></td>\n",
       "      <td></td>\n",
       "      <td></td>\n",
       "      <td>Pitbull Gym &amp;quot;Barbells&amp;quot; T-Shirt</td>\n",
       "    </tr>\n",
       "    <tr>\n",
       "      <th>43882</th>\n",
       "      <td>[]</td>\n",
       "      <td>[]</td>\n",
       "      <td>B0005IB5QA</td>\n",
       "      <td>Pitbull Gym</td>\n",
       "      <td>[Clothing, Shoes &amp; Jewelry, Novelty &amp; More, Cl...</td>\n",
       "      <td>&lt;div class=\"a-fixed-left-grid a-spacing-none\"&gt;...</td>\n",
       "      <td>[100% cotton t-shirt with the world famous ori...</td>\n",
       "      <td>[Made in USA, MADE IN THE USA, MADE IN THE USA...</td>\n",
       "      <td></td>\n",
       "      <td>[]</td>\n",
       "      <td>&lt;img src=\"https://images-na.ssl-images-amazon....</td>\n",
       "      <td></td>\n",
       "      <td>10,838,748 in Clothing, Shoes &amp; Jewelry (</td>\n",
       "      <td></td>\n",
       "      <td></td>\n",
       "      <td></td>\n",
       "      <td>Pitbull Gym &amp;quot;Barbells&amp;quot; T-Shirt</td>\n",
       "    </tr>\n",
       "  </tbody>\n",
       "</table>\n",
       "<p>13656 rows × 17 columns</p>\n",
       "</div>"
      ],
      "text/plain": [
       "                                                also_buy  \\\n",
       "43884  [B0045L3SNQ, B00001TZYD, B00004R9IN, B00002DHE...   \n",
       "40180  [B0045L3SNQ, B00001TZYD, B00004R9IN, B00002DHE...   \n",
       "16342                                                 []   \n",
       "13218                                                 []   \n",
       "43885  [B00004W5TY, B0787CML13, B07935XLNM, 630597272...   \n",
       "...                                                  ...   \n",
       "47584                                                 []   \n",
       "47587                                                 []   \n",
       "43883                                                 []   \n",
       "47586                                                 []   \n",
       "43882                                                 []   \n",
       "\n",
       "                                               also_view        asin  \\\n",
       "43884  [B00001TZYD, B00006DY18, B000K6TOK6, B00004R9I...  B00000INRB   \n",
       "40180  [B00001TZYD, B00006DY18, B000K6TOK6, B00004R9I...  B00000INRB   \n",
       "16342                                                 []  B00000ISGY   \n",
       "13218                                                 []  B00000ISGY   \n",
       "43885                                                 []  B00000JKVZ   \n",
       "...                                                  ...         ...   \n",
       "47584                                                 []  B0005IB51U   \n",
       "47587                                                 []  B0005IB5OM   \n",
       "43883                                                 []  B0005IB5OM   \n",
       "47586                                                 []  B0005IB5QA   \n",
       "43882                                                 []  B0005IB5QA   \n",
       "\n",
       "                       brand  \\\n",
       "43884  Panasonic 3DO (Games)   \n",
       "40180  Panasonic 3DO (Games)   \n",
       "16342               Toysmith   \n",
       "13218               Toysmith   \n",
       "43885                 Burger   \n",
       "...                      ...   \n",
       "47584            Pitbull Gym   \n",
       "47587            Pitbull Gym   \n",
       "43883            Pitbull Gym   \n",
       "47586            Pitbull Gym   \n",
       "43882            Pitbull Gym   \n",
       "\n",
       "                                                category  \\\n",
       "43884  [Clothing, Shoes & Jewelry, Novelty & More, Cl...   \n",
       "40180  [Clothing, Shoes & Jewelry, Novelty & More, Cl...   \n",
       "16342  [Patio, Lawn & Garden, Outdoor Dcor, Garden Sc...   \n",
       "13218  [Patio, Lawn & Garden, Outdoor Dcor, Garden Sc...   \n",
       "43885  [Clothing, Shoes & Jewelry, Novelty & More, Cl...   \n",
       "...                                                  ...   \n",
       "47584  [Clothing, Shoes & Jewelry, Novelty & More, Cl...   \n",
       "47587  [Clothing, Shoes & Jewelry, Novelty & More, Cl...   \n",
       "43883  [Clothing, Shoes & Jewelry, Novelty & More, Cl...   \n",
       "47586  [Clothing, Shoes & Jewelry, Novelty & More, Cl...   \n",
       "43882  [Clothing, Shoes & Jewelry, Novelty & More, Cl...   \n",
       "\n",
       "                                                    date  \\\n",
       "43884                                                      \n",
       "40180                                                      \n",
       "16342                                                      \n",
       "13218                                                      \n",
       "43885  <div class=\"a-fixed-left-grid a-spacing-none\">...   \n",
       "...                                                  ...   \n",
       "47584  <div class=\"a-fixed-left-grid a-spacing-none\">...   \n",
       "47587  <div class=\"a-fixed-left-grid a-spacing-none\">...   \n",
       "43883  <div class=\"a-fixed-left-grid a-spacing-none\">...   \n",
       "47586  <div class=\"a-fixed-left-grid a-spacing-none\">...   \n",
       "43882  <div class=\"a-fixed-left-grid a-spacing-none\">...   \n",
       "\n",
       "                                             description  \\\n",
       "43884  [The little plastic army men you played with a...   \n",
       "40180  [The little plastic army men you played with a...   \n",
       "16342  [Eat your heart out, Isaac Newton. Although it...   \n",
       "13218  [Eat your heart out, Isaac Newton. Although it...   \n",
       "43885  [The comfortable, easy-to-wear, soft cotton ma...   \n",
       "...                                                  ...   \n",
       "47584  [100% cotton t-shirt with the world famous ori...   \n",
       "47587  [100% cotton t-shirt with the world famous ori...   \n",
       "43883  [100% cotton t-shirt with the world famous ori...   \n",
       "47586  [100% cotton t-shirt with the world famous ori...   \n",
       "43882  [100% cotton t-shirt with the world famous ori...   \n",
       "\n",
       "                                                 feature fit  \\\n",
       "43884               [1 or 2 Players Memory card 1 block]       \n",
       "40180               [1 or 2 Players Memory card 1 block]       \n",
       "16342                                                 []       \n",
       "13218                                                 []       \n",
       "43885  [100% Cotton, Imported, Excellent quality, Com...       \n",
       "...                                                  ...  ..   \n",
       "47584  [Made in USA, MADE IN THE USA, MADE IN THE USA...       \n",
       "47587  [Made in USA, MADE IN THE USA, MADE IN THE USA...       \n",
       "43883  [Made in USA, MADE IN THE USA, MADE IN THE USA...       \n",
       "47586  [Made in USA, MADE IN THE USA, MADE IN THE USA...       \n",
       "43882  [Made in USA, MADE IN THE USA, MADE IN THE USA...       \n",
       "\n",
       "                                                   image  \\\n",
       "43884  [https://images-na.ssl-images-amazon.com/image...   \n",
       "40180  [https://images-na.ssl-images-amazon.com/image...   \n",
       "16342                                                 []   \n",
       "13218                                                 []   \n",
       "43885                                                 []   \n",
       "...                                                  ...   \n",
       "47584  [https://images-na.ssl-images-amazon.com/image...   \n",
       "47587                                                 []   \n",
       "43883                                                 []   \n",
       "47586                                                 []   \n",
       "43882                                                 []   \n",
       "\n",
       "                                                main_cat   price  \\\n",
       "43884                                        Video Games  $75.99   \n",
       "40180                                        Video Games  $75.99   \n",
       "16342                                       Toys & Games           \n",
       "13218                                       Toys & Games           \n",
       "43885                                        Movies & TV           \n",
       "...                                                  ...     ...   \n",
       "47584  <img src=\"https://images-na.ssl-images-amazon....  $23.95   \n",
       "47587  <img src=\"https://images-na.ssl-images-amazon....           \n",
       "43883  <img src=\"https://images-na.ssl-images-amazon....           \n",
       "47586  <img src=\"https://images-na.ssl-images-amazon....           \n",
       "43882  <img src=\"https://images-na.ssl-images-amazon....           \n",
       "\n",
       "                                                    rank similar_item tech1  \\\n",
       "43884  [\">#18,319 in Video Games (See Top 100 in Vide...                      \n",
       "40180  [\">#18,319 in Video Games (See Top 100 in Vide...                      \n",
       "16342  [\">#2,825,834 in Toys & Games (See Top 100 in ...                      \n",
       "13218  [\">#2,825,834 in Toys & Games (See Top 100 in ...                      \n",
       "43885                                                 []                      \n",
       "...                                                  ...          ...   ...   \n",
       "47584          21,387,280 in Clothing, Shoes & Jewelry (                      \n",
       "47587          18,352,493 in Clothing, Shoes & Jewelry (                      \n",
       "43883          18,352,493 in Clothing, Shoes & Jewelry (                      \n",
       "47586          10,838,748 in Clothing, Shoes & Jewelry (                      \n",
       "43882          10,838,748 in Clothing, Shoes & Jewelry (                      \n",
       "\n",
       "      tech2                                              title  \n",
       "43884                                              Army Men 3D  \n",
       "40180                                              Army Men 3D  \n",
       "16342                                      Rainbow Spectra-Arc  \n",
       "13218                                      Rainbow Spectra-Arc  \n",
       "43885        Naruto Shippuden Anime Funny Art Design Men's ...  \n",
       "...     ...                                                ...  \n",
       "47584                 Pitbull Gym &quot;Barbells&quot; T-Shirt  \n",
       "47587                 Pitbull Gym &quot;Barbells&quot; T-Shirt  \n",
       "43883                 Pitbull Gym &quot;Barbells&quot; T-Shirt  \n",
       "47586                 Pitbull Gym &quot;Barbells&quot; T-Shirt  \n",
       "43882                 Pitbull Gym &quot;Barbells&quot; T-Shirt  \n",
       "\n",
       "[13656 rows x 17 columns]"
      ]
     },
     "execution_count": 7,
     "metadata": {},
     "output_type": "execute_result"
    }
   ],
   "source": [
    "duplicated = df[df.duplicated(subset=\"asin\", keep=False)].sort_values(\"asin\")\n",
    "duplicated"
   ]
  },
  {
   "cell_type": "code",
   "execution_count": 13,
   "id": "4b9c08ea-f9ec-46a1-b060-326acf23e5c7",
   "metadata": {
    "tags": []
   },
   "outputs": [
    {
     "name": "stdout",
     "output_type": "stream",
     "text": [
      "Percentaje of duplicated reviews 13.66%\n"
     ]
    }
   ],
   "source": [
    "num_dup = df.duplicated(\"asin\", keep=\"first\").sum()\n",
    "print(f\"Percentaje of duplicated reviews {num_dup / len(df) * 100:.2f}%\")"
   ]
  },
  {
   "cell_type": "markdown",
   "id": "1f6ddfc2-57c3-4902-9b93-37949fe3cd7d",
   "metadata": {},
   "source": [
    "**Insights**\n",
    "- 13% of products are duplicates."
   ]
  },
  {
   "cell_type": "markdown",
   "id": "df16814c-18af-467f-ae8d-0dfa34cd9a65",
   "metadata": {
    "tags": []
   },
   "source": [
    "---"
   ]
  },
  {
   "cell_type": "code",
   "execution_count": 6,
   "id": "8b6aaba1-a13e-4804-a4ba-bad3d62c738a",
   "metadata": {
    "tags": []
   },
   "outputs": [
    {
     "data": {
      "text/plain": [
       "array([(0,), (14,), (1,), (4,), (24,), (97,), (8,), (59,), (83,), (100,),\n",
       "       (79,), (17,), (2,), (19,), (5,), (3,), (31,), (45,), (44,), (26,),\n",
       "       (99,), (16,), (89,), (30,), (23,), (81,), (6,), (92,), (12,),\n",
       "       (27,), (15,), (98,), (10,), (52,), (9,), (85,), (93,), (13,), (7,),\n",
       "       (61,), (88,), (90,), (21,), (18,), (53,), (11,), (95,), (72,),\n",
       "       (37,), (49,), (39,), (55,), (40,), (70,), (25,), (66,), (60,),\n",
       "       (96,), (48,), (91,), (94,), (35,), (58,), (28,), (63,), (47,),\n",
       "       (34,), (38,), (20,), (32,), (22,), (65,), (82,), (73,), (50,),\n",
       "       (84,), (87,), (56,), (54,), (29,), (51,), (33,), (36,), (71,),\n",
       "       (68,), (80,), (77,), (41,), (64,), (86,), (75,), (74,), (62,),\n",
       "       (46,), (67,), (57,), (42,), (78,), (76,)], dtype=object)"
      ]
     },
     "execution_count": 6,
     "metadata": {},
     "output_type": "execute_result"
    }
   ],
   "source": [
    "# shapes of the arrays in the also_buy column\n",
    "df[\"also_buy\"].map(lambda x: x.shape).unique()"
   ]
  },
  {
   "cell_type": "markdown",
   "id": "878582c9-6861-47e8-a407-6d8d5e47c872",
   "metadata": {},
   "source": [
    "**Insights**\n",
    "- `also_buy` columns are 1-dimensional numpy arrays, so they might be better represented as python lists."
   ]
  },
  {
   "cell_type": "code",
   "execution_count": 145,
   "id": "5052efbd-4304-45c7-a6c2-b99b9054a41f",
   "metadata": {
    "tags": []
   },
   "outputs": [
    {
     "name": "stdout",
     "output_type": "stream",
     "text": [
      "'also buy' len greater than 0:\n"
     ]
    },
    {
     "data": {
      "text/html": [
       "<div>\n",
       "<style scoped>\n",
       "    .dataframe tbody tr th:only-of-type {\n",
       "        vertical-align: middle;\n",
       "    }\n",
       "\n",
       "    .dataframe tbody tr th {\n",
       "        vertical-align: top;\n",
       "    }\n",
       "\n",
       "    .dataframe thead th {\n",
       "        text-align: right;\n",
       "    }\n",
       "</style>\n",
       "<table border=\"1\" class=\"dataframe\">\n",
       "  <thead>\n",
       "    <tr style=\"text-align: right;\">\n",
       "      <th></th>\n",
       "      <th>also_buy</th>\n",
       "      <th>count</th>\n",
       "    </tr>\n",
       "  </thead>\n",
       "  <tbody>\n",
       "    <tr>\n",
       "      <th>0</th>\n",
       "      <td>False</td>\n",
       "      <td>83.242</td>\n",
       "    </tr>\n",
       "    <tr>\n",
       "      <th>1</th>\n",
       "      <td>True</td>\n",
       "      <td>16.758</td>\n",
       "    </tr>\n",
       "  </tbody>\n",
       "</table>\n",
       "</div>"
      ],
      "text/plain": [
       "   also_buy   count\n",
       "0     False  83.242\n",
       "1      True  16.758"
      ]
     },
     "execution_count": 145,
     "metadata": {},
     "output_type": "execute_result"
    }
   ],
   "source": [
    "print(\"'also buy' len greater than 0:\")\n",
    "(df[\"also_buy\"].map(lambda x: len(x) > 0).value_counts() / len(df) * 100).reset_index()"
   ]
  },
  {
   "cell_type": "markdown",
   "id": "7190dae3-e8ae-4d2d-bbe3-b88f6ae77067",
   "metadata": {},
   "source": [
    "**Insight**\n",
    "- More than 85% of the products don't have `also_buy` items."
   ]
  },
  {
   "cell_type": "code",
   "execution_count": 8,
   "id": "31a59f8d-9dd7-4b34-a21b-519bee7128e2",
   "metadata": {
    "tags": []
   },
   "outputs": [
    {
     "data": {
      "text/plain": [
       "13      [B0034YXZ1A, B01HMWWLCI, B01N5KNK8I, B000BQWWU...\n",
       "23                                           [B001900XQ6]\n",
       "25       [B00T1QC5GQ, B001PL7XJE, B00GT0NSBS, B0007KP9S6]\n",
       "26      [B00171EDR2, B01M0S998Z, B0007KP9VS, B005CKPPU...\n",
       "56                                           [B008JSOR8Q]\n",
       "                              ...                        \n",
       "9939    [B00IT2SGOI, 0789496879, B002BFS9E6, B001CZ9R1...\n",
       "9940                                         [0789496879]\n",
       "9944    [B00FL1B4IU, B00ECEFR6M, B009JCWKBC, B0721N49Y...\n",
       "9954    [B01NCMH2B5, B000NMQHVQ, B00GQTYU0U, B00GQTYSK...\n",
       "9957    [B004AHLNIM, B00B2J9QWQ, B0013MTIHA, B00DEE7F1...\n",
       "Name: also_buy, Length: 1331, dtype: object"
      ]
     },
     "execution_count": 8,
     "metadata": {},
     "output_type": "execute_result"
    }
   ],
   "source": [
    "also_buy_no_null = df[\"also_buy\"].map(lambda x: x.tolist() if x.size > 0 else None).dropna()\n",
    "also_buy_no_null"
   ]
  },
  {
   "cell_type": "markdown",
   "id": "cc341fa4-9348-491c-8c27-82752b17c26d",
   "metadata": {},
   "source": [
    "---"
   ]
  },
  {
   "cell_type": "code",
   "execution_count": 136,
   "id": "b649d247-bad8-4a19-b314-5e5f9b9a39f0",
   "metadata": {
    "tags": []
   },
   "outputs": [
    {
     "data": {
      "text/plain": [
       "array([(0,), (14,), (1,), (4,), (24,), (97,), (8,), (59,), (83,), (100,),\n",
       "       (79,), (17,), (2,), (19,), (5,), (3,), (31,), (45,), (44,), (26,),\n",
       "       (99,), (16,), (89,), (30,), (23,), (81,), (6,), (92,), (12,),\n",
       "       (27,), (15,), (98,), (10,), (52,), (9,), (85,), (93,), (13,), (7,),\n",
       "       (61,), (88,), (90,), (21,), (18,), (53,), (11,), (95,), (72,),\n",
       "       (37,), (49,), (39,), (55,), (40,), (70,), (25,), (66,), (60,),\n",
       "       (96,), (48,), (91,), (94,), (35,), (58,), (28,), (63,), (47,),\n",
       "       (34,), (38,), (20,), (32,), (22,), (65,), (82,), (73,), (50,),\n",
       "       (84,), (87,), (56,), (54,), (29,), (51,), (33,), (36,), (71,),\n",
       "       (68,), (80,), (77,), (41,), (64,), (86,), (75,), (74,), (62,),\n",
       "       (46,), (67,), (57,), (42,), (78,), (76,), (69,), (43,)],\n",
       "      dtype=object)"
      ]
     },
     "execution_count": 136,
     "metadata": {},
     "output_type": "execute_result"
    }
   ],
   "source": [
    "# shapes of the arrays in the also_buy column\n",
    "df[\"also_buy\"].map(lambda x: x.shape).unique()"
   ]
  },
  {
   "cell_type": "markdown",
   "id": "c32d4a81-31d5-4a09-991d-21c4fc342f40",
   "metadata": {},
   "source": [
    "**Insights**\n",
    "- `also_buy` columns are 1-dimensional numpy arrays, so they might be better represented as python lists."
   ]
  },
  {
   "cell_type": "markdown",
   "id": "91dbd049-eff4-47fe-95bf-84d55ca0a0d1",
   "metadata": {},
   "source": [
    "---"
   ]
  },
  {
   "cell_type": "code",
   "execution_count": 9,
   "id": "07a9b4eb-34c3-4968-aea5-8d632c4738f3",
   "metadata": {
    "tags": []
   },
   "outputs": [
    {
     "data": {
      "text/html": [
       "<div>\n",
       "<style scoped>\n",
       "    .dataframe tbody tr th:only-of-type {\n",
       "        vertical-align: middle;\n",
       "    }\n",
       "\n",
       "    .dataframe tbody tr th {\n",
       "        vertical-align: top;\n",
       "    }\n",
       "\n",
       "    .dataframe thead th {\n",
       "        text-align: right;\n",
       "    }\n",
       "</style>\n",
       "<table border=\"1\" class=\"dataframe\">\n",
       "  <thead>\n",
       "    <tr style=\"text-align: right;\">\n",
       "      <th></th>\n",
       "      <th>brand</th>\n",
       "      <th>count</th>\n",
       "    </tr>\n",
       "  </thead>\n",
       "  <tbody>\n",
       "    <tr>\n",
       "      <th>0</th>\n",
       "      <td>Flagline</td>\n",
       "      <td>227</td>\n",
       "    </tr>\n",
       "    <tr>\n",
       "      <th>1</th>\n",
       "      <td>Music City Metals</td>\n",
       "      <td>192</td>\n",
       "    </tr>\n",
       "    <tr>\n",
       "      <th>2</th>\n",
       "      <td>Craftsman</td>\n",
       "      <td>184</td>\n",
       "    </tr>\n",
       "    <tr>\n",
       "      <th>3</th>\n",
       "      <td></td>\n",
       "      <td>177</td>\n",
       "    </tr>\n",
       "    <tr>\n",
       "      <th>4</th>\n",
       "      <td>Oregon</td>\n",
       "      <td>144</td>\n",
       "    </tr>\n",
       "    <tr>\n",
       "      <th>...</th>\n",
       "      <td>...</td>\n",
       "      <td>...</td>\n",
       "    </tr>\n",
       "    <tr>\n",
       "      <th>2289</th>\n",
       "      <td>Bradfield</td>\n",
       "      <td>1</td>\n",
       "    </tr>\n",
       "    <tr>\n",
       "      <th>2290</th>\n",
       "      <td>P &amp; I Gordon</td>\n",
       "      <td>1</td>\n",
       "    </tr>\n",
       "    <tr>\n",
       "      <th>2291</th>\n",
       "      <td>Iwan</td>\n",
       "      <td>1</td>\n",
       "    </tr>\n",
       "    <tr>\n",
       "      <th>2292</th>\n",
       "      <td>Korea</td>\n",
       "      <td>1</td>\n",
       "    </tr>\n",
       "    <tr>\n",
       "      <th>2293</th>\n",
       "      <td>e- auto parts wholesale</td>\n",
       "      <td>1</td>\n",
       "    </tr>\n",
       "  </tbody>\n",
       "</table>\n",
       "<p>2294 rows × 2 columns</p>\n",
       "</div>"
      ],
      "text/plain": [
       "                        brand  count\n",
       "0                    Flagline    227\n",
       "1           Music City Metals    192\n",
       "2                   Craftsman    184\n",
       "3                                177\n",
       "4                      Oregon    144\n",
       "...                       ...    ...\n",
       "2289                Bradfield      1\n",
       "2290             P & I Gordon      1\n",
       "2291                     Iwan      1\n",
       "2292                    Korea      1\n",
       "2293  e- auto parts wholesale      1\n",
       "\n",
       "[2294 rows x 2 columns]"
      ]
     },
     "execution_count": 9,
     "metadata": {},
     "output_type": "execute_result"
    }
   ],
   "source": [
    "df[\"brand\"].value_counts().reset_index()"
   ]
  },
  {
   "cell_type": "markdown",
   "id": "b9a74dec-e76c-4c42-a269-71a499dafe49",
   "metadata": {},
   "source": [
    "**Insights**\n",
    "- This counts might not be relevant as this is only a small subset of the whole dataset."
   ]
  },
  {
   "cell_type": "code",
   "execution_count": 146,
   "id": "597528b6-0ece-446b-91ab-2aa14e27bce5",
   "metadata": {
    "tags": []
   },
   "outputs": [
    {
     "name": "stdout",
     "output_type": "stream",
     "text": [
      "'also_view' len greater than 0:\n"
     ]
    },
    {
     "data": {
      "text/html": [
       "<div>\n",
       "<style scoped>\n",
       "    .dataframe tbody tr th:only-of-type {\n",
       "        vertical-align: middle;\n",
       "    }\n",
       "\n",
       "    .dataframe tbody tr th {\n",
       "        vertical-align: top;\n",
       "    }\n",
       "\n",
       "    .dataframe thead th {\n",
       "        text-align: right;\n",
       "    }\n",
       "</style>\n",
       "<table border=\"1\" class=\"dataframe\">\n",
       "  <thead>\n",
       "    <tr style=\"text-align: right;\">\n",
       "      <th></th>\n",
       "      <th>also_view</th>\n",
       "      <th>count</th>\n",
       "    </tr>\n",
       "  </thead>\n",
       "  <tbody>\n",
       "    <tr>\n",
       "      <th>0</th>\n",
       "      <td>False</td>\n",
       "      <td>72.808</td>\n",
       "    </tr>\n",
       "    <tr>\n",
       "      <th>1</th>\n",
       "      <td>True</td>\n",
       "      <td>27.192</td>\n",
       "    </tr>\n",
       "  </tbody>\n",
       "</table>\n",
       "</div>"
      ],
      "text/plain": [
       "   also_view   count\n",
       "0      False  72.808\n",
       "1       True  27.192"
      ]
     },
     "execution_count": 146,
     "metadata": {},
     "output_type": "execute_result"
    }
   ],
   "source": [
    "print(\"'also_view' len greater than 0:\")\n",
    "(df[\"also_view\"].map(lambda x: len(x) > 0).value_counts() / len(df) * 100).reset_index()"
   ]
  },
  {
   "cell_type": "markdown",
   "id": "d4115f20-8834-4dae-837d-d2e069e80509",
   "metadata": {},
   "source": [
    "---"
   ]
  },
  {
   "cell_type": "code",
   "execution_count": 16,
   "id": "33013481-56ec-4a4e-a819-3a731561c9b4",
   "metadata": {
    "tags": []
   },
   "outputs": [
    {
     "name": "stdout",
     "output_type": "stream",
     "text": [
      "Length of product categories: [(3,) (4,) (2,) (5,) (6,) (8,) (11,) (10,) (9,) (0,) (12,) (7,) (13,)\n",
      " (14,) (15,)]\n"
     ]
    }
   ],
   "source": [
    "print(\"Length of product categories:\", df[\"category\"].map(lambda x: x.shape).unique())"
   ]
  },
  {
   "cell_type": "code",
   "execution_count": 170,
   "id": "34af648e-8e44-45c9-b00e-23d446f3ec76",
   "metadata": {
    "tags": []
   },
   "outputs": [
    {
     "name": "stdout",
     "output_type": "stream",
     "text": [
      "Number of categories: 30665\n"
     ]
    }
   ],
   "source": [
    "categories = Counter()\n",
    "\n",
    "df[\"category\"].map(lambda x: categories.update(x.tolist()))\n",
    "\n",
    "print(\"Number of categories:\", len(categories))"
   ]
  },
  {
   "cell_type": "code",
   "execution_count": 172,
   "id": "fe1063ea-bb54-43ae-961f-2b5e7f970575",
   "metadata": {
    "tags": []
   },
   "outputs": [
    {
     "name": "stdout",
     "output_type": "stream",
     "text": [
      "Most common categories:\n"
     ]
    },
    {
     "data": {
      "text/plain": [
       "[('Clothing, Shoes & Jewelry', 30000),\n",
       " ('Patio, Lawn & Garden', 16836),\n",
       " ('Women', 15267),\n",
       " ('Men', 9611),\n",
       " ('Clothing', 8203),\n",
       " ('Shoes', 7237),\n",
       " ('Gardening & Lawn Care', 5512),\n",
       " ('Jewelry', 5257),\n",
       " ('Outdoor Dcor', 3864),\n",
       " ('Imported', 3559)]"
      ]
     },
     "execution_count": 172,
     "metadata": {},
     "output_type": "execute_result"
    }
   ],
   "source": [
    "print(\"Most common categories:\")\n",
    "\n",
    "categories.most_common(10)"
   ]
  },
  {
   "cell_type": "markdown",
   "id": "3258010a-7662-43e1-8f38-bbd1893199f8",
   "metadata": {},
   "source": [
    "---"
   ]
  },
  {
   "cell_type": "code",
   "execution_count": 21,
   "id": "6c1b6bd1-1f69-4b31-a0a6-28b853337774",
   "metadata": {
    "tags": []
   },
   "outputs": [
    {
     "name": "stdout",
     "output_type": "stream",
     "text": [
      "date column dtype: <class 'str'>\n"
     ]
    },
    {
     "data": {
      "text/plain": [
       "0    \n",
       "1    \n",
       "2    \n",
       "3    \n",
       "4    \n",
       "Name: date, dtype: object"
      ]
     },
     "execution_count": 21,
     "metadata": {},
     "output_type": "execute_result"
    }
   ],
   "source": [
    "print(\"date column dtype:\", type(df[\"date\"][0]))\n",
    "df[\"date\"].head()"
   ]
  },
  {
   "cell_type": "markdown",
   "id": "eadfc08b-3cff-41e8-ab52-a69754807ec1",
   "metadata": {},
   "source": [
    "**Insights**\n",
    "- Date column is completely empty"
   ]
  },
  {
   "cell_type": "code",
   "execution_count": 22,
   "id": "c399c8a1-9837-4d41-9762-992db2b93679",
   "metadata": {
    "tags": []
   },
   "outputs": [
    {
     "name": "stdout",
     "output_type": "stream",
     "text": [
      "Number of descriptions: [(1,) (2,) (3,) (8,) (7,) (0,) (11,) (5,) (4,) (9,) (10,) (12,) (6,) (13,)\n",
      " (27,) (17,) (20,) (18,) (21,) (22,) (25,) (23,) (15,) (14,) (26,) (16,)\n",
      " (19,) (29,) (24,) (28,) (32,) (30,) (35,) (33,)]\n"
     ]
    },
    {
     "data": {
      "text/plain": [
       "0        [Founded in 1882, Valley Forge Flag Company, I...\n",
       "1        [5' Brushed Aluminum pole with plastic anti-wr...\n",
       "2        [Founded in 1882, Valley Forge Flag Company, I...\n",
       "3        [3'X5' State Flag manufactured by the leader i...\n",
       "4        [30\"x50\" Nylon flag with sewn stripes embroide...\n",
       "                               ...                        \n",
       "49994    [These basic solid color suspenders are a grea...\n",
       "49995    [From its humble beginnings in 1825 in the tin...\n",
       "49996    [These basic solid color suspenders are a grea...\n",
       "49998    [.925 sterling silver Moon &amp; Star. Purple ...\n",
       "49999    [Go back to the classics with this triple-buck...\n",
       "Name: description, Length: 43098, dtype: object"
      ]
     },
     "execution_count": 22,
     "metadata": {},
     "output_type": "execute_result"
    }
   ],
   "source": [
    "print(\"Number of descriptions:\", df[\"description\"].map(lambda x: x.shape).unique())\n",
    "\n",
    "df[\"description\"].map(lambda x: x if len(x) > 0 else None).dropna()"
   ]
  },
  {
   "cell_type": "code",
   "execution_count": 14,
   "id": "73531da8-a41e-4314-a3c8-2306e5e1e98d",
   "metadata": {
    "tags": []
   },
   "outputs": [
    {
     "name": "stdout",
     "output_type": "stream",
     "text": [
      "Number of descriptions:\n"
     ]
    },
    {
     "data": {
      "text/plain": [
       "description\n",
       "1     8012\n",
       "2     1242\n",
       "0      431\n",
       "3       92\n",
       "5       55\n",
       "4       51\n",
       "6       23\n",
       "7       23\n",
       "8       19\n",
       "9       14\n",
       "13       9\n",
       "10       5\n",
       "11       4\n",
       "12       3\n",
       "17       3\n",
       "20       3\n",
       "27       2\n",
       "18       2\n",
       "25       2\n",
       "21       1\n",
       "22       1\n",
       "23       1\n",
       "15       1\n",
       "14       1\n",
       "Name: count, dtype: int64"
      ]
     },
     "execution_count": 14,
     "metadata": {},
     "output_type": "execute_result"
    }
   ],
   "source": [
    "print(\"Number of descriptions:\")\n",
    "\n",
    "df[\"description\"].dropna().map(len).value_counts()"
   ]
  },
  {
   "cell_type": "code",
   "execution_count": 31,
   "id": "9d08c464-fd6e-4604-acc9-c883f91925ab",
   "metadata": {
    "tags": []
   },
   "outputs": [
    {
     "name": "stdout",
     "output_type": "stream",
     "text": [
      "Number of descriptions: 1\n",
      "['Tech Swiss offers a full line of premium quality replacement watch bands. The strap featured is genuine Italian Calfskin leather with Crocodile grain, lightly padded, silver-tone polish finish Stainless Steel buckle, soft Nubuck leather lining and slightly tapered cut and matching stitching for durability. Watchband is available in many sizes. Tech Swiss offers a full line of watch bands in calfskin leather, crocodile, alligator, lizard, ostrich, shark and sting-ray. We carry a wide range of straps lengths in including Ladies-standard, Mens-standard, Long, Extra-Long and XX-Long. Tech Swiss only uses the highest quality of materials including superior soft Nubuck and genuine leather linings. Our construction of the bands feature reinforced stitching around the band. We offer many combinations of styles, designs and finishes in buckles that are all Nickel Free. All of our straps include stainless steel spring bars. We are confident you will not find a larger selection of leather watchstraps in colors, sizes and lengths on the market. When ordering a watch band, please refer to the provided images to determine the correct size.']\n"
     ]
    }
   ],
   "source": [
    "for _, row in df.dropna(subset=[\"description\"]).sample(1).iterrows():\n",
    "    description = row[\"description\"]\n",
    "    print(\"Number of descriptions:\", len(description))\n",
    "    print(description)"
   ]
  },
  {
   "cell_type": "markdown",
   "id": "26f25a94-4599-461a-891d-0312ff4e28ab",
   "metadata": {},
   "source": [
    "**Insights**\n",
    "- Some products don't have description.\n",
    "- Most products have one or two descriptions. But there are a few with more than 10 or 20.\n",
    "- Some are in html format and contain images"
   ]
  },
  {
   "cell_type": "code",
   "execution_count": 16,
   "id": "5c489ebb-8be1-41f3-bc2f-77ea475be105",
   "metadata": {
    "tags": []
   },
   "outputs": [
    {
     "name": "stdout",
     "output_type": "stream",
     "text": [
      "Number of features: [(5,) (2,) (10,) (0,) (1,) (3,) (6,) (4,) (12,) (8,) (7,) (9,) (37,) (22,)\n",
      " (14,) (20,) (11,) (16,) (21,) (17,) (13,) (15,) (19,) (25,) (31,) (30,)\n",
      " (32,) (18,) (39,)]\n"
     ]
    },
    {
     "data": {
      "text/plain": [
       "0       [US Navy residential flag symbolizes our count...\n",
       "1       [Sold on Amazon, <span>\\n        <a href=https...\n",
       "2       [P.O.W./M.I.A. double seal residential flag sy...\n",
       "3       [Have pride in Indiana; hang your state flag f...\n",
       "4       [Valley Forge US Heritage residential flag sym...\n",
       "                              ...                        \n",
       "9995    [\"AA\" powered Electronic swatter. Our Electron...\n",
       "9996    [Extra large fill opening prevents spills when...\n",
       "9997    [Coverage Area: 3,000 sq. ft., Sprinkler Mater...\n",
       "9998    [For use with Wood Stains, Sealers and Waterpr...\n",
       "9999    [Sprays for 10 hours (600 Minutes) on a single...\n",
       "Name: feature, Length: 8817, dtype: object"
      ]
     },
     "execution_count": 16,
     "metadata": {},
     "output_type": "execute_result"
    }
   ],
   "source": [
    "print(\"Number of features:\", df[\"feature\"].map(lambda x: x.shape).unique())\n",
    "\n",
    "df[\"feature\"].map(lambda x: x if len(x) > 0 else None).dropna()"
   ]
  },
  {
   "cell_type": "code",
   "execution_count": 17,
   "id": "64bf5096-3286-421c-95dd-f53a84227d2c",
   "metadata": {
    "tags": []
   },
   "outputs": [
    {
     "name": "stdout",
     "output_type": "stream",
     "text": [
      "Number of features\n"
     ]
    },
    {
     "data": {
      "text/plain": [
       "feature\n",
       "5     4190\n",
       "0     1183\n",
       "3     1136\n",
       "4     1012\n",
       "1      994\n",
       "2      596\n",
       "8      193\n",
       "6      169\n",
       "10     158\n",
       "7      101\n",
       "9       99\n",
       "11      48\n",
       "12      31\n",
       "13      24\n",
       "16      14\n",
       "15      13\n",
       "14      10\n",
       "18       6\n",
       "20       4\n",
       "19       4\n",
       "22       3\n",
       "21       3\n",
       "39       2\n",
       "25       2\n",
       "37       1\n",
       "17       1\n",
       "31       1\n",
       "32       1\n",
       "30       1\n",
       "Name: count, dtype: int64"
      ]
     },
     "execution_count": 17,
     "metadata": {},
     "output_type": "execute_result"
    }
   ],
   "source": [
    "print(\"Number of features\")\n",
    "\n",
    "df[\"feature\"].dropna().map(len).value_counts()"
   ]
  },
  {
   "cell_type": "code",
   "execution_count": 38,
   "id": "044e3fe9-b9c7-4e74-86b2-a97e110c5452",
   "metadata": {
    "tags": []
   },
   "outputs": [
    {
     "name": "stdout",
     "output_type": "stream",
     "text": [
      "Number of features: 3\n",
      "['Heavy bright nickel plated grates'\n",
      " '22-1/2\" for One Touch, Master-Touch & Bar-B-Kettle grills'\n",
      " 'Curved handgrips that can hang from kettle handles']\n"
     ]
    }
   ],
   "source": [
    "for _, row in df.sample(1).iterrows():\n",
    "    features = row[\"feature\"]\n",
    "    print(\"Number of features:\", len(features))\n",
    "    print(features)"
   ]
  },
  {
   "cell_type": "markdown",
   "id": "ee8c0e08-1971-49e3-ad00-274cd99d0f02",
   "metadata": {},
   "source": [
    "---"
   ]
  },
  {
   "cell_type": "code",
   "execution_count": 44,
   "id": "1dd1c726-091c-467c-bebb-b63cb59fff41",
   "metadata": {
    "tags": []
   },
   "outputs": [
    {
     "name": "stdout",
     "output_type": "stream",
     "text": [
      "'fit' column dtype: <class 'str'>\n",
      "\n"
     ]
    },
    {
     "data": {
      "text/plain": [
       "fit\n",
       "False    50000\n",
       "Name: count, dtype: int64"
      ]
     },
     "execution_count": 44,
     "metadata": {},
     "output_type": "execute_result"
    }
   ],
   "source": [
    "print(\"'fit' column dtype:\", type(df[\"fit\"][0]))\n",
    "print()\n",
    "df[\"fit\"].isnull().value_counts()"
   ]
  },
  {
   "cell_type": "markdown",
   "id": "38906331-52d7-42b0-8752-c5d8ede1aab5",
   "metadata": {},
   "source": [
    "**Insights**\n",
    "- All values from the `fit` column are missing"
   ]
  },
  {
   "cell_type": "markdown",
   "id": "7c1a99f6-926d-4a8f-962c-e573cc400398",
   "metadata": {},
   "source": [
    "---"
   ]
  },
  {
   "cell_type": "code",
   "execution_count": 45,
   "id": "a9559a70-34fd-4589-9304-9eb07a788aee",
   "metadata": {
    "tags": []
   },
   "outputs": [
    {
     "data": {
      "text/html": [
       "<div>\n",
       "<style scoped>\n",
       "    .dataframe tbody tr th:only-of-type {\n",
       "        vertical-align: middle;\n",
       "    }\n",
       "\n",
       "    .dataframe tbody tr th {\n",
       "        vertical-align: top;\n",
       "    }\n",
       "\n",
       "    .dataframe thead th {\n",
       "        text-align: right;\n",
       "    }\n",
       "</style>\n",
       "<table border=\"1\" class=\"dataframe\">\n",
       "  <thead>\n",
       "    <tr style=\"text-align: right;\">\n",
       "      <th></th>\n",
       "      <th>main_cat</th>\n",
       "      <th>count</th>\n",
       "    </tr>\n",
       "  </thead>\n",
       "  <tbody>\n",
       "    <tr>\n",
       "      <th>0</th>\n",
       "      <td>&lt;img src=\"https://images-na.ssl-images-amazon....</td>\n",
       "      <td>26365</td>\n",
       "    </tr>\n",
       "    <tr>\n",
       "      <th>1</th>\n",
       "      <td>Amazon Home</td>\n",
       "      <td>15332</td>\n",
       "    </tr>\n",
       "    <tr>\n",
       "      <th>2</th>\n",
       "      <td>Office Products</td>\n",
       "      <td>2588</td>\n",
       "    </tr>\n",
       "    <tr>\n",
       "      <th>3</th>\n",
       "      <td>Sports &amp; Outdoors</td>\n",
       "      <td>2175</td>\n",
       "    </tr>\n",
       "    <tr>\n",
       "      <th>4</th>\n",
       "      <td>Tools &amp; Home Improvement</td>\n",
       "      <td>722</td>\n",
       "    </tr>\n",
       "    <tr>\n",
       "      <th>5</th>\n",
       "      <td>Toys &amp; Games</td>\n",
       "      <td>603</td>\n",
       "    </tr>\n",
       "    <tr>\n",
       "      <th>6</th>\n",
       "      <td>Pet Supplies</td>\n",
       "      <td>328</td>\n",
       "    </tr>\n",
       "    <tr>\n",
       "      <th>7</th>\n",
       "      <td>Automotive</td>\n",
       "      <td>295</td>\n",
       "    </tr>\n",
       "    <tr>\n",
       "      <th>8</th>\n",
       "      <td>&lt;img src=\"https://m.media-amazon.com/images/G/...</td>\n",
       "      <td>254</td>\n",
       "    </tr>\n",
       "    <tr>\n",
       "      <th>9</th>\n",
       "      <td>Health &amp; Personal Care</td>\n",
       "      <td>203</td>\n",
       "    </tr>\n",
       "    <tr>\n",
       "      <th>10</th>\n",
       "      <td></td>\n",
       "      <td>197</td>\n",
       "    </tr>\n",
       "    <tr>\n",
       "      <th>11</th>\n",
       "      <td>Industrial &amp; Scientific</td>\n",
       "      <td>195</td>\n",
       "    </tr>\n",
       "    <tr>\n",
       "      <th>12</th>\n",
       "      <td>Baby</td>\n",
       "      <td>118</td>\n",
       "    </tr>\n",
       "    <tr>\n",
       "      <th>13</th>\n",
       "      <td>Arts, Crafts &amp; Sewing</td>\n",
       "      <td>109</td>\n",
       "    </tr>\n",
       "    <tr>\n",
       "      <th>14</th>\n",
       "      <td>All Beauty</td>\n",
       "      <td>103</td>\n",
       "    </tr>\n",
       "    <tr>\n",
       "      <th>15</th>\n",
       "      <td>All Electronics</td>\n",
       "      <td>103</td>\n",
       "    </tr>\n",
       "    <tr>\n",
       "      <th>16</th>\n",
       "      <td>Grocery</td>\n",
       "      <td>75</td>\n",
       "    </tr>\n",
       "    <tr>\n",
       "      <th>17</th>\n",
       "      <td>Computers</td>\n",
       "      <td>72</td>\n",
       "    </tr>\n",
       "    <tr>\n",
       "      <th>18</th>\n",
       "      <td>Books</td>\n",
       "      <td>34</td>\n",
       "    </tr>\n",
       "    <tr>\n",
       "      <th>19</th>\n",
       "      <td>Home Audio &amp; Theater</td>\n",
       "      <td>32</td>\n",
       "    </tr>\n",
       "    <tr>\n",
       "      <th>20</th>\n",
       "      <td>&lt;img src=\"https://images-na.ssl-images-amazon....</td>\n",
       "      <td>21</td>\n",
       "    </tr>\n",
       "    <tr>\n",
       "      <th>21</th>\n",
       "      <td>Cell Phones &amp; Accessories</td>\n",
       "      <td>18</td>\n",
       "    </tr>\n",
       "    <tr>\n",
       "      <th>22</th>\n",
       "      <td>Musical Instruments</td>\n",
       "      <td>17</td>\n",
       "    </tr>\n",
       "    <tr>\n",
       "      <th>23</th>\n",
       "      <td>Video Games</td>\n",
       "      <td>16</td>\n",
       "    </tr>\n",
       "    <tr>\n",
       "      <th>24</th>\n",
       "      <td>Movies &amp; TV</td>\n",
       "      <td>9</td>\n",
       "    </tr>\n",
       "    <tr>\n",
       "      <th>25</th>\n",
       "      <td>Camera &amp; Photo</td>\n",
       "      <td>8</td>\n",
       "    </tr>\n",
       "    <tr>\n",
       "      <th>26</th>\n",
       "      <td>Amazon Devices</td>\n",
       "      <td>4</td>\n",
       "    </tr>\n",
       "    <tr>\n",
       "      <th>27</th>\n",
       "      <td>Portable Audio &amp; Accessories</td>\n",
       "      <td>2</td>\n",
       "    </tr>\n",
       "    <tr>\n",
       "      <th>28</th>\n",
       "      <td>Appliances</td>\n",
       "      <td>1</td>\n",
       "    </tr>\n",
       "    <tr>\n",
       "      <th>29</th>\n",
       "      <td>Car Electronics</td>\n",
       "      <td>1</td>\n",
       "    </tr>\n",
       "  </tbody>\n",
       "</table>\n",
       "</div>"
      ],
      "text/plain": [
       "                                             main_cat  count\n",
       "0   <img src=\"https://images-na.ssl-images-amazon....  26365\n",
       "1                                         Amazon Home  15332\n",
       "2                                     Office Products   2588\n",
       "3                                   Sports & Outdoors   2175\n",
       "4                            Tools & Home Improvement    722\n",
       "5                                        Toys & Games    603\n",
       "6                                        Pet Supplies    328\n",
       "7                                          Automotive    295\n",
       "8   <img src=\"https://m.media-amazon.com/images/G/...    254\n",
       "9                              Health & Personal Care    203\n",
       "10                                                       197\n",
       "11                            Industrial & Scientific    195\n",
       "12                                               Baby    118\n",
       "13                              Arts, Crafts & Sewing    109\n",
       "14                                         All Beauty    103\n",
       "15                                    All Electronics    103\n",
       "16                                            Grocery     75\n",
       "17                                          Computers     72\n",
       "18                                              Books     34\n",
       "19                               Home Audio & Theater     32\n",
       "20  <img src=\"https://images-na.ssl-images-amazon....     21\n",
       "21                          Cell Phones & Accessories     18\n",
       "22                                Musical Instruments     17\n",
       "23                                        Video Games     16\n",
       "24                                        Movies & TV      9\n",
       "25                                     Camera & Photo      8\n",
       "26                                     Amazon Devices      4\n",
       "27                       Portable Audio & Accessories      2\n",
       "28                                         Appliances      1\n",
       "29                                    Car Electronics      1"
      ]
     },
     "execution_count": 45,
     "metadata": {},
     "output_type": "execute_result"
    }
   ],
   "source": [
    "df[\"main_cat\"].value_counts().reset_index()"
   ]
  },
  {
   "cell_type": "markdown",
   "id": "5c8bb0a8-3621-4407-a610-d9c400c8b3ae",
   "metadata": {},
   "source": [
    "---"
   ]
  },
  {
   "cell_type": "code",
   "execution_count": 21,
   "id": "f0e44061-52d3-413c-9f6a-2b2d1d63c99e",
   "metadata": {
    "tags": []
   },
   "outputs": [
    {
     "name": "stdout",
     "output_type": "stream",
     "text": [
      "tech1\n",
      "False    10000\n",
      "Name: count, dtype: int64\n",
      "tech2\n",
      "False    10000\n",
      "Name: count, dtype: int64\n"
     ]
    }
   ],
   "source": [
    "print(df[\"tech1\"].isnull().value_counts())\n",
    "\n",
    "print(df[\"tech2\"].isnull().value_counts())"
   ]
  },
  {
   "cell_type": "markdown",
   "id": "39ff6089-1fb2-4fa3-a8d7-dd34662f9f59",
   "metadata": {},
   "source": [
    "**Insights**\n",
    "- `tech1` and `tech2` are completely empty."
   ]
  },
  {
   "cell_type": "code",
   "execution_count": 46,
   "id": "076eeceb-f4ee-48c5-813f-db5c8167f6be",
   "metadata": {
    "tags": []
   },
   "outputs": [
    {
     "data": {
      "text/plain": [
       "0        Valley Forge, US Navy Flag, Nylon, 3' x 5', 10...\n",
       "1        Valley Forge, American Flag Pole, Brushed Alum...\n",
       "2        Valley Forge, POW-MIA, Nylon, 3'x5', 100% Made...\n",
       "3        Valley Forge, Indiana State Flag, Nylon, 3' x ...\n",
       "4        Valley Forge 30-Inch x 50-Inch Nylon Flag With...\n",
       "                               ...                        \n",
       "49995                  CLARKS Women's Amelia Open-Toe Mule\n",
       "49996    CTM Men's Elastic X-Back Suspenders with Brass...\n",
       "49997    White Basic Elastic Suspender with Silver Fini...\n",
       "49998            Nipple Ring with sterling moon &amp; star\n",
       "49999             CLARKS Women's Sunbeat Adjustable Sandal\n",
       "Name: title, Length: 50000, dtype: object"
      ]
     },
     "execution_count": 46,
     "metadata": {},
     "output_type": "execute_result"
    }
   ],
   "source": [
    "df[\"title\"]"
   ]
  },
  {
   "cell_type": "markdown",
   "id": "0891b445-4311-4820-a695-131c8a42b0ad",
   "metadata": {},
   "source": [
    "---"
   ]
  },
  {
   "cell_type": "code",
   "execution_count": 54,
   "id": "6eff5b34-fd5d-43b6-9326-b43b4533f451",
   "metadata": {
    "tags": []
   },
   "outputs": [
    {
     "data": {
      "text/plain": [
       "21043    1,000,285 in Clothing, Shoes & Jewelry (\n",
       "8607                  1,000,427 in Pet Supplies (\n",
       "26327    1,001,340 in Clothing, Shoes & Jewelry (\n",
       "47742    1,001,438 in Clothing, Shoes & Jewelry (\n",
       "28948            1,001,465 in Sports & Outdoors (\n",
       "                           ...                   \n",
       "32277                                          []\n",
       "11231                                          []\n",
       "32241                                          []\n",
       "47444                                          []\n",
       "47325                                          []\n",
       "Name: rank, Length: 50000, dtype: object"
      ]
     },
     "execution_count": 54,
     "metadata": {},
     "output_type": "execute_result"
    }
   ],
   "source": [
    "df[\"rank\"].sort_values()"
   ]
  },
  {
   "cell_type": "code",
   "execution_count": 197,
   "id": "d8eb000e-da65-4f91-a2cf-6c6fe3aa5ca5",
   "metadata": {
    "tags": []
   },
   "outputs": [
    {
     "name": "stdout",
     "output_type": "stream",
     "text": [
      "RANK         : 3,562,841 in Sports & Outdoors (\n",
      "MAIN CATEGORY: Sports & Outdoors\n",
      "CATEGORIES   : ['Clothing, Shoes & Jewelry', 'Women', 'Shoes', 'Boots']\n",
      "\n",
      "\n",
      "\n",
      "RANK         : [\">#70,431 in Patio, Lawn & Garden (See Top 100 in Patio, Lawn & Garden)\",\">#134 in Patio, Lawn & Garden > Pools, Hot Tubs & Supplies > Heaters & Accessories\"]\n",
      "MAIN CATEGORY: Amazon Home\n",
      "CATEGORIES   : ['Patio, Lawn & Garden', 'Pools, Hot Tubs & Supplies', 'Heaters & Accessories']\n",
      "\n",
      "\n",
      "\n",
      "RANK         : 406,429 in Clothing, Shoes & Jewelry (\n",
      "MAIN CATEGORY: Clothing, Shoes & Jewelry\n",
      "CATEGORIES   : ['Clothing, Shoes & Jewelry', 'Women', 'Accessories', 'Wallets, Card Cases & Money Organizers']\n",
      "\n",
      "\n",
      "\n"
     ]
    }
   ],
   "source": [
    "for _, row in df.sample(3).iterrows():\n",
    "    rank = row[\"rank\"]\n",
    "    main_cat = row[\"main_cat\"]\n",
    "    if (\n",
    "        main_cat\n",
    "        == '<img src=\"https://images-na.ssl-images-amazon.com/images/G/01/nav2/images/gui/amazon-fashion-store-new._CB520838675_.png\" class=\"nav-categ-image\" alt=\"AMAZON FASHION\"/>'\n",
    "    ):\n",
    "        main_cat = \"Clothing, Shoes & Jewelry\"\n",
    "    categories = row[\"category\"]\n",
    "    print(\"RANK         :\", rank)\n",
    "    print(\"MAIN CATEGORY:\", main_cat)\n",
    "    print(\"CATEGORIES   :\", categories.tolist()[:4])\n",
    "    print(\"\\n\\n\")"
   ]
  },
  {
   "cell_type": "markdown",
   "id": "c6dc04ba-7e7f-42ff-bce5-a90ddd3951fa",
   "metadata": {},
   "source": [
    "**Insights**\n",
    "- Rank column contains selling ranking of the product inside different categories.\n",
    "- Rank column comes in string format so there needs to be some preprocessing.\n",
    "- The mentioned categories in the rankings seem to match with the 'main_cat'(Main Category) and 'category'(Secondary Categories) of the products."
   ]
  },
  {
   "cell_type": "markdown",
   "id": "fa128bbd-1d3c-4158-afd0-dc94100ec8d9",
   "metadata": {},
   "source": [
    "---"
   ]
  },
  {
   "cell_type": "code",
   "execution_count": 135,
   "id": "165644ec-82e6-4d9d-9aed-ae9044fcb8f8",
   "metadata": {
    "tags": []
   },
   "outputs": [
    {
     "name": "stdout",
     "output_type": "stream",
     "text": [
      "'similar_item' column dtype: <class 'str'>\n"
     ]
    },
    {
     "data": {
      "text/plain": [
       "similar_item\n",
       "0        41080\n",
       "32566        9\n",
       "32810        8\n",
       "22843        8\n",
       "22246        7\n",
       "         ...  \n",
       "31526        1\n",
       "31628        1\n",
       "33477        1\n",
       "31570        1\n",
       "33304        1\n",
       "Name: count, Length: 5773, dtype: int64"
      ]
     },
     "execution_count": 135,
     "metadata": {},
     "output_type": "execute_result"
    }
   ],
   "source": [
    "print(\"'similar_item' column dtype:\", type(df[\"similar_item\"][0]))\n",
    "\n",
    "df[\"similar_item\"].map(len).value_counts()"
   ]
  },
  {
   "cell_type": "code",
   "execution_count": 77,
   "id": "156b78f5-68b9-4977-94d3-e654749c7cdc",
   "metadata": {
    "tags": []
   },
   "outputs": [
    {
     "data": {
      "text/html": [
       " class=\"a-bordered a-horizontal-stripes  a-spacing-extra-large a-size-base comparison_table\">\n",
       "\n",
       "\n",
       "\n",
       "            \n",
       "            \n",
       "            \n",
       "            \n",
       "            \n",
       "            <tr class=\"comparison_table_image_row\">\n",
       "                <td class=\"comparison_table_first_col\"></td>\n",
       "\n",
       "\n",
       "                <th class=\"comparison_image_title_cell\" role=\"columnheader\">\n",
       "                    <div class=\"a-row a-spacing-top-micro\">\n",
       "                        <center>\n",
       "                             <img alt=\"Medina Growin Green Granular Organic Fertilizer 4-2-3 3000 Sq. Ft. Granules 40 Lb.\" src=\"https://images-na.ssl-images-amazon.com/images/I/31tnrVTuCkL._SL500_AC_SS350_.jpg\" id=\"comparison_image\">\n",
       "                        </center>\n",
       "                    </div>\n",
       "                    <div class=\"a-row a-spacing-top-small\">\n",
       "                        <div id=\"comparison_title\" class=\"a-section a-spacing-none\">\n",
       "                            <span aria-hidden=\"true\" class=\"a-size-base a-color-base a-text-bold\">\n",
       "                                This item\n",
       "                            </span>\n",
       "                            <span aria-hidden=\"true\" class=\"a-size-base a-color-base\">Medina Growin Green Granular Organic Fertilizer 4-2-3 3000 Sq. Ft. Granules 40 Lb.</span>\n",
       "                        </div>\n",
       "                        \n",
       "                        \n",
       "                    </div>\n",
       "                </th>\n",
       "\n",
       "\n",
       "                \n",
       "                    <th class=\"comparison_image_title_cell comparable_item0\" role=\"columnheader\">\n",
       "                        <a class=\"a-link-normal\" target=\"_self\" rel=\"noopener\" href=\"/dp/B011HXVAOS/ref=psdc_3752891_t1_B000IMNFUM\">\n",
       "                          <div class=\"a-row a-spacing-top-micro\">\n",
       "                            <center>\n",
       "                                <img alt=\"\" src=\"https://images-na.ssl-images-amazon.com/images/I/518rfYiPR%2BL._SL500_AC_SS350_.jpg\" aria-hidden=\"true\" id=\"comparison_image0\">\n",
       "                            </center>\n",
       "                          </div>\n",
       "                          <div id=\"comparison_title0\" class=\"a-row a-spacing-top-small\">\n",
       "                            <span class=\"a-size-base\">Espoma GM25 Organic 3-2-3 Chicken Manure, 25 lb</span>\n",
       "                          </div>\n",
       "                        </a>\n",
       "                        \n",
       "                        \n",
       "                    </th>\n",
       "                \n",
       "                    <th class=\"comparison_image_title_cell comparable_item1\" role=\"columnheader\">\n",
       "                        <a class=\"a-link-normal\" target=\"_self\" rel=\"noopener\" href=\"/dp/B000OM82J0/ref=psdc_3752891_t2_B000IMNFUM\">\n",
       "                          <div class=\"a-row a-spacing-top-micro\">\n",
       "                            <center>\n",
       "                                <img alt=\"\" src=\"https://images-na.ssl-images-amazon.com/images/I/51kadAV8vdL._SL500_AC_SS350_.jpg\" aria-hidden=\"true\" id=\"comparison_image1\">\n",
       "                            </center>\n",
       "                          </div>\n",
       "                          <div id=\"comparison_title1\" class=\"a-row a-spacing-top-small\">\n",
       "                            <span class=\"a-size-base\">SUPERthrive VI30148 Plant Vitamin Solution, 4 Ounce - 00014</span>\n",
       "                          </div>\n",
       "                        </a>\n",
       "                        \n",
       "                        \n",
       "                    </th>\n",
       "                \n",
       "                    <th class=\"comparison_image_title_cell comparable_item2\" role=\"columnheader\">\n",
       "                        <a class=\"a-link-normal\" target=\"_self\" rel=\"noopener\" href=\"/dp/B00V4RI88Y/ref=psdc_3752891_t3_B000IMNFUM\">\n",
       "                          <div class=\"a-row a-spacing-top-micro\">\n",
       "                            <center>\n",
       "                                <img alt=\"\" src=\"https://images-na.ssl-images-amazon.com/images/I/51ozCDswdML._SL500_AC_SS350_.jpg\" aria-hidden=\"true\" id=\"comparison_image2\">\n",
       "                            </center>\n",
       "                          </div>\n",
       "                          <div id=\"comparison_title2\" class=\"a-row a-spacing-top-small\">\n",
       "                            <span class=\"a-size-base\">Unco Industries WWSB30LB Builder Worm Castings, 30 lb. Compost, Soil, 30-Pound</span>\n",
       "                          </div>\n",
       "                        </a>\n",
       "                        \n",
       "                        \n",
       "                    </th>\n",
       "                \n",
       "                    <th class=\"comparison_image_title_cell comparable_item3\" role=\"columnheader\">\n",
       "                        <a class=\"a-link-normal\" target=\"_self\" rel=\"noopener\" href=\"/dp/B00GBVCJ1U/ref=psdc_3752891_t4_B000IMNFUM\">\n",
       "                          <div class=\"a-row a-spacing-top-micro\">\n",
       "                            <center>\n",
       "                                <img alt=\"\" src=\"https://images-na.ssl-images-amazon.com/images/I/515TK6Q-kxL._SL500_AC_SS350_.jpg\" aria-hidden=\"true\" id=\"comparison_image3\">\n",
       "                            </center>\n",
       "                          </div>\n",
       "                          <div id=\"comparison_title3\" class=\"a-row a-spacing-top-small\">\n",
       "                            <span class=\"a-size-base\">Safer Brand Ringer Lawn Restore, Lawn Fertilizer - 25 Pounds</span>\n",
       "                          </div>\n",
       "                        </a>\n",
       "                        \n",
       "                        \n",
       "                    </th>\n",
       "                \n",
       "                    <th class=\"comparison_image_title_cell comparable_item4\" role=\"columnheader\">\n",
       "                        <a class=\"a-link-normal\" target=\"_self\" rel=\"noopener\" href=\"/dp/B000VYOQQ4/ref=psdc_3752891_t5_B000IMNFUM\">\n",
       "                          <div class=\"a-row a-spacing-top-micro\">\n",
       "                            <center>\n",
       "                                <img alt=\"\" src=\"https://images-na.ssl-images-amazon.com/images/I/519-z50FKkL._SL500_AC_SS350_.jpg\" aria-hidden=\"true\" id=\"comparison_image4\">\n",
       "                            </center>\n",
       "                          </div>\n",
       "                          <div id=\"comparison_title4\" class=\"a-row a-spacing-top-small\">\n",
       "                            <span class=\"a-size-base\">Dr. Earth Super Natural Lawn 9-0-5 Fertilizer, 18 lb</span>\n",
       "                          </div>\n",
       "                        </a>\n",
       "                        \n",
       "                        \n",
       "                    </th>\n",
       "                \n",
       "            </tr>\n",
       "\n",
       "\n",
       "            <tr></tr>\n",
       "\n",
       "\n",
       "            \n",
       "            \n",
       "            <tr>\n",
       "                <td class=\"comparison_table_first_col\"></td>\n",
       "\n",
       "\n",
       "                <td class=\"comparison_add_to_cart_button\">\n",
       "                    \n",
       "                        \n",
       "                        \n",
       "                        \n",
       "                            <span id=\"comparison_add_to_cart_button\" class=\"a-button a-spacing-small a-button-primary\"><span class=\"a-button-inner\"><a id=\"comparison_add_to_cart_button-announce\" href=\"/gp/item-dispatch/ref=psdc_3752891_a0_B000IMNFUM?ie=UTF8&amp;itemCount=1&amp;nodeID=2972638011&amp;offeringID.1=ya75oxjuPWgYzzjvdkM1EFsRZePhXRJu2T1SJrWXoK9JNPvbUxm7EYypGm1aJ6Qnbz0FGUgZTDCMWnvTFI%252BMWHeN0EVqDb3pwNkCaK3uuZvGK1GskzeDF23F7ZcK5V9IpJ6L16ZFhPSDsFrwWT%252FB6poeU51u9ivV&amp;storeID=lawn-garden&amp;session-id=131-8740933-1075628&amp;submit.addToCart=addToCart&amp;signInToHUC=0\" class=\"a-button-text\" role=\"button\">Add to Cart</a></span></span>\n",
       "                        \n",
       "                    \n",
       "                </td>\n",
       "\n",
       "\n",
       "                \n",
       "                    <td class=\"a-text-left comparison_add_to_cart_button comparable_item0\">\n",
       "                        \n",
       "                            \n",
       "                            \n",
       "                                <span id=\"comparison_add_to_cart_button0\" class=\"a-button a-spacing-small a-button-primary\"><span class=\"a-button-inner\"><a id=\"comparison_add_to_cart_button0-announce\" href=\"/gp/item-dispatch/ref=psdc_3752891_a1_B000IMNFUM?ie=UTF8&amp;itemCount=1&amp;nodeID=2972638011&amp;offeringID.1=ya75oxjuPWigyrRkSZGzEQk2EUITuXEPiVvuNKSjQ2DAjlUz8ZbBY%252B1Vavj39uzzr7vlWYgei06n%252BKddP3yiX4VWKNInc%252FBKRxqHtxbtN5pHGxUOWBBgpeGG3IsWnD8%252BRVI6MsBmanasc%252FDnQ%252B2kKxuzH2bJQ73c&amp;storeID=lawn-garden&amp;session-id=131-8740933-1075628&amp;submit.addToCart=addToCart&amp;signInToHUC=0\" class=\"a-button-text\" role=\"button\">Add to Cart</a></span></span>\n",
       "                            \n",
       "                        \n",
       "                    </td>\n",
       "                \n",
       "                    <td class=\"a-text-left comparison_add_to_cart_button comparable_item1\">\n",
       "                        \n",
       "                            \n",
       "                            \n",
       "                                <span id=\"comparison_add_to_cart_button1\" class=\"a-button a-spacing-small a-button-primary\"><span class=\"a-button-inner\"><a id=\"comparison_add_to_cart_button1-announce\" href=\"/gp/item-dispatch/ref=psdc_3752891_a2_B000IMNFUM?ie=UTF8&amp;itemCount=1&amp;nodeID=2972638011&amp;offeringID.1=CVYh6PRf62lHp4wwEloYeRzQEl0akNvms9OYAUYBjZGeHsDNKaRH7mEPEnKfOz7CnE0TDpWuwQ7xOaQWF5a%252B4pAxH9RdbWomMMqe%252F%252Fen%252BbMcb1v2S%252F0ojA%253D%253D&amp;storeID=lawn-garden&amp;session-id=131-8740933-1075628&amp;submit.addToCart=addToCart&amp;signInToHUC=0\" class=\"a-button-text\" role=\"button\">Add to Cart</a></span></span>\n",
       "                            \n",
       "                        \n",
       "                    </td>\n",
       "                \n",
       "                    <td class=\"a-text-left comparison_add_to_cart_button comparable_item2\">\n",
       "                        \n",
       "                            \n",
       "                            \n",
       "                                <span id=\"comparison_add_to_cart_button2\" class=\"a-button a-spacing-small a-button-primary\"><span class=\"a-button-inner\"><a id=\"comparison_add_to_cart_button2-announce\" href=\"/gp/item-dispatch/ref=psdc_3752891_a3_B000IMNFUM?ie=UTF8&amp;itemCount=1&amp;nodeID=2972638011&amp;offeringID.1=VsEcSjeE%252FfeqapXIoocPemDUAnWszVGPUuIfCt8mrKGZmzv8%252B1J0hHAYBHql%252F3bo5Jv1L%252B2viWRn0BMpbre24gzh7YODYB1%252BC2lwQSJUKu79I5L1RT1H5g%253D%253D&amp;storeID=lawn-garden&amp;session-id=131-8740933-1075628&amp;submit.addToCart=addToCart&amp;signInToHUC=0\" class=\"a-button-text\" role=\"button\">Add to Cart</a></span></span>\n",
       "                            \n",
       "                        \n",
       "                    </td>\n",
       "                \n",
       "                    <td class=\"a-text-left comparison_add_to_cart_button comparable_item3\">\n",
       "                        \n",
       "                            \n",
       "                            \n",
       "                                <span id=\"comparison_add_to_cart_button3\" class=\"a-button a-spacing-small a-button-primary\"><span class=\"a-button-inner\"><a id=\"comparison_add_to_cart_button3-announce\" href=\"/gp/item-dispatch/ref=psdc_3752891_a4_B000IMNFUM?ie=UTF8&amp;itemCount=1&amp;nodeID=2972638011&amp;offeringID.1=3FDNLS6gxzKOye7%252F2oURJAKTJlxr%252BGFm%252F9hI%252FIHfHeaab%252BlM2ijC4gPjk28qOXM7PH8DiHC9%252FPQPkkRInZQpjCfAGBRTZK%252FGmIVohjX9Z%252FSwLmPNezF6IA%253D%253D&amp;storeID=lawn-garden&amp;session-id=131-8740933-1075628&amp;submit.addToCart=addToCart&amp;signInToHUC=0\" class=\"a-button-text\" role=\"button\">Add to Cart</a></span></span>\n",
       "                            \n",
       "                        \n",
       "                    </td>\n",
       "                \n",
       "                    <td class=\"a-text-left comparison_add_to_cart_button comparable_item4\">\n",
       "                        \n",
       "                            \n",
       "                            \n",
       "                                <span id=\"comparison_add_to_cart_button4\" class=\"a-button a-spacing-small a-button-primary\"><span class=\"a-button-inner\"><a id=\"comparison_add_to_cart_button4-announce\" href=\"/gp/item-dispatch/ref=psdc_3752891_a5_B000IMNFUM?ie=UTF8&amp;itemCount=1&amp;nodeID=2972638011&amp;offeringID.1=3FDNLS6gxzKOye7%252F2oURJPgoAjNiPgwVC9t2GZH1tzuLddY79EgofEDOH%252BHx5y3BHm5Qvu0vc2GVSfp%252BmWv%252F0QKlOY48I0gycb%252FVMo9cqSa4lIpGkbO%252FxQ%253D%253D&amp;storeID=lawn-garden&amp;session-id=131-8740933-1075628&amp;submit.addToCart=addToCart&amp;signInToHUC=0\" class=\"a-button-text\" role=\"button\">Add to Cart</a></span></span>\n",
       "                            \n",
       "                        \n",
       "                    </td>\n",
       "                \n",
       "            </tr>\n",
       "\n",
       "\n",
       "            <tr id=\"comparison_custormer_rating_row\">\n",
       "                \n",
       "                \n",
       "                \n",
       "                \n",
       "\n",
       "                <th class=\"comparison_attribute_name_column comparison_table_first_col\" role=\"rowheader\">\n",
       "                    <span class=\"a-size-base a-color-base\">Customer Rating</span>\n",
       "                </th>\n",
       "\n",
       "\n",
       "                <td class=\"comparison_baseitem_column\">\n",
       "                    \n",
       "                    \n",
       "                    \n",
       "                    <span>\n",
       "                        <span class=\"a-declarative\" data-action=\"a-popover\" data-a-popover=\"{&quot;max-width&quot;:&quot;700&quot;,&quot;closeButton&quot;:&quot;false&quot;,&quot;position&quot;:&quot;triggerBottom&quot;,&quot;url&quot;:&quot; /gp/customer-reviews/widgets/average-customer-review/popover/ref=acr_dpComparsion__popover?contextId=dpComparsion&amp;asin=B000IMNFUM &quot;,&quot;restoreFocusOnHide&quot;:&quot;false&quot;}\">\n",
       "                            <i class=\"a-icon a-icon-star a-star-5 a-spacing-none\"><span class=\"a-icon-alt\">5 out of 5 stars</span></i>\n",
       "                        </span>\n",
       "                        <a class=\"a-link-normal\" target=\"_self\" rel=\"noopener\" href=\"/product-reviews/B000IMNFUM/ref=psdc_3752891_r0_B000IMNFUM?_encoding=UTF8&amp;showViewpoints=1\">(2)</a>\n",
       "                        <span class=\"a-letter-space\"></span>\n",
       "                    </span>\n",
       "                </td>\n",
       "\n",
       "\n",
       "                \n",
       "                    <td class=\"comparison_sim_items_column comparable_item0\">\n",
       "                        \n",
       "                        \n",
       "                        \n",
       "                        <span>\n",
       "                            <span class=\"a-declarative\" data-action=\"a-popover\" data-a-popover=\"{&quot;max-width&quot;:&quot;700&quot;,&quot;closeButton&quot;:&quot;false&quot;,&quot;position&quot;:&quot;triggerBottom&quot;,&quot;url&quot;:&quot; /gp/customer-reviews/widgets/average-customer-review/popover/ref=acr_dpComparsion__popover?contextId=dpComparsion&amp;asin=B011HXVAOS &quot;,&quot;restoreFocusOnHide&quot;:&quot;false&quot;}\">\n",
       "                                <i class=\"a-icon a-icon-star a-star-4-5 a-spacing-none\"><span class=\"a-icon-alt\">4 out of 5 stars</span></i>\n",
       "                            </span>\n",
       "                            <a class=\"a-link-normal\" target=\"_self\" rel=\"noopener\" href=\"/product-reviews/B011HXVAOS/ref=psdc_3752891_r1_B000IMNFUM?_encoding=UTF8&amp;showViewpoints=1\">(29)</a>\n",
       "                            <span class=\"a-letter-space\"></span>\n",
       "                        </span>\n",
       "                    </td>\n",
       "                \n",
       "                    <td class=\"comparison_sim_items_column comparable_item1\">\n",
       "                        \n",
       "                        \n",
       "                        \n",
       "                        <span>\n",
       "                            <span class=\"a-declarative\" data-action=\"a-popover\" data-a-popover=\"{&quot;max-width&quot;:&quot;700&quot;,&quot;closeButton&quot;:&quot;false&quot;,&quot;position&quot;:&quot;triggerBottom&quot;,&quot;url&quot;:&quot; /gp/customer-reviews/widgets/average-customer-review/popover/ref=acr_dpComparsion__popover?contextId=dpComparsion&amp;asin=B000OM82J0 &quot;,&quot;restoreFocusOnHide&quot;:&quot;false&quot;}\">\n",
       "                                <i class=\"a-icon a-icon-star a-star-4-5 a-spacing-none\"><span class=\"a-icon-alt\">4 out of 5 stars</span></i>\n",
       "                            </span>\n",
       "                            <a class=\"a-link-normal\" target=\"_self\" rel=\"noopener\" href=\"/product-reviews/B000OM82J0/ref=psdc_3752891_r2_B000IMNFUM?_encoding=UTF8&amp;showViewpoints=1\">(877)</a>\n",
       "                            <span class=\"a-letter-space\"></span>\n",
       "                        </span>\n",
       "                    </td>\n",
       "                \n",
       "                    <td class=\"comparison_sim_items_column comparable_item2\">\n",
       "                        \n",
       "                        \n",
       "                        \n",
       "                        <span>\n",
       "                            <span class=\"a-declarative\" data-action=\"a-popover\" data-a-popover=\"{&quot;max-width&quot;:&quot;700&quot;,&quot;closeButton&quot;:&quot;false&quot;,&quot;position&quot;:&quot;triggerBottom&quot;,&quot;url&quot;:&quot; /gp/customer-reviews/widgets/average-customer-review/popover/ref=acr_dpComparsion__popover?contextId=dpComparsion&amp;asin=B00V4RI88Y &quot;,&quot;restoreFocusOnHide&quot;:&quot;false&quot;}\">\n",
       "                                <i class=\"a-icon a-icon-star a-star-4-5 a-spacing-none\"><span class=\"a-icon-alt\">4 out of 5 stars</span></i>\n",
       "                            </span>\n",
       "                            <a class=\"a-link-normal\" target=\"_self\" rel=\"noopener\" href=\"/product-reviews/B00V4RI88Y/ref=psdc_3752891_r3_B000IMNFUM?_encoding=UTF8&amp;showViewpoints=1\">(1227)</a>\n",
       "                            <span class=\"a-letter-space\"></span>\n",
       "                        </span>\n",
       "                    </td>\n",
       "                \n",
       "                    <td class=\"comparison_sim_items_column comparable_item3\">\n",
       "                        \n",
       "                        \n",
       "                        \n",
       "                        <span>\n",
       "                            <span class=\"a-declarative\" data-action=\"a-popover\" data-a-popover=\"{&quot;max-width&quot;:&quot;700&quot;,&quot;closeButton&quot;:&quot;false&quot;,&quot;position&quot;:&quot;triggerBottom&quot;,&quot;url&quot;:&quot; /gp/customer-reviews/widgets/average-customer-review/popover/ref=acr_dpComparsion__popover?contextId=dpComparsion&amp;asin=B00GBVCJ1U &quot;,&quot;restoreFocusOnHide&quot;:&quot;false&quot;}\">\n",
       "                                <i class=\"a-icon a-icon-star a-star-4 a-spacing-none\"><span class=\"a-icon-alt\">4 out of 5 stars</span></i>\n",
       "                            </span>\n",
       "                            <a class=\"a-link-normal\" target=\"_self\" rel=\"noopener\" href=\"/product-reviews/B00GBVCJ1U/ref=psdc_3752891_r4_B000IMNFUM?_encoding=UTF8&amp;showViewpoints=1\">(443)</a>\n",
       "                            <span class=\"a-letter-space\"></span>\n",
       "                        </span>\n",
       "                    </td>\n",
       "                \n",
       "                    <td class=\"comparison_sim_items_column comparable_item4\">\n",
       "                        \n",
       "                        \n",
       "                        \n",
       "                        <span>\n",
       "                            <span class=\"a-declarative\" data-action=\"a-popover\" data-a-popover=\"{&quot;max-width&quot;:&quot;700&quot;,&quot;closeButton&quot;:&quot;false&quot;,&quot;position&quot;:&quot;triggerBottom&quot;,&quot;url&quot;:&quot; /gp/customer-reviews/widgets/average-customer-review/popover/ref=acr_dpComparsion__popover?contextId=dpComparsion&amp;asin=B000VYOQQ4 &quot;,&quot;restoreFocusOnHide&quot;:&quot;false&quot;}\">\n",
       "                                <i class=\"a-icon a-icon-star a-star-4 a-spacing-none\"><span class=\"a-icon-alt\">4 out of 5 stars</span></i>\n",
       "                            </span>\n",
       "                            <a class=\"a-link-normal\" target=\"_self\" rel=\"noopener\" href=\"/product-reviews/B000VYOQQ4/ref=psdc_3752891_r5_B000IMNFUM?_encoding=UTF8&amp;showViewpoints=1\">(26)</a>\n",
       "                            <span class=\"a-letter-space\"></span>\n",
       "                        </span>\n",
       "                    </td>\n",
       "                \n",
       "            </tr>\n",
       "\n",
       "\n",
       "            <tr id=\"comparison_price_row\">\n",
       "                <th class=\"comparison_attribute_name_column comparison_table_first_col\" role=\"rowheader\">\n",
       "                    <span class=\"a-size-base a-color-base\">Price</span>\n",
       "                </th>\n",
       "\n",
       "\n",
       "                <td class=\"comparison_baseitem_column\">\n",
       "                    \n",
       "                        \n",
       "                        \n",
       "                        \n",
       "                        \n",
       "                            \n",
       "                                \n",
       "                                    <span class=\"a-price\" data-a-size=\"l\" data-a-color=\"base\"><span class=\"a-offscreen\">$38.06</span><span aria-hidden=\"true\"><span class=\"a-price-symbol\">$</span><span class=\"a-price-whole\">38<span class=\"a-price-decimal\">\u0000</span></span><span class=\"a-price-fraction\">06</span></span></span>\n",
       "                                \n",
       "                                \n",
       "                            \n",
       "                        \n",
       "                    \n",
       "                </td>\n",
       "\n",
       "\n",
       "                \n",
       "                    <td class=\"comparison_sim_items_column comparable_item0\">\n",
       "                    \n",
       "                        \n",
       "                        \n",
       "                        \n",
       "                            \n",
       "                                \n",
       "                                    <span class=\"a-price\" data-a-size=\"l\" data-a-color=\"base\"><span class=\"a-offscreen\">$29.96</span><span aria-hidden=\"true\"><span class=\"a-price-symbol\">$</span><span class=\"a-price-whole\">29<span class=\"a-price-decimal\">\u0000</span></span><span class=\"a-price-fraction\">96</span></span></span>\n",
       "                                \n",
       "                                \n",
       "                            \n",
       "                        \n",
       "                    \n",
       "                    </td>\n",
       "                \n",
       "                    <td class=\"comparison_sim_items_column comparable_item1\">\n",
       "                    \n",
       "                        \n",
       "                        \n",
       "                        \n",
       "                            \n",
       "                                \n",
       "                                    <span class=\"a-price\" data-a-size=\"l\" data-a-color=\"base\"><span class=\"a-offscreen\">$6.65</span><span aria-hidden=\"true\"><span class=\"a-price-symbol\">$</span><span class=\"a-price-whole\">6<span class=\"a-price-decimal\">\u0000</span></span><span class=\"a-price-fraction\">65</span></span></span>\n",
       "                                \n",
       "                                \n",
       "                            \n",
       "                        \n",
       "                    \n",
       "                    </td>\n",
       "                \n",
       "                    <td class=\"comparison_sim_items_column comparable_item2\">\n",
       "                    \n",
       "                        \n",
       "                        \n",
       "                        \n",
       "                            \n",
       "                                \n",
       "                                    <span class=\"a-price\" data-a-size=\"l\" data-a-color=\"base\"><span class=\"a-offscreen\">$30.58</span><span aria-hidden=\"true\"><span class=\"a-price-symbol\">$</span><span class=\"a-price-whole\">30<span class=\"a-price-decimal\">\u0000</span></span><span class=\"a-price-fraction\">58</span></span></span>\n",
       "                                \n",
       "                                \n",
       "                            \n",
       "                        \n",
       "                    \n",
       "                    </td>\n",
       "                \n",
       "                    <td class=\"comparison_sim_items_column comparable_item3\">\n",
       "                    \n",
       "                        \n",
       "                        \n",
       "                        \n",
       "                            \n",
       "                                \n",
       "                                    <span class=\"a-price\" data-a-size=\"l\" data-a-color=\"base\"><span class=\"a-offscreen\">$36.81</span><span aria-hidden=\"true\"><span class=\"a-price-symbol\">$</span><span class=\"a-price-whole\">36<span class=\"a-price-decimal\">\u0000</span></span><span class=\"a-price-fraction\">81</span></span></span>\n",
       "                                \n",
       "                                \n",
       "                            \n",
       "                        \n",
       "                    \n",
       "                    </td>\n",
       "                \n",
       "                    <td class=\"comparison_sim_items_column comparable_item4\">\n",
       "                    \n",
       "                        \n",
       "                        \n",
       "                        \n",
       "                            \n",
       "                                \n",
       "                                    <span class=\"a-price\" data-a-size=\"l\" data-a-color=\"base\"><span class=\"a-offscreen\">$37.00</span><span aria-hidden=\"true\"><span class=\"a-price-symbol\">$</span><span class=\"a-price-whole\">37<span class=\"a-price-decimal\">\u0000</span></span><span class=\"a-price-fraction\">00</span></span></span>\n",
       "                                \n",
       "                                \n",
       "                            \n",
       "                        \n",
       "                    \n",
       "                    </td>\n",
       "                \n",
       "            </tr>\n",
       "\n",
       "\n",
       "    \n",
       "                <tr id=\"comparison_shipping_info_row\">\n",
       "                    <th class=\"comparison_attribute_name_column comparison_table_first_col\" role=\"rowheader\">\n",
       "                        <span class=\"a-size-base a-color-base\">Shipping</span>\n",
       "                    </th>\n",
       "\n",
       "    \n",
       "                    <td class=\"comparison_baseitem_column\">\n",
       "                        \n",
       "                            \n",
       "                            \n",
       "                            \n",
       "                                <span class=\"a-size-base a-color-base\">Eligible for FREE Shipping</span>\n",
       "                            \n",
       "                            \n",
       "                            \n",
       "                            \n",
       "                            \n",
       "                        \n",
       "                    </td>\n",
       "\n",
       "    \n",
       "                    \n",
       "                        <td class=\"comparison_sim_items_column comparable_item0\">\n",
       "                            \n",
       "                                \n",
       "                                \n",
       "                                    <span class=\"a-size-base a-color-base\">Eligible for FREE Shipping</span>\n",
       "                                \n",
       "                                \n",
       "                                \n",
       "                                \n",
       "                                \n",
       "                            \n",
       "                        </td>\n",
       "                    \n",
       "                        <td class=\"comparison_sim_items_column comparable_item1\">\n",
       "                            \n",
       "                                \n",
       "                                \n",
       "                                    <span class=\"a-size-base a-color-base\">Eligible for FREE Shipping</span>\n",
       "                                \n",
       "                                \n",
       "                                \n",
       "                                \n",
       "                                \n",
       "                            \n",
       "                        </td>\n",
       "                    \n",
       "                        <td class=\"comparison_sim_items_column comparable_item2\">\n",
       "                            \n",
       "                                \n",
       "                                \n",
       "                                    <span class=\"a-size-base a-color-base\">Eligible for FREE Shipping</span>\n",
       "                                \n",
       "                                \n",
       "                                \n",
       "                                \n",
       "                                \n",
       "                            \n",
       "                        </td>\n",
       "                    \n",
       "                        <td class=\"comparison_sim_items_column comparable_item3\">\n",
       "                            \n",
       "                                \n",
       "                                \n",
       "                                    <span class=\"a-size-base a-color-base\">Eligible for FREE Shipping</span>\n",
       "                                \n",
       "                                \n",
       "                                \n",
       "                                \n",
       "                                \n",
       "                            \n",
       "                        </td>\n",
       "                    \n",
       "                        <td class=\"comparison_sim_items_column comparable_item4\">\n",
       "                            \n",
       "                                \n",
       "                                \n",
       "                                    <span class=\"a-size-base a-color-base\">Eligible for FREE Shipping</span>\n",
       "                                \n",
       "                                \n",
       "                                \n",
       "                                \n",
       "                                \n",
       "                            \n",
       "                        </td>\n",
       "                    \n",
       "                </tr>\n",
       "\n",
       "\n",
       "\n",
       "            <tr id=\"comparison_sold_by_row\">\n",
       "                <th class=\"comparison_attribute_name_column comparison_table_first_col\" role=\"rowheader\">\n",
       "                    <span class=\"a-size-base a-color-base\">Sold By</span>\n",
       "                </th>\n",
       "\n",
       "  \n",
       "                <td class=\"comparison_baseitem_column\">\n",
       "                    \n",
       "                        \n",
       "                        \n",
       "                        \n",
       "                            <a class=\"a-spacing-top-small a-link-normal\" target=\"_self\" rel=\"noopener\" href=\"/gp/help/seller/at-a-glance.html/ref=psdc_3752891_s0_B000IMNFUM?ie=UTF8&amp;seller=A1HGNMNEKOYPYQ\">Champion Values</a>\n",
       "                        \n",
       "                     \n",
       "                </td>\n",
       "\n",
       "\n",
       "                \n",
       "                    <td class=\"comparison_sim_items_column comparable_item0\">\n",
       "                         \n",
       "                            \n",
       "                         \n",
       "                             <a class=\"a-spacing-top-small a-link-normal\" target=\"_self\" rel=\"noopener\" href=\"/gp/help/seller/at-a-glance.html/ref=psdc_3752891_s1_B000IMNFUM?ie=UTF8&amp;seller=A3SBDOAENTRT1F\">VirVentures</a>\n",
       "                         \n",
       "                         \n",
       "                     </td>\n",
       "                \n",
       "                    <td class=\"comparison_sim_items_column comparable_item1\">\n",
       "                         \n",
       "                            \n",
       "                                <span class=\"a-size-base a-color-base\">Amazon.com</span>\n",
       "                            \n",
       "                         \n",
       "                         \n",
       "                     </td>\n",
       "                \n",
       "                    <td class=\"comparison_sim_items_column comparable_item2\">\n",
       "                         \n",
       "                            \n",
       "                                <span class=\"a-size-base a-color-base\">Amazon.com</span>\n",
       "                            \n",
       "                         \n",
       "                         \n",
       "                     </td>\n",
       "                \n",
       "                    <td class=\"comparison_sim_items_column comparable_item3\">\n",
       "                         \n",
       "                            \n",
       "                                <span class=\"a-size-base a-color-base\">Amazon.com</span>\n",
       "                            \n",
       "                         \n",
       "                         \n",
       "                     </td>\n",
       "                \n",
       "                    <td class=\"comparison_sim_items_column comparable_item4\">\n",
       "                         \n",
       "                            \n",
       "                                <span class=\"a-size-base a-color-base\">Amazon.com</span>\n",
       "                            \n",
       "                         \n",
       "                         \n",
       "                     </td>\n",
       "                \n",
       "             </tr>\n",
       "\n",
       "\n",
       "            \n",
       "                <tr>\n",
       "                    <th class=\"a-span3 comparison_attribute_name_column comparison_table_first_col\" role=\"rowheader\">\n",
       "                        <span class=\"a-size-base a-color-base\">Item Dimensions</span>\n",
       "                    </th>\n",
       "                    \n",
       "\n",
       "                    <td class=\"comparison_baseitem_column\">\n",
       "                     \n",
       "                        \n",
       "                            \n",
       "                            \n",
       "                                 <span class=\"a-size-base a-color-base\">5.3 x 15 x 23 in</span>\n",
       "                            \n",
       "                        \n",
       "                    </td>\n",
       "\n",
       "\n",
       "                    \n",
       "                        <td class=\"comparison_sim_items_column comparable_item0\">\n",
       "                            \n",
       "                            \n",
       "                            \n",
       "                               \n",
       "                                  \n",
       "                                  \n",
       "                                      <span class=\"a-size-base a-color-base\">13.5 x 3.75 x 20.25 in</span>\n",
       "                                  \n",
       "                               \n",
       "                        </td>\n",
       "                    \n",
       "                        <td class=\"comparison_sim_items_column comparable_item1\">\n",
       "                            \n",
       "                            \n",
       "                            \n",
       "                               \n",
       "                                  \n",
       "                                  \n",
       "                                      <span class=\"a-size-base a-color-base\">13.78 x 7.87 x 4.72 in</span>\n",
       "                                  \n",
       "                               \n",
       "                        </td>\n",
       "                    \n",
       "                        <td class=\"comparison_sim_items_column comparable_item2\">\n",
       "                            \n",
       "                            \n",
       "                            \n",
       "                               \n",
       "                                  \n",
       "                                  \n",
       "                                      <span class=\"a-size-base a-color-base\">24.1 x 15.4 x 4 in</span>\n",
       "                                  \n",
       "                               \n",
       "                        </td>\n",
       "                    \n",
       "                        <td class=\"comparison_sim_items_column comparable_item3\">\n",
       "                            \n",
       "                            \n",
       "                            \n",
       "                               \n",
       "                                  \n",
       "                                  \n",
       "                                      <span class=\"a-size-base a-color-base\">3.23 x 14.11 x 24.01 in</span>\n",
       "                                  \n",
       "                               \n",
       "                        </td>\n",
       "                    \n",
       "                        <td class=\"comparison_sim_items_column comparable_item4\">\n",
       "                            \n",
       "                            \n",
       "                            \n",
       "                               \n",
       "                                  \n",
       "                                  \n",
       "                                      <span class=\"a-size-base a-color-base\">24 x 15 x 4 in</span>\n",
       "                                  \n",
       "                               \n",
       "                        </td>\n",
       "                    \n",
       "                </tr>\n",
       "            \n",
       "       "
      ],
      "text/plain": [
       "<IPython.core.display.HTML object>"
      ]
     },
     "metadata": {},
     "output_type": "display_data"
    }
   ],
   "source": [
    "for _, row in df[df[\"similar_item\"].map(len) > 0].sample(1).iterrows():\n",
    "    similar_item = row[\"similar_item\"]\n",
    "    display(HTML(similar_item))"
   ]
  },
  {
   "cell_type": "markdown",
   "id": "71e3c156-88f1-464f-a495-2d83142d58cb",
   "metadata": {},
   "source": [
    "**Insights**\n",
    "- 'similar_item' comes in string format but is really html code.\n",
    "- It consists of similar products, they come with an image and a title."
   ]
  }
 ],
 "metadata": {
  "kernelspec": {
   "display_name": "default:Python",
   "language": "python",
   "name": "conda-env-default-py"
  },
  "language_info": {
   "codemirror_mode": {
    "name": "ipython",
    "version": 3
   },
   "file_extension": ".py",
   "mimetype": "text/x-python",
   "name": "python",
   "nbconvert_exporter": "python",
   "pygments_lexer": "ipython3",
   "version": "3.9.16"
  }
 },
 "nbformat": 4,
 "nbformat_minor": 5
}
